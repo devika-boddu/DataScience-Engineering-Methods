{
  "nbformat": 4,
  "nbformat_minor": 0,
  "metadata": {
    "colab": {
      "provenance": []
    },
    "kernelspec": {
      "name": "python3",
      "display_name": "Python 3"
    },
    "language_info": {
      "name": "python"
    },
    "widgets": {
      "application/vnd.jupyter.widget-state+json": {
        "0714d9dd728f42c5b99241b4e6f075e8": {
          "model_module": "@jupyter-widgets/controls",
          "model_name": "HBoxModel",
          "model_module_version": "1.5.0",
          "state": {
            "_dom_classes": [],
            "_model_module": "@jupyter-widgets/controls",
            "_model_module_version": "1.5.0",
            "_model_name": "HBoxModel",
            "_view_count": null,
            "_view_module": "@jupyter-widgets/controls",
            "_view_module_version": "1.5.0",
            "_view_name": "HBoxView",
            "box_style": "",
            "children": [
              "IPY_MODEL_e457d5f888b645219db627b2cec1fe06",
              "IPY_MODEL_2dac69ff1cd2439eb9f42590e49c5fa6",
              "IPY_MODEL_3ac81ead33f045c28c16a70643573f47"
            ],
            "layout": "IPY_MODEL_feb02bb6270246eb938892cf7e6b22f2"
          }
        },
        "e457d5f888b645219db627b2cec1fe06": {
          "model_module": "@jupyter-widgets/controls",
          "model_name": "HTMLModel",
          "model_module_version": "1.5.0",
          "state": {
            "_dom_classes": [],
            "_model_module": "@jupyter-widgets/controls",
            "_model_module_version": "1.5.0",
            "_model_name": "HTMLModel",
            "_view_count": null,
            "_view_module": "@jupyter-widgets/controls",
            "_view_module_version": "1.5.0",
            "_view_name": "HTMLView",
            "description": "",
            "description_tooltip": null,
            "layout": "IPY_MODEL_176284a10ed64659b8e2de1c87587a87",
            "placeholder": "​",
            "style": "IPY_MODEL_2dbf58a820594e4490f9a12eb1163976",
            "value": "Processing: 100%"
          }
        },
        "2dac69ff1cd2439eb9f42590e49c5fa6": {
          "model_module": "@jupyter-widgets/controls",
          "model_name": "FloatProgressModel",
          "model_module_version": "1.5.0",
          "state": {
            "_dom_classes": [],
            "_model_module": "@jupyter-widgets/controls",
            "_model_module_version": "1.5.0",
            "_model_name": "FloatProgressModel",
            "_view_count": null,
            "_view_module": "@jupyter-widgets/controls",
            "_view_module_version": "1.5.0",
            "_view_name": "ProgressView",
            "bar_style": "",
            "description": "",
            "description_tooltip": null,
            "layout": "IPY_MODEL_ad0cf80906784c3ba2610a0760a09de0",
            "max": 65,
            "min": 0,
            "orientation": "horizontal",
            "style": "IPY_MODEL_b6bffdf54e164032b7ce7c41b043d29c",
            "value": 65
          }
        },
        "3ac81ead33f045c28c16a70643573f47": {
          "model_module": "@jupyter-widgets/controls",
          "model_name": "HTMLModel",
          "model_module_version": "1.5.0",
          "state": {
            "_dom_classes": [],
            "_model_module": "@jupyter-widgets/controls",
            "_model_module_version": "1.5.0",
            "_model_name": "HTMLModel",
            "_view_count": null,
            "_view_module": "@jupyter-widgets/controls",
            "_view_module_version": "1.5.0",
            "_view_name": "HTMLView",
            "description": "",
            "description_tooltip": null,
            "layout": "IPY_MODEL_c60bdcb606054dd180800dfece3de25a",
            "placeholder": "​",
            "style": "IPY_MODEL_8ff2a3fa9a714c09ab09c1d85b54a01c",
            "value": " 65/65 [00:49&lt;00:00,  2.09it/s]"
          }
        },
        "feb02bb6270246eb938892cf7e6b22f2": {
          "model_module": "@jupyter-widgets/base",
          "model_name": "LayoutModel",
          "model_module_version": "1.2.0",
          "state": {
            "_model_module": "@jupyter-widgets/base",
            "_model_module_version": "1.2.0",
            "_model_name": "LayoutModel",
            "_view_count": null,
            "_view_module": "@jupyter-widgets/base",
            "_view_module_version": "1.2.0",
            "_view_name": "LayoutView",
            "align_content": null,
            "align_items": null,
            "align_self": null,
            "border": null,
            "bottom": null,
            "display": null,
            "flex": null,
            "flex_flow": null,
            "grid_area": null,
            "grid_auto_columns": null,
            "grid_auto_flow": null,
            "grid_auto_rows": null,
            "grid_column": null,
            "grid_gap": null,
            "grid_row": null,
            "grid_template_areas": null,
            "grid_template_columns": null,
            "grid_template_rows": null,
            "height": null,
            "justify_content": null,
            "justify_items": null,
            "left": null,
            "margin": null,
            "max_height": null,
            "max_width": null,
            "min_height": null,
            "min_width": null,
            "object_fit": null,
            "object_position": null,
            "order": null,
            "overflow": null,
            "overflow_x": null,
            "overflow_y": null,
            "padding": null,
            "right": null,
            "top": null,
            "visibility": "hidden",
            "width": null
          }
        },
        "176284a10ed64659b8e2de1c87587a87": {
          "model_module": "@jupyter-widgets/base",
          "model_name": "LayoutModel",
          "model_module_version": "1.2.0",
          "state": {
            "_model_module": "@jupyter-widgets/base",
            "_model_module_version": "1.2.0",
            "_model_name": "LayoutModel",
            "_view_count": null,
            "_view_module": "@jupyter-widgets/base",
            "_view_module_version": "1.2.0",
            "_view_name": "LayoutView",
            "align_content": null,
            "align_items": null,
            "align_self": null,
            "border": null,
            "bottom": null,
            "display": null,
            "flex": null,
            "flex_flow": null,
            "grid_area": null,
            "grid_auto_columns": null,
            "grid_auto_flow": null,
            "grid_auto_rows": null,
            "grid_column": null,
            "grid_gap": null,
            "grid_row": null,
            "grid_template_areas": null,
            "grid_template_columns": null,
            "grid_template_rows": null,
            "height": null,
            "justify_content": null,
            "justify_items": null,
            "left": null,
            "margin": null,
            "max_height": null,
            "max_width": null,
            "min_height": null,
            "min_width": null,
            "object_fit": null,
            "object_position": null,
            "order": null,
            "overflow": null,
            "overflow_x": null,
            "overflow_y": null,
            "padding": null,
            "right": null,
            "top": null,
            "visibility": null,
            "width": null
          }
        },
        "2dbf58a820594e4490f9a12eb1163976": {
          "model_module": "@jupyter-widgets/controls",
          "model_name": "DescriptionStyleModel",
          "model_module_version": "1.5.0",
          "state": {
            "_model_module": "@jupyter-widgets/controls",
            "_model_module_version": "1.5.0",
            "_model_name": "DescriptionStyleModel",
            "_view_count": null,
            "_view_module": "@jupyter-widgets/base",
            "_view_module_version": "1.2.0",
            "_view_name": "StyleView",
            "description_width": ""
          }
        },
        "ad0cf80906784c3ba2610a0760a09de0": {
          "model_module": "@jupyter-widgets/base",
          "model_name": "LayoutModel",
          "model_module_version": "1.2.0",
          "state": {
            "_model_module": "@jupyter-widgets/base",
            "_model_module_version": "1.2.0",
            "_model_name": "LayoutModel",
            "_view_count": null,
            "_view_module": "@jupyter-widgets/base",
            "_view_module_version": "1.2.0",
            "_view_name": "LayoutView",
            "align_content": null,
            "align_items": null,
            "align_self": null,
            "border": null,
            "bottom": null,
            "display": null,
            "flex": null,
            "flex_flow": null,
            "grid_area": null,
            "grid_auto_columns": null,
            "grid_auto_flow": null,
            "grid_auto_rows": null,
            "grid_column": null,
            "grid_gap": null,
            "grid_row": null,
            "grid_template_areas": null,
            "grid_template_columns": null,
            "grid_template_rows": null,
            "height": null,
            "justify_content": null,
            "justify_items": null,
            "left": null,
            "margin": null,
            "max_height": null,
            "max_width": null,
            "min_height": null,
            "min_width": null,
            "object_fit": null,
            "object_position": null,
            "order": null,
            "overflow": null,
            "overflow_x": null,
            "overflow_y": null,
            "padding": null,
            "right": null,
            "top": null,
            "visibility": null,
            "width": null
          }
        },
        "b6bffdf54e164032b7ce7c41b043d29c": {
          "model_module": "@jupyter-widgets/controls",
          "model_name": "ProgressStyleModel",
          "model_module_version": "1.5.0",
          "state": {
            "_model_module": "@jupyter-widgets/controls",
            "_model_module_version": "1.5.0",
            "_model_name": "ProgressStyleModel",
            "_view_count": null,
            "_view_module": "@jupyter-widgets/base",
            "_view_module_version": "1.2.0",
            "_view_name": "StyleView",
            "bar_color": null,
            "description_width": ""
          }
        },
        "c60bdcb606054dd180800dfece3de25a": {
          "model_module": "@jupyter-widgets/base",
          "model_name": "LayoutModel",
          "model_module_version": "1.2.0",
          "state": {
            "_model_module": "@jupyter-widgets/base",
            "_model_module_version": "1.2.0",
            "_model_name": "LayoutModel",
            "_view_count": null,
            "_view_module": "@jupyter-widgets/base",
            "_view_module_version": "1.2.0",
            "_view_name": "LayoutView",
            "align_content": null,
            "align_items": null,
            "align_self": null,
            "border": null,
            "bottom": null,
            "display": null,
            "flex": null,
            "flex_flow": null,
            "grid_area": null,
            "grid_auto_columns": null,
            "grid_auto_flow": null,
            "grid_auto_rows": null,
            "grid_column": null,
            "grid_gap": null,
            "grid_row": null,
            "grid_template_areas": null,
            "grid_template_columns": null,
            "grid_template_rows": null,
            "height": null,
            "justify_content": null,
            "justify_items": null,
            "left": null,
            "margin": null,
            "max_height": null,
            "max_width": null,
            "min_height": null,
            "min_width": null,
            "object_fit": null,
            "object_position": null,
            "order": null,
            "overflow": null,
            "overflow_x": null,
            "overflow_y": null,
            "padding": null,
            "right": null,
            "top": null,
            "visibility": null,
            "width": null
          }
        },
        "8ff2a3fa9a714c09ab09c1d85b54a01c": {
          "model_module": "@jupyter-widgets/controls",
          "model_name": "DescriptionStyleModel",
          "model_module_version": "1.5.0",
          "state": {
            "_model_module": "@jupyter-widgets/controls",
            "_model_module_version": "1.5.0",
            "_model_name": "DescriptionStyleModel",
            "_view_count": null,
            "_view_module": "@jupyter-widgets/base",
            "_view_module_version": "1.2.0",
            "_view_name": "StyleView",
            "description_width": ""
          }
        },
        "265f00afd7834f74b8d5f587f093fcb1": {
          "model_module": "@jupyter-widgets/controls",
          "model_name": "HBoxModel",
          "model_module_version": "1.5.0",
          "state": {
            "_dom_classes": [],
            "_model_module": "@jupyter-widgets/controls",
            "_model_module_version": "1.5.0",
            "_model_name": "HBoxModel",
            "_view_count": null,
            "_view_module": "@jupyter-widgets/controls",
            "_view_module_version": "1.5.0",
            "_view_name": "HBoxView",
            "box_style": "",
            "children": [
              "IPY_MODEL_9ea20ff1ba1845629f52459f1df9a5e4",
              "IPY_MODEL_02ca4053127d4db191a73f58640c08f5",
              "IPY_MODEL_1781710c175941e09ce3d9e4bf322cff"
            ],
            "layout": "IPY_MODEL_43c1060d76364d36bc51a7b5ffc79d5d"
          }
        },
        "9ea20ff1ba1845629f52459f1df9a5e4": {
          "model_module": "@jupyter-widgets/controls",
          "model_name": "HTMLModel",
          "model_module_version": "1.5.0",
          "state": {
            "_dom_classes": [],
            "_model_module": "@jupyter-widgets/controls",
            "_model_module_version": "1.5.0",
            "_model_name": "HTMLModel",
            "_view_count": null,
            "_view_module": "@jupyter-widgets/controls",
            "_view_module_version": "1.5.0",
            "_view_name": "HTMLView",
            "description": "",
            "description_tooltip": null,
            "layout": "IPY_MODEL_7898b0028ca94d50b78094caf2861acf",
            "placeholder": "​",
            "style": "IPY_MODEL_861bb3296c0144c084703aba15671567",
            "value": "Processing:  75%"
          }
        },
        "02ca4053127d4db191a73f58640c08f5": {
          "model_module": "@jupyter-widgets/controls",
          "model_name": "FloatProgressModel",
          "model_module_version": "1.5.0",
          "state": {
            "_dom_classes": [],
            "_model_module": "@jupyter-widgets/controls",
            "_model_module_version": "1.5.0",
            "_model_name": "FloatProgressModel",
            "_view_count": null,
            "_view_module": "@jupyter-widgets/controls",
            "_view_module_version": "1.5.0",
            "_view_name": "ProgressView",
            "bar_style": "",
            "description": "",
            "description_tooltip": null,
            "layout": "IPY_MODEL_fa9de6cc620240989e588c2ee4d8e79f",
            "max": 4,
            "min": 0,
            "orientation": "horizontal",
            "style": "IPY_MODEL_2ee2b908b74b43e8896ed4ce14cc2ae1",
            "value": 4
          }
        },
        "1781710c175941e09ce3d9e4bf322cff": {
          "model_module": "@jupyter-widgets/controls",
          "model_name": "HTMLModel",
          "model_module_version": "1.5.0",
          "state": {
            "_dom_classes": [],
            "_model_module": "@jupyter-widgets/controls",
            "_model_module_version": "1.5.0",
            "_model_name": "HTMLModel",
            "_view_count": null,
            "_view_module": "@jupyter-widgets/controls",
            "_view_module_version": "1.5.0",
            "_view_name": "HTMLView",
            "description": "",
            "description_tooltip": null,
            "layout": "IPY_MODEL_5d57b7888af34aedaa10e488c4b7d877",
            "placeholder": "​",
            "style": "IPY_MODEL_008ad80d13374828aeab71b7a82d1b48",
            "value": " 3/4 [00:01&lt;00:00,  2.09it/s]"
          }
        },
        "43c1060d76364d36bc51a7b5ffc79d5d": {
          "model_module": "@jupyter-widgets/base",
          "model_name": "LayoutModel",
          "model_module_version": "1.2.0",
          "state": {
            "_model_module": "@jupyter-widgets/base",
            "_model_module_version": "1.2.0",
            "_model_name": "LayoutModel",
            "_view_count": null,
            "_view_module": "@jupyter-widgets/base",
            "_view_module_version": "1.2.0",
            "_view_name": "LayoutView",
            "align_content": null,
            "align_items": null,
            "align_self": null,
            "border": null,
            "bottom": null,
            "display": null,
            "flex": null,
            "flex_flow": null,
            "grid_area": null,
            "grid_auto_columns": null,
            "grid_auto_flow": null,
            "grid_auto_rows": null,
            "grid_column": null,
            "grid_gap": null,
            "grid_row": null,
            "grid_template_areas": null,
            "grid_template_columns": null,
            "grid_template_rows": null,
            "height": null,
            "justify_content": null,
            "justify_items": null,
            "left": null,
            "margin": null,
            "max_height": null,
            "max_width": null,
            "min_height": null,
            "min_width": null,
            "object_fit": null,
            "object_position": null,
            "order": null,
            "overflow": null,
            "overflow_x": null,
            "overflow_y": null,
            "padding": null,
            "right": null,
            "top": null,
            "visibility": "hidden",
            "width": null
          }
        },
        "7898b0028ca94d50b78094caf2861acf": {
          "model_module": "@jupyter-widgets/base",
          "model_name": "LayoutModel",
          "model_module_version": "1.2.0",
          "state": {
            "_model_module": "@jupyter-widgets/base",
            "_model_module_version": "1.2.0",
            "_model_name": "LayoutModel",
            "_view_count": null,
            "_view_module": "@jupyter-widgets/base",
            "_view_module_version": "1.2.0",
            "_view_name": "LayoutView",
            "align_content": null,
            "align_items": null,
            "align_self": null,
            "border": null,
            "bottom": null,
            "display": null,
            "flex": null,
            "flex_flow": null,
            "grid_area": null,
            "grid_auto_columns": null,
            "grid_auto_flow": null,
            "grid_auto_rows": null,
            "grid_column": null,
            "grid_gap": null,
            "grid_row": null,
            "grid_template_areas": null,
            "grid_template_columns": null,
            "grid_template_rows": null,
            "height": null,
            "justify_content": null,
            "justify_items": null,
            "left": null,
            "margin": null,
            "max_height": null,
            "max_width": null,
            "min_height": null,
            "min_width": null,
            "object_fit": null,
            "object_position": null,
            "order": null,
            "overflow": null,
            "overflow_x": null,
            "overflow_y": null,
            "padding": null,
            "right": null,
            "top": null,
            "visibility": null,
            "width": null
          }
        },
        "861bb3296c0144c084703aba15671567": {
          "model_module": "@jupyter-widgets/controls",
          "model_name": "DescriptionStyleModel",
          "model_module_version": "1.5.0",
          "state": {
            "_model_module": "@jupyter-widgets/controls",
            "_model_module_version": "1.5.0",
            "_model_name": "DescriptionStyleModel",
            "_view_count": null,
            "_view_module": "@jupyter-widgets/base",
            "_view_module_version": "1.2.0",
            "_view_name": "StyleView",
            "description_width": ""
          }
        },
        "fa9de6cc620240989e588c2ee4d8e79f": {
          "model_module": "@jupyter-widgets/base",
          "model_name": "LayoutModel",
          "model_module_version": "1.2.0",
          "state": {
            "_model_module": "@jupyter-widgets/base",
            "_model_module_version": "1.2.0",
            "_model_name": "LayoutModel",
            "_view_count": null,
            "_view_module": "@jupyter-widgets/base",
            "_view_module_version": "1.2.0",
            "_view_name": "LayoutView",
            "align_content": null,
            "align_items": null,
            "align_self": null,
            "border": null,
            "bottom": null,
            "display": null,
            "flex": null,
            "flex_flow": null,
            "grid_area": null,
            "grid_auto_columns": null,
            "grid_auto_flow": null,
            "grid_auto_rows": null,
            "grid_column": null,
            "grid_gap": null,
            "grid_row": null,
            "grid_template_areas": null,
            "grid_template_columns": null,
            "grid_template_rows": null,
            "height": null,
            "justify_content": null,
            "justify_items": null,
            "left": null,
            "margin": null,
            "max_height": null,
            "max_width": null,
            "min_height": null,
            "min_width": null,
            "object_fit": null,
            "object_position": null,
            "order": null,
            "overflow": null,
            "overflow_x": null,
            "overflow_y": null,
            "padding": null,
            "right": null,
            "top": null,
            "visibility": null,
            "width": null
          }
        },
        "2ee2b908b74b43e8896ed4ce14cc2ae1": {
          "model_module": "@jupyter-widgets/controls",
          "model_name": "ProgressStyleModel",
          "model_module_version": "1.5.0",
          "state": {
            "_model_module": "@jupyter-widgets/controls",
            "_model_module_version": "1.5.0",
            "_model_name": "ProgressStyleModel",
            "_view_count": null,
            "_view_module": "@jupyter-widgets/base",
            "_view_module_version": "1.2.0",
            "_view_name": "StyleView",
            "bar_color": null,
            "description_width": ""
          }
        },
        "5d57b7888af34aedaa10e488c4b7d877": {
          "model_module": "@jupyter-widgets/base",
          "model_name": "LayoutModel",
          "model_module_version": "1.2.0",
          "state": {
            "_model_module": "@jupyter-widgets/base",
            "_model_module_version": "1.2.0",
            "_model_name": "LayoutModel",
            "_view_count": null,
            "_view_module": "@jupyter-widgets/base",
            "_view_module_version": "1.2.0",
            "_view_name": "LayoutView",
            "align_content": null,
            "align_items": null,
            "align_self": null,
            "border": null,
            "bottom": null,
            "display": null,
            "flex": null,
            "flex_flow": null,
            "grid_area": null,
            "grid_auto_columns": null,
            "grid_auto_flow": null,
            "grid_auto_rows": null,
            "grid_column": null,
            "grid_gap": null,
            "grid_row": null,
            "grid_template_areas": null,
            "grid_template_columns": null,
            "grid_template_rows": null,
            "height": null,
            "justify_content": null,
            "justify_items": null,
            "left": null,
            "margin": null,
            "max_height": null,
            "max_width": null,
            "min_height": null,
            "min_width": null,
            "object_fit": null,
            "object_position": null,
            "order": null,
            "overflow": null,
            "overflow_x": null,
            "overflow_y": null,
            "padding": null,
            "right": null,
            "top": null,
            "visibility": null,
            "width": null
          }
        },
        "008ad80d13374828aeab71b7a82d1b48": {
          "model_module": "@jupyter-widgets/controls",
          "model_name": "DescriptionStyleModel",
          "model_module_version": "1.5.0",
          "state": {
            "_model_module": "@jupyter-widgets/controls",
            "_model_module_version": "1.5.0",
            "_model_name": "DescriptionStyleModel",
            "_view_count": null,
            "_view_module": "@jupyter-widgets/base",
            "_view_module_version": "1.2.0",
            "_view_name": "StyleView",
            "description_width": ""
          }
        },
        "1d6b2f24ed604ab9bcb3e464383d8242": {
          "model_module": "@jupyter-widgets/controls",
          "model_name": "HBoxModel",
          "model_module_version": "1.5.0",
          "state": {
            "_dom_classes": [],
            "_model_module": "@jupyter-widgets/controls",
            "_model_module_version": "1.5.0",
            "_model_name": "HBoxModel",
            "_view_count": null,
            "_view_module": "@jupyter-widgets/controls",
            "_view_module_version": "1.5.0",
            "_view_name": "HBoxView",
            "box_style": "",
            "children": [
              "IPY_MODEL_9297fa76208448cc908d975ade632103",
              "IPY_MODEL_93b256dfc1b34823a6e5144b927b6255",
              "IPY_MODEL_cffece49cdc342cc8b24876a12e1e878"
            ],
            "layout": "IPY_MODEL_da6539a7c2a247cc937e3491a8054c18"
          }
        },
        "9297fa76208448cc908d975ade632103": {
          "model_module": "@jupyter-widgets/controls",
          "model_name": "HTMLModel",
          "model_module_version": "1.5.0",
          "state": {
            "_dom_classes": [],
            "_model_module": "@jupyter-widgets/controls",
            "_model_module_version": "1.5.0",
            "_model_name": "HTMLModel",
            "_view_count": null,
            "_view_module": "@jupyter-widgets/controls",
            "_view_module_version": "1.5.0",
            "_view_name": "HTMLView",
            "description": "",
            "description_tooltip": null,
            "layout": "IPY_MODEL_47d5c68ea768452983d578965ace085a",
            "placeholder": "​",
            "style": "IPY_MODEL_9dec5290f1ac47b0bf7948a973d4f6cc",
            "value": "Processing: 100%"
          }
        },
        "93b256dfc1b34823a6e5144b927b6255": {
          "model_module": "@jupyter-widgets/controls",
          "model_name": "FloatProgressModel",
          "model_module_version": "1.5.0",
          "state": {
            "_dom_classes": [],
            "_model_module": "@jupyter-widgets/controls",
            "_model_module_version": "1.5.0",
            "_model_name": "FloatProgressModel",
            "_view_count": null,
            "_view_module": "@jupyter-widgets/controls",
            "_view_module_version": "1.5.0",
            "_view_name": "ProgressView",
            "bar_style": "",
            "description": "",
            "description_tooltip": null,
            "layout": "IPY_MODEL_a39f2ee632de4c589197e3064b24d5d7",
            "max": 7,
            "min": 0,
            "orientation": "horizontal",
            "style": "IPY_MODEL_4687e5441662467e875afb891931412a",
            "value": 7
          }
        },
        "cffece49cdc342cc8b24876a12e1e878": {
          "model_module": "@jupyter-widgets/controls",
          "model_name": "HTMLModel",
          "model_module_version": "1.5.0",
          "state": {
            "_dom_classes": [],
            "_model_module": "@jupyter-widgets/controls",
            "_model_module_version": "1.5.0",
            "_model_name": "HTMLModel",
            "_view_count": null,
            "_view_module": "@jupyter-widgets/controls",
            "_view_module_version": "1.5.0",
            "_view_name": "HTMLView",
            "description": "",
            "description_tooltip": null,
            "layout": "IPY_MODEL_4b505d33ba8a48fa80773db76af8f555",
            "placeholder": "​",
            "style": "IPY_MODEL_fce6d7e99aff4fea82c6f3055a61f926",
            "value": " 7/7 [00:12&lt;00:00,  1.45s/it]"
          }
        },
        "da6539a7c2a247cc937e3491a8054c18": {
          "model_module": "@jupyter-widgets/base",
          "model_name": "LayoutModel",
          "model_module_version": "1.2.0",
          "state": {
            "_model_module": "@jupyter-widgets/base",
            "_model_module_version": "1.2.0",
            "_model_name": "LayoutModel",
            "_view_count": null,
            "_view_module": "@jupyter-widgets/base",
            "_view_module_version": "1.2.0",
            "_view_name": "LayoutView",
            "align_content": null,
            "align_items": null,
            "align_self": null,
            "border": null,
            "bottom": null,
            "display": null,
            "flex": null,
            "flex_flow": null,
            "grid_area": null,
            "grid_auto_columns": null,
            "grid_auto_flow": null,
            "grid_auto_rows": null,
            "grid_column": null,
            "grid_gap": null,
            "grid_row": null,
            "grid_template_areas": null,
            "grid_template_columns": null,
            "grid_template_rows": null,
            "height": null,
            "justify_content": null,
            "justify_items": null,
            "left": null,
            "margin": null,
            "max_height": null,
            "max_width": null,
            "min_height": null,
            "min_width": null,
            "object_fit": null,
            "object_position": null,
            "order": null,
            "overflow": null,
            "overflow_x": null,
            "overflow_y": null,
            "padding": null,
            "right": null,
            "top": null,
            "visibility": "hidden",
            "width": null
          }
        },
        "47d5c68ea768452983d578965ace085a": {
          "model_module": "@jupyter-widgets/base",
          "model_name": "LayoutModel",
          "model_module_version": "1.2.0",
          "state": {
            "_model_module": "@jupyter-widgets/base",
            "_model_module_version": "1.2.0",
            "_model_name": "LayoutModel",
            "_view_count": null,
            "_view_module": "@jupyter-widgets/base",
            "_view_module_version": "1.2.0",
            "_view_name": "LayoutView",
            "align_content": null,
            "align_items": null,
            "align_self": null,
            "border": null,
            "bottom": null,
            "display": null,
            "flex": null,
            "flex_flow": null,
            "grid_area": null,
            "grid_auto_columns": null,
            "grid_auto_flow": null,
            "grid_auto_rows": null,
            "grid_column": null,
            "grid_gap": null,
            "grid_row": null,
            "grid_template_areas": null,
            "grid_template_columns": null,
            "grid_template_rows": null,
            "height": null,
            "justify_content": null,
            "justify_items": null,
            "left": null,
            "margin": null,
            "max_height": null,
            "max_width": null,
            "min_height": null,
            "min_width": null,
            "object_fit": null,
            "object_position": null,
            "order": null,
            "overflow": null,
            "overflow_x": null,
            "overflow_y": null,
            "padding": null,
            "right": null,
            "top": null,
            "visibility": null,
            "width": null
          }
        },
        "9dec5290f1ac47b0bf7948a973d4f6cc": {
          "model_module": "@jupyter-widgets/controls",
          "model_name": "DescriptionStyleModel",
          "model_module_version": "1.5.0",
          "state": {
            "_model_module": "@jupyter-widgets/controls",
            "_model_module_version": "1.5.0",
            "_model_name": "DescriptionStyleModel",
            "_view_count": null,
            "_view_module": "@jupyter-widgets/base",
            "_view_module_version": "1.2.0",
            "_view_name": "StyleView",
            "description_width": ""
          }
        },
        "a39f2ee632de4c589197e3064b24d5d7": {
          "model_module": "@jupyter-widgets/base",
          "model_name": "LayoutModel",
          "model_module_version": "1.2.0",
          "state": {
            "_model_module": "@jupyter-widgets/base",
            "_model_module_version": "1.2.0",
            "_model_name": "LayoutModel",
            "_view_count": null,
            "_view_module": "@jupyter-widgets/base",
            "_view_module_version": "1.2.0",
            "_view_name": "LayoutView",
            "align_content": null,
            "align_items": null,
            "align_self": null,
            "border": null,
            "bottom": null,
            "display": null,
            "flex": null,
            "flex_flow": null,
            "grid_area": null,
            "grid_auto_columns": null,
            "grid_auto_flow": null,
            "grid_auto_rows": null,
            "grid_column": null,
            "grid_gap": null,
            "grid_row": null,
            "grid_template_areas": null,
            "grid_template_columns": null,
            "grid_template_rows": null,
            "height": null,
            "justify_content": null,
            "justify_items": null,
            "left": null,
            "margin": null,
            "max_height": null,
            "max_width": null,
            "min_height": null,
            "min_width": null,
            "object_fit": null,
            "object_position": null,
            "order": null,
            "overflow": null,
            "overflow_x": null,
            "overflow_y": null,
            "padding": null,
            "right": null,
            "top": null,
            "visibility": null,
            "width": null
          }
        },
        "4687e5441662467e875afb891931412a": {
          "model_module": "@jupyter-widgets/controls",
          "model_name": "ProgressStyleModel",
          "model_module_version": "1.5.0",
          "state": {
            "_model_module": "@jupyter-widgets/controls",
            "_model_module_version": "1.5.0",
            "_model_name": "ProgressStyleModel",
            "_view_count": null,
            "_view_module": "@jupyter-widgets/base",
            "_view_module_version": "1.2.0",
            "_view_name": "StyleView",
            "bar_color": null,
            "description_width": ""
          }
        },
        "4b505d33ba8a48fa80773db76af8f555": {
          "model_module": "@jupyter-widgets/base",
          "model_name": "LayoutModel",
          "model_module_version": "1.2.0",
          "state": {
            "_model_module": "@jupyter-widgets/base",
            "_model_module_version": "1.2.0",
            "_model_name": "LayoutModel",
            "_view_count": null,
            "_view_module": "@jupyter-widgets/base",
            "_view_module_version": "1.2.0",
            "_view_name": "LayoutView",
            "align_content": null,
            "align_items": null,
            "align_self": null,
            "border": null,
            "bottom": null,
            "display": null,
            "flex": null,
            "flex_flow": null,
            "grid_area": null,
            "grid_auto_columns": null,
            "grid_auto_flow": null,
            "grid_auto_rows": null,
            "grid_column": null,
            "grid_gap": null,
            "grid_row": null,
            "grid_template_areas": null,
            "grid_template_columns": null,
            "grid_template_rows": null,
            "height": null,
            "justify_content": null,
            "justify_items": null,
            "left": null,
            "margin": null,
            "max_height": null,
            "max_width": null,
            "min_height": null,
            "min_width": null,
            "object_fit": null,
            "object_position": null,
            "order": null,
            "overflow": null,
            "overflow_x": null,
            "overflow_y": null,
            "padding": null,
            "right": null,
            "top": null,
            "visibility": null,
            "width": null
          }
        },
        "fce6d7e99aff4fea82c6f3055a61f926": {
          "model_module": "@jupyter-widgets/controls",
          "model_name": "DescriptionStyleModel",
          "model_module_version": "1.5.0",
          "state": {
            "_model_module": "@jupyter-widgets/controls",
            "_model_module_version": "1.5.0",
            "_model_name": "DescriptionStyleModel",
            "_view_count": null,
            "_view_module": "@jupyter-widgets/base",
            "_view_module_version": "1.2.0",
            "_view_name": "StyleView",
            "description_width": ""
          }
        },
        "b3d0e061a0d94f948b2d952aec30bb10": {
          "model_module": "@jupyter-widgets/controls",
          "model_name": "HBoxModel",
          "model_module_version": "1.5.0",
          "state": {
            "_dom_classes": [],
            "_model_module": "@jupyter-widgets/controls",
            "_model_module_version": "1.5.0",
            "_model_name": "HBoxModel",
            "_view_count": null,
            "_view_module": "@jupyter-widgets/controls",
            "_view_module_version": "1.5.0",
            "_view_name": "HBoxView",
            "box_style": "",
            "children": [
              "IPY_MODEL_8e4fbfbfe1eb447e92fb7cf4d27d5990",
              "IPY_MODEL_1db3eb064e144d3484bfe5b2459dc34b",
              "IPY_MODEL_f483c2ddf93f402d831ce6804e740767"
            ],
            "layout": "IPY_MODEL_40c04da692d14fd792a6d359d7c90d9e"
          }
        },
        "8e4fbfbfe1eb447e92fb7cf4d27d5990": {
          "model_module": "@jupyter-widgets/controls",
          "model_name": "HTMLModel",
          "model_module_version": "1.5.0",
          "state": {
            "_dom_classes": [],
            "_model_module": "@jupyter-widgets/controls",
            "_model_module_version": "1.5.0",
            "_model_name": "HTMLModel",
            "_view_count": null,
            "_view_module": "@jupyter-widgets/controls",
            "_view_module_version": "1.5.0",
            "_view_name": "HTMLView",
            "description": "",
            "description_tooltip": null,
            "layout": "IPY_MODEL_5345e60739b847e69bf559d664749bb1",
            "placeholder": "​",
            "style": "IPY_MODEL_5805a11b2db24f9086aad0f76ca8167a",
            "value": "Processing: 100%"
          }
        },
        "1db3eb064e144d3484bfe5b2459dc34b": {
          "model_module": "@jupyter-widgets/controls",
          "model_name": "FloatProgressModel",
          "model_module_version": "1.5.0",
          "state": {
            "_dom_classes": [],
            "_model_module": "@jupyter-widgets/controls",
            "_model_module_version": "1.5.0",
            "_model_name": "FloatProgressModel",
            "_view_count": null,
            "_view_module": "@jupyter-widgets/controls",
            "_view_module_version": "1.5.0",
            "_view_name": "ProgressView",
            "bar_style": "",
            "description": "",
            "description_tooltip": null,
            "layout": "IPY_MODEL_232fb1006abd4c74ac41a23d03b06ed2",
            "max": 65,
            "min": 0,
            "orientation": "horizontal",
            "style": "IPY_MODEL_8ab7caf2a3bc44179cc34a4ef8839ba8",
            "value": 65
          }
        },
        "f483c2ddf93f402d831ce6804e740767": {
          "model_module": "@jupyter-widgets/controls",
          "model_name": "HTMLModel",
          "model_module_version": "1.5.0",
          "state": {
            "_dom_classes": [],
            "_model_module": "@jupyter-widgets/controls",
            "_model_module_version": "1.5.0",
            "_model_name": "HTMLModel",
            "_view_count": null,
            "_view_module": "@jupyter-widgets/controls",
            "_view_module_version": "1.5.0",
            "_view_name": "HTMLView",
            "description": "",
            "description_tooltip": null,
            "layout": "IPY_MODEL_9d80828465f64db7bc1c597d466cff7b",
            "placeholder": "​",
            "style": "IPY_MODEL_9abad47e584c4d44a7dcc62e79514714",
            "value": " 65/65 [00:33&lt;00:00,  2.37it/s]"
          }
        },
        "40c04da692d14fd792a6d359d7c90d9e": {
          "model_module": "@jupyter-widgets/base",
          "model_name": "LayoutModel",
          "model_module_version": "1.2.0",
          "state": {
            "_model_module": "@jupyter-widgets/base",
            "_model_module_version": "1.2.0",
            "_model_name": "LayoutModel",
            "_view_count": null,
            "_view_module": "@jupyter-widgets/base",
            "_view_module_version": "1.2.0",
            "_view_name": "LayoutView",
            "align_content": null,
            "align_items": null,
            "align_self": null,
            "border": null,
            "bottom": null,
            "display": null,
            "flex": null,
            "flex_flow": null,
            "grid_area": null,
            "grid_auto_columns": null,
            "grid_auto_flow": null,
            "grid_auto_rows": null,
            "grid_column": null,
            "grid_gap": null,
            "grid_row": null,
            "grid_template_areas": null,
            "grid_template_columns": null,
            "grid_template_rows": null,
            "height": null,
            "justify_content": null,
            "justify_items": null,
            "left": null,
            "margin": null,
            "max_height": null,
            "max_width": null,
            "min_height": null,
            "min_width": null,
            "object_fit": null,
            "object_position": null,
            "order": null,
            "overflow": null,
            "overflow_x": null,
            "overflow_y": null,
            "padding": null,
            "right": null,
            "top": null,
            "visibility": "hidden",
            "width": null
          }
        },
        "5345e60739b847e69bf559d664749bb1": {
          "model_module": "@jupyter-widgets/base",
          "model_name": "LayoutModel",
          "model_module_version": "1.2.0",
          "state": {
            "_model_module": "@jupyter-widgets/base",
            "_model_module_version": "1.2.0",
            "_model_name": "LayoutModel",
            "_view_count": null,
            "_view_module": "@jupyter-widgets/base",
            "_view_module_version": "1.2.0",
            "_view_name": "LayoutView",
            "align_content": null,
            "align_items": null,
            "align_self": null,
            "border": null,
            "bottom": null,
            "display": null,
            "flex": null,
            "flex_flow": null,
            "grid_area": null,
            "grid_auto_columns": null,
            "grid_auto_flow": null,
            "grid_auto_rows": null,
            "grid_column": null,
            "grid_gap": null,
            "grid_row": null,
            "grid_template_areas": null,
            "grid_template_columns": null,
            "grid_template_rows": null,
            "height": null,
            "justify_content": null,
            "justify_items": null,
            "left": null,
            "margin": null,
            "max_height": null,
            "max_width": null,
            "min_height": null,
            "min_width": null,
            "object_fit": null,
            "object_position": null,
            "order": null,
            "overflow": null,
            "overflow_x": null,
            "overflow_y": null,
            "padding": null,
            "right": null,
            "top": null,
            "visibility": null,
            "width": null
          }
        },
        "5805a11b2db24f9086aad0f76ca8167a": {
          "model_module": "@jupyter-widgets/controls",
          "model_name": "DescriptionStyleModel",
          "model_module_version": "1.5.0",
          "state": {
            "_model_module": "@jupyter-widgets/controls",
            "_model_module_version": "1.5.0",
            "_model_name": "DescriptionStyleModel",
            "_view_count": null,
            "_view_module": "@jupyter-widgets/base",
            "_view_module_version": "1.2.0",
            "_view_name": "StyleView",
            "description_width": ""
          }
        },
        "232fb1006abd4c74ac41a23d03b06ed2": {
          "model_module": "@jupyter-widgets/base",
          "model_name": "LayoutModel",
          "model_module_version": "1.2.0",
          "state": {
            "_model_module": "@jupyter-widgets/base",
            "_model_module_version": "1.2.0",
            "_model_name": "LayoutModel",
            "_view_count": null,
            "_view_module": "@jupyter-widgets/base",
            "_view_module_version": "1.2.0",
            "_view_name": "LayoutView",
            "align_content": null,
            "align_items": null,
            "align_self": null,
            "border": null,
            "bottom": null,
            "display": null,
            "flex": null,
            "flex_flow": null,
            "grid_area": null,
            "grid_auto_columns": null,
            "grid_auto_flow": null,
            "grid_auto_rows": null,
            "grid_column": null,
            "grid_gap": null,
            "grid_row": null,
            "grid_template_areas": null,
            "grid_template_columns": null,
            "grid_template_rows": null,
            "height": null,
            "justify_content": null,
            "justify_items": null,
            "left": null,
            "margin": null,
            "max_height": null,
            "max_width": null,
            "min_height": null,
            "min_width": null,
            "object_fit": null,
            "object_position": null,
            "order": null,
            "overflow": null,
            "overflow_x": null,
            "overflow_y": null,
            "padding": null,
            "right": null,
            "top": null,
            "visibility": null,
            "width": null
          }
        },
        "8ab7caf2a3bc44179cc34a4ef8839ba8": {
          "model_module": "@jupyter-widgets/controls",
          "model_name": "ProgressStyleModel",
          "model_module_version": "1.5.0",
          "state": {
            "_model_module": "@jupyter-widgets/controls",
            "_model_module_version": "1.5.0",
            "_model_name": "ProgressStyleModel",
            "_view_count": null,
            "_view_module": "@jupyter-widgets/base",
            "_view_module_version": "1.2.0",
            "_view_name": "StyleView",
            "bar_color": null,
            "description_width": ""
          }
        },
        "9d80828465f64db7bc1c597d466cff7b": {
          "model_module": "@jupyter-widgets/base",
          "model_name": "LayoutModel",
          "model_module_version": "1.2.0",
          "state": {
            "_model_module": "@jupyter-widgets/base",
            "_model_module_version": "1.2.0",
            "_model_name": "LayoutModel",
            "_view_count": null,
            "_view_module": "@jupyter-widgets/base",
            "_view_module_version": "1.2.0",
            "_view_name": "LayoutView",
            "align_content": null,
            "align_items": null,
            "align_self": null,
            "border": null,
            "bottom": null,
            "display": null,
            "flex": null,
            "flex_flow": null,
            "grid_area": null,
            "grid_auto_columns": null,
            "grid_auto_flow": null,
            "grid_auto_rows": null,
            "grid_column": null,
            "grid_gap": null,
            "grid_row": null,
            "grid_template_areas": null,
            "grid_template_columns": null,
            "grid_template_rows": null,
            "height": null,
            "justify_content": null,
            "justify_items": null,
            "left": null,
            "margin": null,
            "max_height": null,
            "max_width": null,
            "min_height": null,
            "min_width": null,
            "object_fit": null,
            "object_position": null,
            "order": null,
            "overflow": null,
            "overflow_x": null,
            "overflow_y": null,
            "padding": null,
            "right": null,
            "top": null,
            "visibility": null,
            "width": null
          }
        },
        "9abad47e584c4d44a7dcc62e79514714": {
          "model_module": "@jupyter-widgets/controls",
          "model_name": "DescriptionStyleModel",
          "model_module_version": "1.5.0",
          "state": {
            "_model_module": "@jupyter-widgets/controls",
            "_model_module_version": "1.5.0",
            "_model_name": "DescriptionStyleModel",
            "_view_count": null,
            "_view_module": "@jupyter-widgets/base",
            "_view_module_version": "1.2.0",
            "_view_name": "StyleView",
            "description_width": ""
          }
        },
        "5af2ca371be04701bc2262bb9823c458": {
          "model_module": "@jupyter-widgets/controls",
          "model_name": "HBoxModel",
          "model_module_version": "1.5.0",
          "state": {
            "_dom_classes": [],
            "_model_module": "@jupyter-widgets/controls",
            "_model_module_version": "1.5.0",
            "_model_name": "HBoxModel",
            "_view_count": null,
            "_view_module": "@jupyter-widgets/controls",
            "_view_module_version": "1.5.0",
            "_view_name": "HBoxView",
            "box_style": "",
            "children": [
              "IPY_MODEL_fbe3857d04d647b7a245d23eb625f6ce",
              "IPY_MODEL_2fac0a164ec74f7088d6bdc5779c8702",
              "IPY_MODEL_1283e790948c4b7b8377d881800ed3bf"
            ],
            "layout": "IPY_MODEL_6099d9684eae40379351e57f644c4fac"
          }
        },
        "fbe3857d04d647b7a245d23eb625f6ce": {
          "model_module": "@jupyter-widgets/controls",
          "model_name": "HTMLModel",
          "model_module_version": "1.5.0",
          "state": {
            "_dom_classes": [],
            "_model_module": "@jupyter-widgets/controls",
            "_model_module_version": "1.5.0",
            "_model_name": "HTMLModel",
            "_view_count": null,
            "_view_module": "@jupyter-widgets/controls",
            "_view_module_version": "1.5.0",
            "_view_name": "HTMLView",
            "description": "",
            "description_tooltip": null,
            "layout": "IPY_MODEL_c9a0aa3fef1d45c4b32c5297e9632888",
            "placeholder": "​",
            "style": "IPY_MODEL_f1c9f186d9654596816a542eb1b267e1",
            "value": "Processing: 100%"
          }
        },
        "2fac0a164ec74f7088d6bdc5779c8702": {
          "model_module": "@jupyter-widgets/controls",
          "model_name": "FloatProgressModel",
          "model_module_version": "1.5.0",
          "state": {
            "_dom_classes": [],
            "_model_module": "@jupyter-widgets/controls",
            "_model_module_version": "1.5.0",
            "_model_name": "FloatProgressModel",
            "_view_count": null,
            "_view_module": "@jupyter-widgets/controls",
            "_view_module_version": "1.5.0",
            "_view_name": "ProgressView",
            "bar_style": "",
            "description": "",
            "description_tooltip": null,
            "layout": "IPY_MODEL_25b020d82ad04999a4564aeef19fd3b7",
            "max": 4,
            "min": 0,
            "orientation": "horizontal",
            "style": "IPY_MODEL_274261083a4b4b308cffe1d01a8e6982",
            "value": 4
          }
        },
        "1283e790948c4b7b8377d881800ed3bf": {
          "model_module": "@jupyter-widgets/controls",
          "model_name": "HTMLModel",
          "model_module_version": "1.5.0",
          "state": {
            "_dom_classes": [],
            "_model_module": "@jupyter-widgets/controls",
            "_model_module_version": "1.5.0",
            "_model_name": "HTMLModel",
            "_view_count": null,
            "_view_module": "@jupyter-widgets/controls",
            "_view_module_version": "1.5.0",
            "_view_name": "HTMLView",
            "description": "",
            "description_tooltip": null,
            "layout": "IPY_MODEL_2c99d1bcfb6740a383d66b1e06353ca9",
            "placeholder": "​",
            "style": "IPY_MODEL_556ddc49147a4a45b3765bd1ee22531b",
            "value": " 4/4 [00:03&lt;00:00,  1.25it/s]"
          }
        },
        "6099d9684eae40379351e57f644c4fac": {
          "model_module": "@jupyter-widgets/base",
          "model_name": "LayoutModel",
          "model_module_version": "1.2.0",
          "state": {
            "_model_module": "@jupyter-widgets/base",
            "_model_module_version": "1.2.0",
            "_model_name": "LayoutModel",
            "_view_count": null,
            "_view_module": "@jupyter-widgets/base",
            "_view_module_version": "1.2.0",
            "_view_name": "LayoutView",
            "align_content": null,
            "align_items": null,
            "align_self": null,
            "border": null,
            "bottom": null,
            "display": null,
            "flex": null,
            "flex_flow": null,
            "grid_area": null,
            "grid_auto_columns": null,
            "grid_auto_flow": null,
            "grid_auto_rows": null,
            "grid_column": null,
            "grid_gap": null,
            "grid_row": null,
            "grid_template_areas": null,
            "grid_template_columns": null,
            "grid_template_rows": null,
            "height": null,
            "justify_content": null,
            "justify_items": null,
            "left": null,
            "margin": null,
            "max_height": null,
            "max_width": null,
            "min_height": null,
            "min_width": null,
            "object_fit": null,
            "object_position": null,
            "order": null,
            "overflow": null,
            "overflow_x": null,
            "overflow_y": null,
            "padding": null,
            "right": null,
            "top": null,
            "visibility": "hidden",
            "width": null
          }
        },
        "c9a0aa3fef1d45c4b32c5297e9632888": {
          "model_module": "@jupyter-widgets/base",
          "model_name": "LayoutModel",
          "model_module_version": "1.2.0",
          "state": {
            "_model_module": "@jupyter-widgets/base",
            "_model_module_version": "1.2.0",
            "_model_name": "LayoutModel",
            "_view_count": null,
            "_view_module": "@jupyter-widgets/base",
            "_view_module_version": "1.2.0",
            "_view_name": "LayoutView",
            "align_content": null,
            "align_items": null,
            "align_self": null,
            "border": null,
            "bottom": null,
            "display": null,
            "flex": null,
            "flex_flow": null,
            "grid_area": null,
            "grid_auto_columns": null,
            "grid_auto_flow": null,
            "grid_auto_rows": null,
            "grid_column": null,
            "grid_gap": null,
            "grid_row": null,
            "grid_template_areas": null,
            "grid_template_columns": null,
            "grid_template_rows": null,
            "height": null,
            "justify_content": null,
            "justify_items": null,
            "left": null,
            "margin": null,
            "max_height": null,
            "max_width": null,
            "min_height": null,
            "min_width": null,
            "object_fit": null,
            "object_position": null,
            "order": null,
            "overflow": null,
            "overflow_x": null,
            "overflow_y": null,
            "padding": null,
            "right": null,
            "top": null,
            "visibility": null,
            "width": null
          }
        },
        "f1c9f186d9654596816a542eb1b267e1": {
          "model_module": "@jupyter-widgets/controls",
          "model_name": "DescriptionStyleModel",
          "model_module_version": "1.5.0",
          "state": {
            "_model_module": "@jupyter-widgets/controls",
            "_model_module_version": "1.5.0",
            "_model_name": "DescriptionStyleModel",
            "_view_count": null,
            "_view_module": "@jupyter-widgets/base",
            "_view_module_version": "1.2.0",
            "_view_name": "StyleView",
            "description_width": ""
          }
        },
        "25b020d82ad04999a4564aeef19fd3b7": {
          "model_module": "@jupyter-widgets/base",
          "model_name": "LayoutModel",
          "model_module_version": "1.2.0",
          "state": {
            "_model_module": "@jupyter-widgets/base",
            "_model_module_version": "1.2.0",
            "_model_name": "LayoutModel",
            "_view_count": null,
            "_view_module": "@jupyter-widgets/base",
            "_view_module_version": "1.2.0",
            "_view_name": "LayoutView",
            "align_content": null,
            "align_items": null,
            "align_self": null,
            "border": null,
            "bottom": null,
            "display": null,
            "flex": null,
            "flex_flow": null,
            "grid_area": null,
            "grid_auto_columns": null,
            "grid_auto_flow": null,
            "grid_auto_rows": null,
            "grid_column": null,
            "grid_gap": null,
            "grid_row": null,
            "grid_template_areas": null,
            "grid_template_columns": null,
            "grid_template_rows": null,
            "height": null,
            "justify_content": null,
            "justify_items": null,
            "left": null,
            "margin": null,
            "max_height": null,
            "max_width": null,
            "min_height": null,
            "min_width": null,
            "object_fit": null,
            "object_position": null,
            "order": null,
            "overflow": null,
            "overflow_x": null,
            "overflow_y": null,
            "padding": null,
            "right": null,
            "top": null,
            "visibility": null,
            "width": null
          }
        },
        "274261083a4b4b308cffe1d01a8e6982": {
          "model_module": "@jupyter-widgets/controls",
          "model_name": "ProgressStyleModel",
          "model_module_version": "1.5.0",
          "state": {
            "_model_module": "@jupyter-widgets/controls",
            "_model_module_version": "1.5.0",
            "_model_name": "ProgressStyleModel",
            "_view_count": null,
            "_view_module": "@jupyter-widgets/base",
            "_view_module_version": "1.2.0",
            "_view_name": "StyleView",
            "bar_color": null,
            "description_width": ""
          }
        },
        "2c99d1bcfb6740a383d66b1e06353ca9": {
          "model_module": "@jupyter-widgets/base",
          "model_name": "LayoutModel",
          "model_module_version": "1.2.0",
          "state": {
            "_model_module": "@jupyter-widgets/base",
            "_model_module_version": "1.2.0",
            "_model_name": "LayoutModel",
            "_view_count": null,
            "_view_module": "@jupyter-widgets/base",
            "_view_module_version": "1.2.0",
            "_view_name": "LayoutView",
            "align_content": null,
            "align_items": null,
            "align_self": null,
            "border": null,
            "bottom": null,
            "display": null,
            "flex": null,
            "flex_flow": null,
            "grid_area": null,
            "grid_auto_columns": null,
            "grid_auto_flow": null,
            "grid_auto_rows": null,
            "grid_column": null,
            "grid_gap": null,
            "grid_row": null,
            "grid_template_areas": null,
            "grid_template_columns": null,
            "grid_template_rows": null,
            "height": null,
            "justify_content": null,
            "justify_items": null,
            "left": null,
            "margin": null,
            "max_height": null,
            "max_width": null,
            "min_height": null,
            "min_width": null,
            "object_fit": null,
            "object_position": null,
            "order": null,
            "overflow": null,
            "overflow_x": null,
            "overflow_y": null,
            "padding": null,
            "right": null,
            "top": null,
            "visibility": null,
            "width": null
          }
        },
        "556ddc49147a4a45b3765bd1ee22531b": {
          "model_module": "@jupyter-widgets/controls",
          "model_name": "DescriptionStyleModel",
          "model_module_version": "1.5.0",
          "state": {
            "_model_module": "@jupyter-widgets/controls",
            "_model_module_version": "1.5.0",
            "_model_name": "DescriptionStyleModel",
            "_view_count": null,
            "_view_module": "@jupyter-widgets/base",
            "_view_module_version": "1.2.0",
            "_view_name": "StyleView",
            "description_width": ""
          }
        }
      }
    }
  },
  "cells": [
    {
      "cell_type": "markdown",
      "source": [
        "# **Model Interpretability of Heart Attack Analysis & Prediction Dataset**"
      ],
      "metadata": {
        "id": "sAwED_f9mII9"
      }
    },
    {
      "cell_type": "markdown",
      "source": [
        "**What is Model Interpretability ?** <br/>\n",
        "Model interpretability refers to the ability to understand how a machine learning model arrives at its predictions or decisions. In other words, it is the ability to explain the logic or reasoning behind a model's output in a way that humans can understand.\n",
        "\n",
        "Interpretability is important because it allows us to understand how the model is making decisions, which in turn can help us identify biases, errors, or limitations in the model. It also enables us to gain trust in the model's predictions and to identify areas where the model can be improved.\n",
        "\n",
        "There are many techniques and approaches to achieving interpretability in machine learning models, ranging from simple methods such as feature importance analysis, to more complex methods such as model-specific visualization techniques and rule extraction algorithms."
      ],
      "metadata": {
        "id": "34gRRwCyix1Y"
      }
    },
    {
      "cell_type": "markdown",
      "source": [
        "**Data Set**<br/>\n",
        "The data set consists of :\n",
        "\n",
        "14 characteristics of the situation that smoke detection at i.e. - The independent variables\n",
        "The Target Variable - The dependent variable\n",
        "The condition of heart attack is represented by 0 and 1..\n",
        "There are a total of --- observations.\n",
        "\n",
        "**Feature details** <br/>\n",
        "\n",
        "\n",
        "age - Age of the person <br/>\n",
        "sex - Gender of the person <br/>\n",
        "cp - Chest Pain type  <br/>\n",
        "trtbps - resting blood pressure (in mm Hg) <br/>\n",
        "chol - cholestoral in mg/dl fetched via BMI sensor fbs - (fasting blood sugar > 120 mg/dl) (1 = true; 0 = false) <br/>\n",
        "restecg - resting electrocardiographic results <br/>\n",
        "thalachh - maximum heart rate achieved <br/>\n",
        "exng - exercise induced angina (1 = yes; 0 = no) <br/>\n",
        "oldpeak - Previous peak <br/>\n",
        "slp - Slope <br/>\n",
        "caa - number of major vessels (0-3) <br/>\n",
        "thall - Thal rate <br/>\n",
        "output - Target variable <br/>"
      ],
      "metadata": {
        "id": "RV3Y6QxNjDbB"
      }
    },
    {
      "cell_type": "code",
      "execution_count": 6,
      "metadata": {
        "colab": {
          "base_uri": "https://localhost:8080/"
        },
        "id": "YHf-jZOIcUhM",
        "outputId": "1bcdf2ae-8fef-4d66-8a13-74a8ecf6d45b"
      },
      "outputs": [
        {
          "output_type": "stream",
          "name": "stdout",
          "text": [
            "Looking in indexes: https://pypi.org/simple, https://us-python.pkg.dev/colab-wheels/public/simple/\n",
            "Collecting shap\n",
            "  Downloading shap-0.41.0-cp39-cp39-manylinux_2_12_x86_64.manylinux2010_x86_64.whl (572 kB)\n",
            "\u001b[2K     \u001b[90m━━━━━━━━━━━━━━━━━━━━━━━━━━━━━━━━━━━━━━━\u001b[0m \u001b[32m572.4/572.4 KB\u001b[0m \u001b[31m8.7 MB/s\u001b[0m eta \u001b[36m0:00:00\u001b[0m\n",
            "\u001b[?25hRequirement already satisfied: pandas in /usr/local/lib/python3.9/dist-packages (from shap) (1.4.4)\n",
            "Requirement already satisfied: scipy in /usr/local/lib/python3.9/dist-packages (from shap) (1.10.1)\n",
            "Requirement already satisfied: numpy in /usr/local/lib/python3.9/dist-packages (from shap) (1.22.4)\n",
            "Requirement already satisfied: numba in /usr/local/lib/python3.9/dist-packages (from shap) (0.56.4)\n",
            "Requirement already satisfied: scikit-learn in /usr/local/lib/python3.9/dist-packages (from shap) (1.2.2)\n",
            "Requirement already satisfied: packaging>20.9 in /usr/local/lib/python3.9/dist-packages (from shap) (23.0)\n",
            "Requirement already satisfied: tqdm>4.25.0 in /usr/local/lib/python3.9/dist-packages (from shap) (4.65.0)\n",
            "Collecting slicer==0.0.7\n",
            "  Downloading slicer-0.0.7-py3-none-any.whl (14 kB)\n",
            "Requirement already satisfied: cloudpickle in /usr/local/lib/python3.9/dist-packages (from shap) (2.2.1)\n",
            "Requirement already satisfied: setuptools in /usr/local/lib/python3.9/dist-packages (from numba->shap) (67.6.1)\n",
            "Requirement already satisfied: llvmlite<0.40,>=0.39.0dev0 in /usr/local/lib/python3.9/dist-packages (from numba->shap) (0.39.1)\n",
            "Requirement already satisfied: pytz>=2020.1 in /usr/local/lib/python3.9/dist-packages (from pandas->shap) (2022.7.1)\n",
            "Requirement already satisfied: python-dateutil>=2.8.1 in /usr/local/lib/python3.9/dist-packages (from pandas->shap) (2.8.2)\n",
            "Requirement already satisfied: threadpoolctl>=2.0.0 in /usr/local/lib/python3.9/dist-packages (from scikit-learn->shap) (3.1.0)\n",
            "Requirement already satisfied: joblib>=1.1.1 in /usr/local/lib/python3.9/dist-packages (from scikit-learn->shap) (1.1.1)\n",
            "Requirement already satisfied: six>=1.5 in /usr/local/lib/python3.9/dist-packages (from python-dateutil>=2.8.1->pandas->shap) (1.16.0)\n",
            "Installing collected packages: slicer, shap\n",
            "Successfully installed shap-0.41.0 slicer-0.0.7\n"
          ]
        }
      ],
      "source": [
        "!pip install shap\n",
        "import pandas as pd\n",
        "import shap\n",
        "from sklearn.model_selection import train_test_split\n",
        "from sklearn.pipeline import Pipeline\n",
        "from sklearn.preprocessing import OrdinalEncoder, StandardScaler, OneHotEncoder\n",
        "from sklearn_pandas import DataFrameMapper\n",
        "from sklearn.impute import SimpleImputer\n",
        "from sklearn.linear_model import LogisticRegression\n",
        "from sklearn.metrics import mean_absolute_error\n",
        "from sklearn import tree\n",
        "import statsmodels.api as sm\n",
        "import numpy as np\n",
        "import seaborn as sns\n",
        "import matplotlib.pyplot as plt\n"
      ]
    },
    {
      "cell_type": "code",
      "source": [
        "url = \"https://raw.githubusercontent.com/devika-boddu/DataScience-Engineering-Methods/main/heart.csv\" \n",
        "df =  pd.read_csv(\"https://raw.githubusercontent.com/devika-boddu/DataScience-Engineering-Methods/main/heart.csv\")"
      ],
      "metadata": {
        "id": "MQ0QYIeztSsU"
      },
      "execution_count": 7,
      "outputs": []
    },
    {
      "cell_type": "code",
      "source": [
        "df.head(5)"
      ],
      "metadata": {
        "colab": {
          "base_uri": "https://localhost:8080/",
          "height": 206
        },
        "id": "I8YK9fhPm9_L",
        "outputId": "1ab99714-f16b-4869-9d8e-8202c54d2183"
      },
      "execution_count": 8,
      "outputs": [
        {
          "output_type": "execute_result",
          "data": {
            "text/plain": [
              "   age  sex  cp  trtbps  chol  fbs  restecg  thalachh  exng  oldpeak  slp  \\\n",
              "0   63    1   3     145   233    1        0       150     0      2.3    0   \n",
              "1   37    1   2     130   250    0        1       187     0      3.5    0   \n",
              "2   41    0   1     130   204    0        0       172     0      1.4    2   \n",
              "3   56    1   1     120   236    0        1       178     0      0.8    2   \n",
              "4   57    0   0     120   354    0        1       163     1      0.6    2   \n",
              "\n",
              "   caa  thall  output  \n",
              "0    0      1       1  \n",
              "1    0      2       1  \n",
              "2    0      2       1  \n",
              "3    0      2       1  \n",
              "4    0      2       1  "
            ],
            "text/html": [
              "\n",
              "  <div id=\"df-c0bff07d-602b-4de8-8427-10b3b1f7593a\">\n",
              "    <div class=\"colab-df-container\">\n",
              "      <div>\n",
              "<style scoped>\n",
              "    .dataframe tbody tr th:only-of-type {\n",
              "        vertical-align: middle;\n",
              "    }\n",
              "\n",
              "    .dataframe tbody tr th {\n",
              "        vertical-align: top;\n",
              "    }\n",
              "\n",
              "    .dataframe thead th {\n",
              "        text-align: right;\n",
              "    }\n",
              "</style>\n",
              "<table border=\"1\" class=\"dataframe\">\n",
              "  <thead>\n",
              "    <tr style=\"text-align: right;\">\n",
              "      <th></th>\n",
              "      <th>age</th>\n",
              "      <th>sex</th>\n",
              "      <th>cp</th>\n",
              "      <th>trtbps</th>\n",
              "      <th>chol</th>\n",
              "      <th>fbs</th>\n",
              "      <th>restecg</th>\n",
              "      <th>thalachh</th>\n",
              "      <th>exng</th>\n",
              "      <th>oldpeak</th>\n",
              "      <th>slp</th>\n",
              "      <th>caa</th>\n",
              "      <th>thall</th>\n",
              "      <th>output</th>\n",
              "    </tr>\n",
              "  </thead>\n",
              "  <tbody>\n",
              "    <tr>\n",
              "      <th>0</th>\n",
              "      <td>63</td>\n",
              "      <td>1</td>\n",
              "      <td>3</td>\n",
              "      <td>145</td>\n",
              "      <td>233</td>\n",
              "      <td>1</td>\n",
              "      <td>0</td>\n",
              "      <td>150</td>\n",
              "      <td>0</td>\n",
              "      <td>2.3</td>\n",
              "      <td>0</td>\n",
              "      <td>0</td>\n",
              "      <td>1</td>\n",
              "      <td>1</td>\n",
              "    </tr>\n",
              "    <tr>\n",
              "      <th>1</th>\n",
              "      <td>37</td>\n",
              "      <td>1</td>\n",
              "      <td>2</td>\n",
              "      <td>130</td>\n",
              "      <td>250</td>\n",
              "      <td>0</td>\n",
              "      <td>1</td>\n",
              "      <td>187</td>\n",
              "      <td>0</td>\n",
              "      <td>3.5</td>\n",
              "      <td>0</td>\n",
              "      <td>0</td>\n",
              "      <td>2</td>\n",
              "      <td>1</td>\n",
              "    </tr>\n",
              "    <tr>\n",
              "      <th>2</th>\n",
              "      <td>41</td>\n",
              "      <td>0</td>\n",
              "      <td>1</td>\n",
              "      <td>130</td>\n",
              "      <td>204</td>\n",
              "      <td>0</td>\n",
              "      <td>0</td>\n",
              "      <td>172</td>\n",
              "      <td>0</td>\n",
              "      <td>1.4</td>\n",
              "      <td>2</td>\n",
              "      <td>0</td>\n",
              "      <td>2</td>\n",
              "      <td>1</td>\n",
              "    </tr>\n",
              "    <tr>\n",
              "      <th>3</th>\n",
              "      <td>56</td>\n",
              "      <td>1</td>\n",
              "      <td>1</td>\n",
              "      <td>120</td>\n",
              "      <td>236</td>\n",
              "      <td>0</td>\n",
              "      <td>1</td>\n",
              "      <td>178</td>\n",
              "      <td>0</td>\n",
              "      <td>0.8</td>\n",
              "      <td>2</td>\n",
              "      <td>0</td>\n",
              "      <td>2</td>\n",
              "      <td>1</td>\n",
              "    </tr>\n",
              "    <tr>\n",
              "      <th>4</th>\n",
              "      <td>57</td>\n",
              "      <td>0</td>\n",
              "      <td>0</td>\n",
              "      <td>120</td>\n",
              "      <td>354</td>\n",
              "      <td>0</td>\n",
              "      <td>1</td>\n",
              "      <td>163</td>\n",
              "      <td>1</td>\n",
              "      <td>0.6</td>\n",
              "      <td>2</td>\n",
              "      <td>0</td>\n",
              "      <td>2</td>\n",
              "      <td>1</td>\n",
              "    </tr>\n",
              "  </tbody>\n",
              "</table>\n",
              "</div>\n",
              "      <button class=\"colab-df-convert\" onclick=\"convertToInteractive('df-c0bff07d-602b-4de8-8427-10b3b1f7593a')\"\n",
              "              title=\"Convert this dataframe to an interactive table.\"\n",
              "              style=\"display:none;\">\n",
              "        \n",
              "  <svg xmlns=\"http://www.w3.org/2000/svg\" height=\"24px\"viewBox=\"0 0 24 24\"\n",
              "       width=\"24px\">\n",
              "    <path d=\"M0 0h24v24H0V0z\" fill=\"none\"/>\n",
              "    <path d=\"M18.56 5.44l.94 2.06.94-2.06 2.06-.94-2.06-.94-.94-2.06-.94 2.06-2.06.94zm-11 1L8.5 8.5l.94-2.06 2.06-.94-2.06-.94L8.5 2.5l-.94 2.06-2.06.94zm10 10l.94 2.06.94-2.06 2.06-.94-2.06-.94-.94-2.06-.94 2.06-2.06.94z\"/><path d=\"M17.41 7.96l-1.37-1.37c-.4-.4-.92-.59-1.43-.59-.52 0-1.04.2-1.43.59L10.3 9.45l-7.72 7.72c-.78.78-.78 2.05 0 2.83L4 21.41c.39.39.9.59 1.41.59.51 0 1.02-.2 1.41-.59l7.78-7.78 2.81-2.81c.8-.78.8-2.07 0-2.86zM5.41 20L4 18.59l7.72-7.72 1.47 1.35L5.41 20z\"/>\n",
              "  </svg>\n",
              "      </button>\n",
              "      \n",
              "  <style>\n",
              "    .colab-df-container {\n",
              "      display:flex;\n",
              "      flex-wrap:wrap;\n",
              "      gap: 12px;\n",
              "    }\n",
              "\n",
              "    .colab-df-convert {\n",
              "      background-color: #E8F0FE;\n",
              "      border: none;\n",
              "      border-radius: 50%;\n",
              "      cursor: pointer;\n",
              "      display: none;\n",
              "      fill: #1967D2;\n",
              "      height: 32px;\n",
              "      padding: 0 0 0 0;\n",
              "      width: 32px;\n",
              "    }\n",
              "\n",
              "    .colab-df-convert:hover {\n",
              "      background-color: #E2EBFA;\n",
              "      box-shadow: 0px 1px 2px rgba(60, 64, 67, 0.3), 0px 1px 3px 1px rgba(60, 64, 67, 0.15);\n",
              "      fill: #174EA6;\n",
              "    }\n",
              "\n",
              "    [theme=dark] .colab-df-convert {\n",
              "      background-color: #3B4455;\n",
              "      fill: #D2E3FC;\n",
              "    }\n",
              "\n",
              "    [theme=dark] .colab-df-convert:hover {\n",
              "      background-color: #434B5C;\n",
              "      box-shadow: 0px 1px 3px 1px rgba(0, 0, 0, 0.15);\n",
              "      filter: drop-shadow(0px 1px 2px rgba(0, 0, 0, 0.3));\n",
              "      fill: #FFFFFF;\n",
              "    }\n",
              "  </style>\n",
              "\n",
              "      <script>\n",
              "        const buttonEl =\n",
              "          document.querySelector('#df-c0bff07d-602b-4de8-8427-10b3b1f7593a button.colab-df-convert');\n",
              "        buttonEl.style.display =\n",
              "          google.colab.kernel.accessAllowed ? 'block' : 'none';\n",
              "\n",
              "        async function convertToInteractive(key) {\n",
              "          const element = document.querySelector('#df-c0bff07d-602b-4de8-8427-10b3b1f7593a');\n",
              "          const dataTable =\n",
              "            await google.colab.kernel.invokeFunction('convertToInteractive',\n",
              "                                                     [key], {});\n",
              "          if (!dataTable) return;\n",
              "\n",
              "          const docLinkHtml = 'Like what you see? Visit the ' +\n",
              "            '<a target=\"_blank\" href=https://colab.research.google.com/notebooks/data_table.ipynb>data table notebook</a>'\n",
              "            + ' to learn more about interactive tables.';\n",
              "          element.innerHTML = '';\n",
              "          dataTable['output_type'] = 'display_data';\n",
              "          await google.colab.output.renderOutput(dataTable, element);\n",
              "          const docLink = document.createElement('div');\n",
              "          docLink.innerHTML = docLinkHtml;\n",
              "          element.appendChild(docLink);\n",
              "        }\n",
              "      </script>\n",
              "    </div>\n",
              "  </div>\n",
              "  "
            ]
          },
          "metadata": {},
          "execution_count": 8
        }
      ]
    },
    {
      "cell_type": "code",
      "source": [
        "#checking null values\n",
        "df.isna().sum()"
      ],
      "metadata": {
        "colab": {
          "base_uri": "https://localhost:8080/"
        },
        "id": "LID8FTVLm98k",
        "outputId": "40bebdc9-b71d-42cd-ed2d-e58373e5cd3f"
      },
      "execution_count": 9,
      "outputs": [
        {
          "output_type": "execute_result",
          "data": {
            "text/plain": [
              "age         0\n",
              "sex         0\n",
              "cp          0\n",
              "trtbps      0\n",
              "chol        0\n",
              "fbs         0\n",
              "restecg     0\n",
              "thalachh    0\n",
              "exng        0\n",
              "oldpeak     0\n",
              "slp         0\n",
              "caa         0\n",
              "thall       0\n",
              "output      0\n",
              "dtype: int64"
            ]
          },
          "metadata": {},
          "execution_count": 9
        }
      ]
    },
    {
      "cell_type": "code",
      "source": [
        "len(df)"
      ],
      "metadata": {
        "colab": {
          "base_uri": "https://localhost:8080/"
        },
        "id": "j8l0v5FIm959",
        "outputId": "04160820-b95a-4414-da97-abdd47aadc2d"
      },
      "execution_count": 10,
      "outputs": [
        {
          "output_type": "execute_result",
          "data": {
            "text/plain": [
              "303"
            ]
          },
          "metadata": {},
          "execution_count": 10
        }
      ]
    },
    {
      "cell_type": "code",
      "source": [
        "df.dtypes"
      ],
      "metadata": {
        "colab": {
          "base_uri": "https://localhost:8080/"
        },
        "id": "5y8T8wwQm93V",
        "outputId": "6b95aff8-792d-4abc-e9e1-2e65151833ee"
      },
      "execution_count": 11,
      "outputs": [
        {
          "output_type": "execute_result",
          "data": {
            "text/plain": [
              "age           int64\n",
              "sex           int64\n",
              "cp            int64\n",
              "trtbps        int64\n",
              "chol          int64\n",
              "fbs           int64\n",
              "restecg       int64\n",
              "thalachh      int64\n",
              "exng          int64\n",
              "oldpeak     float64\n",
              "slp           int64\n",
              "caa           int64\n",
              "thall         int64\n",
              "output        int64\n",
              "dtype: object"
            ]
          },
          "metadata": {},
          "execution_count": 11
        }
      ]
    },
    {
      "cell_type": "code",
      "source": [
        "df.output.value_counts()"
      ],
      "metadata": {
        "colab": {
          "base_uri": "https://localhost:8080/"
        },
        "id": "6TAi83Jam90t",
        "outputId": "8ac8d348-1d30-4c1e-9ac1-f191e0f7df94"
      },
      "execution_count": 12,
      "outputs": [
        {
          "output_type": "execute_result",
          "data": {
            "text/plain": [
              "1    165\n",
              "0    138\n",
              "Name: output, dtype: int64"
            ]
          },
          "metadata": {},
          "execution_count": 12
        }
      ]
    },
    {
      "cell_type": "markdown",
      "source": [
        "**Observation** : seems like a balanced dataset"
      ],
      "metadata": {
        "id": "4dOt70Qjn5FL"
      }
    },
    {
      "cell_type": "markdown",
      "source": [
        "Using countplot() method is used to Show the counts of observations in each categorical bin using bars. <br/>\n",
        "Parameters : This method is accepting the following parameters that are described below: x, y: This parameter take names of variables in data or vector data, optional, Inputs for plotting long-form data."
      ],
      "metadata": {
        "id": "fBmSGar6nwk3"
      }
    },
    {
      "cell_type": "code",
      "source": [
        "sns.countplot(x=\"output\",data=df,palette=\"bwr\")\n",
        "plt.show()"
      ],
      "metadata": {
        "colab": {
          "base_uri": "https://localhost:8080/",
          "height": 449
        },
        "id": "Lz4FteMvm9x5",
        "outputId": "2bd8a3e7-7594-4ab6-b8cb-d1b9dc3ed717"
      },
      "execution_count": 13,
      "outputs": [
        {
          "output_type": "display_data",
          "data": {
            "text/plain": [
              "<Figure size 640x480 with 1 Axes>"
            ],
            "image/png": "[encoded data removed]"
          },
          "metadata": {}
        }
      ]
    },
    {
      "cell_type": "code",
      "source": [
        "y=df.output"
      ],
      "metadata": {
        "id": "b-T-z_Jtm9uv"
      },
      "execution_count": 14,
      "outputs": []
    },
    {
      "cell_type": "code",
      "source": [
        "X=df.drop(\"output\",axis=1)"
      ],
      "metadata": {
        "id": "9CFQwJohm9l7"
      },
      "execution_count": 15,
      "outputs": []
    },
    {
      "cell_type": "code",
      "source": [
        "X.head()"
      ],
      "metadata": {
        "colab": {
          "base_uri": "https://localhost:8080/",
          "height": 206
        },
        "id": "iOp17i6ooTQM",
        "outputId": "702556be-1a21-4d4e-9304-d959c189d281"
      },
      "execution_count": 16,
      "outputs": [
        {
          "output_type": "execute_result",
          "data": {
            "text/plain": [
              "   age  sex  cp  trtbps  chol  fbs  restecg  thalachh  exng  oldpeak  slp  \\\n",
              "0   63    1   3     145   233    1        0       150     0      2.3    0   \n",
              "1   37    1   2     130   250    0        1       187     0      3.5    0   \n",
              "2   41    0   1     130   204    0        0       172     0      1.4    2   \n",
              "3   56    1   1     120   236    0        1       178     0      0.8    2   \n",
              "4   57    0   0     120   354    0        1       163     1      0.6    2   \n",
              "\n",
              "   caa  thall  \n",
              "0    0      1  \n",
              "1    0      2  \n",
              "2    0      2  \n",
              "3    0      2  \n",
              "4    0      2  "
            ],
            "text/html": [
              "\n",
              "  <div id=\"df-fffb8c37-f735-4313-a61d-4f6f44469544\">\n",
              "    <div class=\"colab-df-container\">\n",
              "      <div>\n",
              "<style scoped>\n",
              "    .dataframe tbody tr th:only-of-type {\n",
              "        vertical-align: middle;\n",
              "    }\n",
              "\n",
              "    .dataframe tbody tr th {\n",
              "        vertical-align: top;\n",
              "    }\n",
              "\n",
              "    .dataframe thead th {\n",
              "        text-align: right;\n",
              "    }\n",
              "</style>\n",
              "<table border=\"1\" class=\"dataframe\">\n",
              "  <thead>\n",
              "    <tr style=\"text-align: right;\">\n",
              "      <th></th>\n",
              "      <th>age</th>\n",
              "      <th>sex</th>\n",
              "      <th>cp</th>\n",
              "      <th>trtbps</th>\n",
              "      <th>chol</th>\n",
              "      <th>fbs</th>\n",
              "      <th>restecg</th>\n",
              "      <th>thalachh</th>\n",
              "      <th>exng</th>\n",
              "      <th>oldpeak</th>\n",
              "      <th>slp</th>\n",
              "      <th>caa</th>\n",
              "      <th>thall</th>\n",
              "    </tr>\n",
              "  </thead>\n",
              "  <tbody>\n",
              "    <tr>\n",
              "      <th>0</th>\n",
              "      <td>63</td>\n",
              "      <td>1</td>\n",
              "      <td>3</td>\n",
              "      <td>145</td>\n",
              "      <td>233</td>\n",
              "      <td>1</td>\n",
              "      <td>0</td>\n",
              "      <td>150</td>\n",
              "      <td>0</td>\n",
              "      <td>2.3</td>\n",
              "      <td>0</td>\n",
              "      <td>0</td>\n",
              "      <td>1</td>\n",
              "    </tr>\n",
              "    <tr>\n",
              "      <th>1</th>\n",
              "      <td>37</td>\n",
              "      <td>1</td>\n",
              "      <td>2</td>\n",
              "      <td>130</td>\n",
              "      <td>250</td>\n",
              "      <td>0</td>\n",
              "      <td>1</td>\n",
              "      <td>187</td>\n",
              "      <td>0</td>\n",
              "      <td>3.5</td>\n",
              "      <td>0</td>\n",
              "      <td>0</td>\n",
              "      <td>2</td>\n",
              "    </tr>\n",
              "    <tr>\n",
              "      <th>2</th>\n",
              "      <td>41</td>\n",
              "      <td>0</td>\n",
              "      <td>1</td>\n",
              "      <td>130</td>\n",
              "      <td>204</td>\n",
              "      <td>0</td>\n",
              "      <td>0</td>\n",
              "      <td>172</td>\n",
              "      <td>0</td>\n",
              "      <td>1.4</td>\n",
              "      <td>2</td>\n",
              "      <td>0</td>\n",
              "      <td>2</td>\n",
              "    </tr>\n",
              "    <tr>\n",
              "      <th>3</th>\n",
              "      <td>56</td>\n",
              "      <td>1</td>\n",
              "      <td>1</td>\n",
              "      <td>120</td>\n",
              "      <td>236</td>\n",
              "      <td>0</td>\n",
              "      <td>1</td>\n",
              "      <td>178</td>\n",
              "      <td>0</td>\n",
              "      <td>0.8</td>\n",
              "      <td>2</td>\n",
              "      <td>0</td>\n",
              "      <td>2</td>\n",
              "    </tr>\n",
              "    <tr>\n",
              "      <th>4</th>\n",
              "      <td>57</td>\n",
              "      <td>0</td>\n",
              "      <td>0</td>\n",
              "      <td>120</td>\n",
              "      <td>354</td>\n",
              "      <td>0</td>\n",
              "      <td>1</td>\n",
              "      <td>163</td>\n",
              "      <td>1</td>\n",
              "      <td>0.6</td>\n",
              "      <td>2</td>\n",
              "      <td>0</td>\n",
              "      <td>2</td>\n",
              "    </tr>\n",
              "  </tbody>\n",
              "</table>\n",
              "</div>\n",
              "      <button class=\"colab-df-convert\" onclick=\"convertToInteractive('df-fffb8c37-f735-4313-a61d-4f6f44469544')\"\n",
              "              title=\"Convert this dataframe to an interactive table.\"\n",
              "              style=\"display:none;\">\n",
              "        \n",
              "  <svg xmlns=\"http://www.w3.org/2000/svg\" height=\"24px\"viewBox=\"0 0 24 24\"\n",
              "       width=\"24px\">\n",
              "    <path d=\"M0 0h24v24H0V0z\" fill=\"none\"/>\n",
              "    <path d=\"M18.56 5.44l.94 2.06.94-2.06 2.06-.94-2.06-.94-.94-2.06-.94 2.06-2.06.94zm-11 1L8.5 8.5l.94-2.06 2.06-.94-2.06-.94L8.5 2.5l-.94 2.06-2.06.94zm10 10l.94 2.06.94-2.06 2.06-.94-2.06-.94-.94-2.06-.94 2.06-2.06.94z\"/><path d=\"M17.41 7.96l-1.37-1.37c-.4-.4-.92-.59-1.43-.59-.52 0-1.04.2-1.43.59L10.3 9.45l-7.72 7.72c-.78.78-.78 2.05 0 2.83L4 21.41c.39.39.9.59 1.41.59.51 0 1.02-.2 1.41-.59l7.78-7.78 2.81-2.81c.8-.78.8-2.07 0-2.86zM5.41 20L4 18.59l7.72-7.72 1.47 1.35L5.41 20z\"/>\n",
              "  </svg>\n",
              "      </button>\n",
              "      \n",
              "  <style>\n",
              "    .colab-df-container {\n",
              "      display:flex;\n",
              "      flex-wrap:wrap;\n",
              "      gap: 12px;\n",
              "    }\n",
              "\n",
              "    .colab-df-convert {\n",
              "      background-color: #E8F0FE;\n",
              "      border: none;\n",
              "      border-radius: 50%;\n",
              "      cursor: pointer;\n",
              "      display: none;\n",
              "      fill: #1967D2;\n",
              "      height: 32px;\n",
              "      padding: 0 0 0 0;\n",
              "      width: 32px;\n",
              "    }\n",
              "\n",
              "    .colab-df-convert:hover {\n",
              "      background-color: #E2EBFA;\n",
              "      box-shadow: 0px 1px 2px rgba(60, 64, 67, 0.3), 0px 1px 3px 1px rgba(60, 64, 67, 0.15);\n",
              "      fill: #174EA6;\n",
              "    }\n",
              "\n",
              "    [theme=dark] .colab-df-convert {\n",
              "      background-color: #3B4455;\n",
              "      fill: #D2E3FC;\n",
              "    }\n",
              "\n",
              "    [theme=dark] .colab-df-convert:hover {\n",
              "      background-color: #434B5C;\n",
              "      box-shadow: 0px 1px 3px 1px rgba(0, 0, 0, 0.15);\n",
              "      filter: drop-shadow(0px 1px 2px rgba(0, 0, 0, 0.3));\n",
              "      fill: #FFFFFF;\n",
              "    }\n",
              "  </style>\n",
              "\n",
              "      <script>\n",
              "        const buttonEl =\n",
              "          document.querySelector('#df-fffb8c37-f735-4313-a61d-4f6f44469544 button.colab-df-convert');\n",
              "        buttonEl.style.display =\n",
              "          google.colab.kernel.accessAllowed ? 'block' : 'none';\n",
              "\n",
              "        async function convertToInteractive(key) {\n",
              "          const element = document.querySelector('#df-fffb8c37-f735-4313-a61d-4f6f44469544');\n",
              "          const dataTable =\n",
              "            await google.colab.kernel.invokeFunction('convertToInteractive',\n",
              "                                                     [key], {});\n",
              "          if (!dataTable) return;\n",
              "\n",
              "          const docLinkHtml = 'Like what you see? Visit the ' +\n",
              "            '<a target=\"_blank\" href=https://colab.research.google.com/notebooks/data_table.ipynb>data table notebook</a>'\n",
              "            + ' to learn more about interactive tables.';\n",
              "          element.innerHTML = '';\n",
              "          dataTable['output_type'] = 'display_data';\n",
              "          await google.colab.output.renderOutput(dataTable, element);\n",
              "          const docLink = document.createElement('div');\n",
              "          docLink.innerHTML = docLinkHtml;\n",
              "          element.appendChild(docLink);\n",
              "        }\n",
              "      </script>\n",
              "    </div>\n",
              "  </div>\n",
              "  "
            ]
          },
          "metadata": {},
          "execution_count": 16
        }
      ]
    },
    {
      "cell_type": "code",
      "source": [
        "y.head()"
      ],
      "metadata": {
        "colab": {
          "base_uri": "https://localhost:8080/"
        },
        "id": "iEsmjhlDoTN3",
        "outputId": "44f6c83b-2105-4118-9610-b7ad8ae3a64c"
      },
      "execution_count": 17,
      "outputs": [
        {
          "output_type": "execute_result",
          "data": {
            "text/plain": [
              "0    1\n",
              "1    1\n",
              "2    1\n",
              "3    1\n",
              "4    1\n",
              "Name: output, dtype: int64"
            ]
          },
          "metadata": {},
          "execution_count": 17
        }
      ]
    },
    {
      "cell_type": "code",
      "source": [
        "X_train,X_test,y_train,y_test= train_test_split(X,y,train_size=0.7)"
      ],
      "metadata": {
        "id": "SyoxBak4oTLi"
      },
      "execution_count": 18,
      "outputs": []
    },
    {
      "cell_type": "markdown",
      "source": [
        "**Fitting a linear model and interpret the regression coefficients**"
      ],
      "metadata": {
        "id": "LAVeQTT2xqEJ"
      }
    },
    {
      "cell_type": "markdown",
      "source": [
        "Since the dataset is of classification type, We're using Logistic regression. <br/>\n",
        "LogisticRegression is a machine learning model used for binary classification problems, which means it's used to predict one of two possible outcomes (e.g., yes or no, true or false). The solver parameter specifies the algorithm used to optimize the model parameters, and the max_iter parameter specifies the maximum number of iterations for the solver to converge to a solution.<br/>\n",
        "\n",
        "Specifically, the solver parameter is set to \"lbfgs\", which stands for Limited-memory Broyden–Fletcher–Goldfarb–Shanno. This is an optimization algorithm that uses an approximation of the Hessian matrix to update the model parameters. It's generally a good choice for small to medium-sized datasets.<br/>\n",
        "\n",
        "The max_iter parameter is set to 500, which means that the solver will iterate at most 500 times to find the optimal solution. If the algorithm has not converged after 500 iterations, it will stop and return the current best solution. Increasing max_iter can sometimes improve model performance, but it can also increase the training time and may lead to overfitting.<br/>"
      ],
      "metadata": {
        "id": "g39DpxxJpBkf"
      }
    },
    {
      "cell_type": "markdown",
      "source": [
        "**Logistic Regression**"
      ],
      "metadata": {
        "id": "Xspn56Fs1LSx"
      }
    },
    {
      "cell_type": "code",
      "source": [
        "lr= LogisticRegression(solver='lbfgs',max_iter=500)"
      ],
      "metadata": {
        "id": "-9oUo6w4oTI8"
      },
      "execution_count": 19,
      "outputs": []
    },
    {
      "cell_type": "code",
      "source": [
        "lr.fit(X_train,y_train)"
      ],
      "metadata": {
        "colab": {
          "base_uri": "https://localhost:8080/",
          "height": 200
        },
        "id": "HyVszi9NoTDu",
        "outputId": "363706a3-2415-437c-fd00-321be9bb7e80"
      },
      "execution_count": 20,
      "outputs": [
        {
          "output_type": "stream",
          "name": "stderr",
          "text": [
            "lbfgs failed to converge (status=1):\n",
            "STOP: TOTAL NO. of ITERATIONS REACHED LIMIT.\n",
            "\n",
            "Increase the number of iterations (max_iter) or scale the data as shown in:\n",
            "    https://scikit-learn.org/stable/modules/preprocessing.html\n",
            "Please also refer to the documentation for alternative solver options:\n",
            "    https://scikit-learn.org/stable/modules/linear_model.html#logistic-regression\n"
          ]
        },
        {
          "output_type": "execute_result",
          "data": {
            "text/plain": [
              "LogisticRegression(max_iter=500)"
            ],
            "text/html": [
              "<style>#sk-container-id-1 {color: black;background-color: white;}#sk-container-id-1 pre{padding: 0;}#sk-container-id-1 div.sk-toggleable {background-color: white;}#sk-container-id-1 label.sk-toggleable__label {cursor: pointer;display: block;width: 100%;margin-bottom: 0;padding: 0.3em;box-sizing: border-box;text-align: center;}#sk-container-id-1 label.sk-toggleable__label-arrow:before {content: \"▸\";float: left;margin-right: 0.25em;color: #696969;}#sk-container-id-1 label.sk-toggleable__label-arrow:hover:before {color: black;}#sk-container-id-1 div.sk-estimator:hover label.sk-toggleable__label-arrow:before {color: black;}#sk-container-id-1 div.sk-toggleable__content {max-height: 0;max-width: 0;overflow: hidden;text-align: left;background-color: #f0f8ff;}#sk-container-id-1 div.sk-toggleable__content pre {margin: 0.2em;color: black;border-radius: 0.25em;background-color: #f0f8ff;}#sk-container-id-1 input.sk-toggleable__control:checked~div.sk-toggleable__content {max-height: 200px;max-width: 100%;overflow: auto;}#sk-container-id-1 input.sk-toggleable__control:checked~label.sk-toggleable__label-arrow:before {content: \"▾\";}#sk-container-id-1 div.sk-estimator input.sk-toggleable__control:checked~label.sk-toggleable__label {background-color: #d4ebff;}#sk-container-id-1 div.sk-label input.sk-toggleable__control:checked~label.sk-toggleable__label {background-color: #d4ebff;}#sk-container-id-1 input.sk-hidden--visually {border: 0;clip: rect(1px 1px 1px 1px);clip: rect(1px, 1px, 1px, 1px);height: 1px;margin: -1px;overflow: hidden;padding: 0;position: absolute;width: 1px;}#sk-container-id-1 div.sk-estimator {font-family: monospace;background-color: #f0f8ff;border: 1px dotted black;border-radius: 0.25em;box-sizing: border-box;margin-bottom: 0.5em;}#sk-container-id-1 div.sk-estimator:hover {background-color: #d4ebff;}#sk-container-id-1 div.sk-parallel-item::after {content: \"\";width: 100%;border-bottom: 1px solid gray;flex-grow: 1;}#sk-container-id-1 div.sk-label:hover label.sk-toggleable__label {background-color: #d4ebff;}#sk-container-id-1 div.sk-serial::before {content: \"\";position: absolute;border-left: 1px solid gray;box-sizing: border-box;top: 0;bottom: 0;left: 50%;z-index: 0;}#sk-container-id-1 div.sk-serial {display: flex;flex-direction: column;align-items: center;background-color: white;padding-right: 0.2em;padding-left: 0.2em;position: relative;}#sk-container-id-1 div.sk-item {position: relative;z-index: 1;}#sk-container-id-1 div.sk-parallel {display: flex;align-items: stretch;justify-content: center;background-color: white;position: relative;}#sk-container-id-1 div.sk-item::before, #sk-container-id-1 div.sk-parallel-item::before {content: \"\";position: absolute;border-left: 1px solid gray;box-sizing: border-box;top: 0;bottom: 0;left: 50%;z-index: -1;}#sk-container-id-1 div.sk-parallel-item {display: flex;flex-direction: column;z-index: 1;position: relative;background-color: white;}#sk-container-id-1 div.sk-parallel-item:first-child::after {align-self: flex-end;width: 50%;}#sk-container-id-1 div.sk-parallel-item:last-child::after {align-self: flex-start;width: 50%;}#sk-container-id-1 div.sk-parallel-item:only-child::after {width: 0;}#sk-container-id-1 div.sk-dashed-wrapped {border: 1px dashed gray;margin: 0 0.4em 0.5em 0.4em;box-sizing: border-box;padding-bottom: 0.4em;background-color: white;}#sk-container-id-1 div.sk-label label {font-family: monospace;font-weight: bold;display: inline-block;line-height: 1.2em;}#sk-container-id-1 div.sk-label-container {text-align: center;}#sk-container-id-1 div.sk-container {/* jupyter's `normalize.less` sets `[hidden] { display: none; }` but bootstrap.min.css set `[hidden] { display: none !important; }` so we also need the `!important` here to be able to override the default hidden behavior on the sphinx rendered scikit-learn.org. See: https://github.com/scikit-learn/scikit-learn/issues/21755 */display: inline-block !important;position: relative;}#sk-container-id-1 div.sk-text-repr-fallback {display: none;}</style><div id=\"sk-container-id-1\" class=\"sk-top-container\"><div class=\"sk-text-repr-fallback\"><pre>LogisticRegression(max_iter=500)</pre><b>In a Jupyter environment, please rerun this cell to show the HTML representation or trust the notebook. <br />On GitHub, the HTML representation is unable to render, please try loading this page with nbviewer.org.</b></div><div class=\"sk-container\" hidden><div class=\"sk-item\"><div class=\"sk-estimator sk-toggleable\"><input class=\"sk-toggleable__control sk-hidden--visually\" id=\"sk-estimator-id-1\" type=\"checkbox\" checked><label for=\"sk-estimator-id-1\" class=\"sk-toggleable__label sk-toggleable__label-arrow\">LogisticRegression</label><div class=\"sk-toggleable__content\"><pre>LogisticRegression(max_iter=500)</pre></div></div></div></div></div>"
            ]
          },
          "metadata": {},
          "execution_count": 20
        }
      ]
    },
    {
      "cell_type": "code",
      "source": [
        "log_odds=lr.coef_[0]"
      ],
      "metadata": {
        "id": "OjpytLI7oTBY"
      },
      "execution_count": 21,
      "outputs": []
    },
    {
      "cell_type": "markdown",
      "source": [
        "**“For every one-unit increase in [X variable], the odds that the observation is in (y class) are [coefficient] times as large as the odds that the observation is not in (y class) when all other variables are held constant.”**\n",
        "\n"
      ],
      "metadata": {
        "id": "jS4B6CS5pxNa"
      }
    },
    {
      "cell_type": "code",
      "source": [
        "pd.DataFrame(log_odds, \n",
        "             X_train.columns, \n",
        "             columns=['coef'])\\\n",
        "            .sort_values(by='coef', ascending=False)"
      ],
      "metadata": {
        "colab": {
          "base_uri": "https://localhost:8080/",
          "height": 457
        },
        "id": "-PnfKT1loS_C",
        "outputId": "810072ff-d0a4-4258-e86e-445bd5edd4be"
      },
      "execution_count": 22,
      "outputs": [
        {
          "output_type": "execute_result",
          "data": {
            "text/plain": [
              "              coef\n",
              "cp        0.931956\n",
              "restecg   0.266292\n",
              "fbs       0.114591\n",
              "thalachh  0.042109\n",
              "age       0.000768\n",
              "chol     -0.003084\n",
              "trtbps   -0.026591\n",
              "slp      -0.171650\n",
              "oldpeak  -0.698782\n",
              "caa      -0.705375\n",
              "exng     -0.772665\n",
              "thall    -0.788275\n",
              "sex      -1.253969"
            ],
            "text/html": [
              "\n",
              "  <div id=\"df-1c461819-8142-43b6-b012-255c1f899d63\">\n",
              "    <div class=\"colab-df-container\">\n",
              "      <div>\n",
              "<style scoped>\n",
              "    .dataframe tbody tr th:only-of-type {\n",
              "        vertical-align: middle;\n",
              "    }\n",
              "\n",
              "    .dataframe tbody tr th {\n",
              "        vertical-align: top;\n",
              "    }\n",
              "\n",
              "    .dataframe thead th {\n",
              "        text-align: right;\n",
              "    }\n",
              "</style>\n",
              "<table border=\"1\" class=\"dataframe\">\n",
              "  <thead>\n",
              "    <tr style=\"text-align: right;\">\n",
              "      <th></th>\n",
              "      <th>coef</th>\n",
              "    </tr>\n",
              "  </thead>\n",
              "  <tbody>\n",
              "    <tr>\n",
              "      <th>cp</th>\n",
              "      <td>0.931956</td>\n",
              "    </tr>\n",
              "    <tr>\n",
              "      <th>restecg</th>\n",
              "      <td>0.266292</td>\n",
              "    </tr>\n",
              "    <tr>\n",
              "      <th>fbs</th>\n",
              "      <td>0.114591</td>\n",
              "    </tr>\n",
              "    <tr>\n",
              "      <th>thalachh</th>\n",
              "      <td>0.042109</td>\n",
              "    </tr>\n",
              "    <tr>\n",
              "      <th>age</th>\n",
              "      <td>0.000768</td>\n",
              "    </tr>\n",
              "    <tr>\n",
              "      <th>chol</th>\n",
              "      <td>-0.003084</td>\n",
              "    </tr>\n",
              "    <tr>\n",
              "      <th>trtbps</th>\n",
              "      <td>-0.026591</td>\n",
              "    </tr>\n",
              "    <tr>\n",
              "      <th>slp</th>\n",
              "      <td>-0.171650</td>\n",
              "    </tr>\n",
              "    <tr>\n",
              "      <th>oldpeak</th>\n",
              "      <td>-0.698782</td>\n",
              "    </tr>\n",
              "    <tr>\n",
              "      <th>caa</th>\n",
              "      <td>-0.705375</td>\n",
              "    </tr>\n",
              "    <tr>\n",
              "      <th>exng</th>\n",
              "      <td>-0.772665</td>\n",
              "    </tr>\n",
              "    <tr>\n",
              "      <th>thall</th>\n",
              "      <td>-0.788275</td>\n",
              "    </tr>\n",
              "    <tr>\n",
              "      <th>sex</th>\n",
              "      <td>-1.253969</td>\n",
              "    </tr>\n",
              "  </tbody>\n",
              "</table>\n",
              "</div>\n",
              "      <button class=\"colab-df-convert\" onclick=\"convertToInteractive('df-1c461819-8142-43b6-b012-255c1f899d63')\"\n",
              "              title=\"Convert this dataframe to an interactive table.\"\n",
              "              style=\"display:none;\">\n",
              "        \n",
              "  <svg xmlns=\"http://www.w3.org/2000/svg\" height=\"24px\"viewBox=\"0 0 24 24\"\n",
              "       width=\"24px\">\n",
              "    <path d=\"M0 0h24v24H0V0z\" fill=\"none\"/>\n",
              "    <path d=\"M18.56 5.44l.94 2.06.94-2.06 2.06-.94-2.06-.94-.94-2.06-.94 2.06-2.06.94zm-11 1L8.5 8.5l.94-2.06 2.06-.94-2.06-.94L8.5 2.5l-.94 2.06-2.06.94zm10 10l.94 2.06.94-2.06 2.06-.94-2.06-.94-.94-2.06-.94 2.06-2.06.94z\"/><path d=\"M17.41 7.96l-1.37-1.37c-.4-.4-.92-.59-1.43-.59-.52 0-1.04.2-1.43.59L10.3 9.45l-7.72 7.72c-.78.78-.78 2.05 0 2.83L4 21.41c.39.39.9.59 1.41.59.51 0 1.02-.2 1.41-.59l7.78-7.78 2.81-2.81c.8-.78.8-2.07 0-2.86zM5.41 20L4 18.59l7.72-7.72 1.47 1.35L5.41 20z\"/>\n",
              "  </svg>\n",
              "      </button>\n",
              "      \n",
              "  <style>\n",
              "    .colab-df-container {\n",
              "      display:flex;\n",
              "      flex-wrap:wrap;\n",
              "      gap: 12px;\n",
              "    }\n",
              "\n",
              "    .colab-df-convert {\n",
              "      background-color: #E8F0FE;\n",
              "      border: none;\n",
              "      border-radius: 50%;\n",
              "      cursor: pointer;\n",
              "      display: none;\n",
              "      fill: #1967D2;\n",
              "      height: 32px;\n",
              "      padding: 0 0 0 0;\n",
              "      width: 32px;\n",
              "    }\n",
              "\n",
              "    .colab-df-convert:hover {\n",
              "      background-color: #E2EBFA;\n",
              "      box-shadow: 0px 1px 2px rgba(60, 64, 67, 0.3), 0px 1px 3px 1px rgba(60, 64, 67, 0.15);\n",
              "      fill: #174EA6;\n",
              "    }\n",
              "\n",
              "    [theme=dark] .colab-df-convert {\n",
              "      background-color: #3B4455;\n",
              "      fill: #D2E3FC;\n",
              "    }\n",
              "\n",
              "    [theme=dark] .colab-df-convert:hover {\n",
              "      background-color: #434B5C;\n",
              "      box-shadow: 0px 1px 3px 1px rgba(0, 0, 0, 0.15);\n",
              "      filter: drop-shadow(0px 1px 2px rgba(0, 0, 0, 0.3));\n",
              "      fill: #FFFFFF;\n",
              "    }\n",
              "  </style>\n",
              "\n",
              "      <script>\n",
              "        const buttonEl =\n",
              "          document.querySelector('#df-1c461819-8142-43b6-b012-255c1f899d63 button.colab-df-convert');\n",
              "        buttonEl.style.display =\n",
              "          google.colab.kernel.accessAllowed ? 'block' : 'none';\n",
              "\n",
              "        async function convertToInteractive(key) {\n",
              "          const element = document.querySelector('#df-1c461819-8142-43b6-b012-255c1f899d63');\n",
              "          const dataTable =\n",
              "            await google.colab.kernel.invokeFunction('convertToInteractive',\n",
              "                                                     [key], {});\n",
              "          if (!dataTable) return;\n",
              "\n",
              "          const docLinkHtml = 'Like what you see? Visit the ' +\n",
              "            '<a target=\"_blank\" href=https://colab.research.google.com/notebooks/data_table.ipynb>data table notebook</a>'\n",
              "            + ' to learn more about interactive tables.';\n",
              "          element.innerHTML = '';\n",
              "          dataTable['output_type'] = 'display_data';\n",
              "          await google.colab.output.renderOutput(dataTable, element);\n",
              "          const docLink = document.createElement('div');\n",
              "          docLink.innerHTML = docLinkHtml;\n",
              "          element.appendChild(docLink);\n",
              "        }\n",
              "      </script>\n",
              "    </div>\n",
              "  </div>\n",
              "  "
            ]
          },
          "metadata": {},
          "execution_count": 22
        }
      ]
    },
    {
      "cell_type": "markdown",
      "source": [
        "Because of the logit function, logistic regression coefficients represent the log odds that an observation is in the target class (“1”) given the values of its X variables. Thus, these log odd coefficients need to be converted to regular odds in order to make sense of them. Happily, this is done by simply exponentiating the log odds coefficients, which you can do with np.exp():"
      ],
      "metadata": {
        "id": "T8Td1r_SrFnh"
      }
    },
    {
      "cell_type": "code",
      "source": [
        "odds = np.exp(lr.coef_[0])\n",
        "pd.DataFrame(odds, \n",
        "             X_train.columns, \n",
        "             columns=['coef'])\\\n",
        "            .sort_values(by='coef', ascending=False)"
      ],
      "metadata": {
        "colab": {
          "base_uri": "https://localhost:8080/",
          "height": 457
        },
        "id": "bDoQg-RirGt1",
        "outputId": "cff5b442-f760-4285-f7c1-c3d54774a7b8"
      },
      "execution_count": 23,
      "outputs": [
        {
          "output_type": "execute_result",
          "data": {
            "text/plain": [
              "              coef\n",
              "cp        2.539471\n",
              "restecg   1.305116\n",
              "fbs       1.121415\n",
              "thalachh  1.043008\n",
              "age       1.000768\n",
              "chol      0.996921\n",
              "trtbps    0.973760\n",
              "slp       0.842274\n",
              "oldpeak   0.497191\n",
              "caa       0.493923\n",
              "exng      0.461781\n",
              "thall     0.454629\n",
              "sex       0.285370"
            ],
            "text/html": [
              "\n",
              "  <div id=\"df-97ce067e-aa0a-4aff-8672-45f5367350b7\">\n",
              "    <div class=\"colab-df-container\">\n",
              "      <div>\n",
              "<style scoped>\n",
              "    .dataframe tbody tr th:only-of-type {\n",
              "        vertical-align: middle;\n",
              "    }\n",
              "\n",
              "    .dataframe tbody tr th {\n",
              "        vertical-align: top;\n",
              "    }\n",
              "\n",
              "    .dataframe thead th {\n",
              "        text-align: right;\n",
              "    }\n",
              "</style>\n",
              "<table border=\"1\" class=\"dataframe\">\n",
              "  <thead>\n",
              "    <tr style=\"text-align: right;\">\n",
              "      <th></th>\n",
              "      <th>coef</th>\n",
              "    </tr>\n",
              "  </thead>\n",
              "  <tbody>\n",
              "    <tr>\n",
              "      <th>cp</th>\n",
              "      <td>2.539471</td>\n",
              "    </tr>\n",
              "    <tr>\n",
              "      <th>restecg</th>\n",
              "      <td>1.305116</td>\n",
              "    </tr>\n",
              "    <tr>\n",
              "      <th>fbs</th>\n",
              "      <td>1.121415</td>\n",
              "    </tr>\n",
              "    <tr>\n",
              "      <th>thalachh</th>\n",
              "      <td>1.043008</td>\n",
              "    </tr>\n",
              "    <tr>\n",
              "      <th>age</th>\n",
              "      <td>1.000768</td>\n",
              "    </tr>\n",
              "    <tr>\n",
              "      <th>chol</th>\n",
              "      <td>0.996921</td>\n",
              "    </tr>\n",
              "    <tr>\n",
              "      <th>trtbps</th>\n",
              "      <td>0.973760</td>\n",
              "    </tr>\n",
              "    <tr>\n",
              "      <th>slp</th>\n",
              "      <td>0.842274</td>\n",
              "    </tr>\n",
              "    <tr>\n",
              "      <th>oldpeak</th>\n",
              "      <td>0.497191</td>\n",
              "    </tr>\n",
              "    <tr>\n",
              "      <th>caa</th>\n",
              "      <td>0.493923</td>\n",
              "    </tr>\n",
              "    <tr>\n",
              "      <th>exng</th>\n",
              "      <td>0.461781</td>\n",
              "    </tr>\n",
              "    <tr>\n",
              "      <th>thall</th>\n",
              "      <td>0.454629</td>\n",
              "    </tr>\n",
              "    <tr>\n",
              "      <th>sex</th>\n",
              "      <td>0.285370</td>\n",
              "    </tr>\n",
              "  </tbody>\n",
              "</table>\n",
              "</div>\n",
              "      <button class=\"colab-df-convert\" onclick=\"convertToInteractive('df-97ce067e-aa0a-4aff-8672-45f5367350b7')\"\n",
              "              title=\"Convert this dataframe to an interactive table.\"\n",
              "              style=\"display:none;\">\n",
              "        \n",
              "  <svg xmlns=\"http://www.w3.org/2000/svg\" height=\"24px\"viewBox=\"0 0 24 24\"\n",
              "       width=\"24px\">\n",
              "    <path d=\"M0 0h24v24H0V0z\" fill=\"none\"/>\n",
              "    <path d=\"M18.56 5.44l.94 2.06.94-2.06 2.06-.94-2.06-.94-.94-2.06-.94 2.06-2.06.94zm-11 1L8.5 8.5l.94-2.06 2.06-.94-2.06-.94L8.5 2.5l-.94 2.06-2.06.94zm10 10l.94 2.06.94-2.06 2.06-.94-2.06-.94-.94-2.06-.94 2.06-2.06.94z\"/><path d=\"M17.41 7.96l-1.37-1.37c-.4-.4-.92-.59-1.43-.59-.52 0-1.04.2-1.43.59L10.3 9.45l-7.72 7.72c-.78.78-.78 2.05 0 2.83L4 21.41c.39.39.9.59 1.41.59.51 0 1.02-.2 1.41-.59l7.78-7.78 2.81-2.81c.8-.78.8-2.07 0-2.86zM5.41 20L4 18.59l7.72-7.72 1.47 1.35L5.41 20z\"/>\n",
              "  </svg>\n",
              "      </button>\n",
              "      \n",
              "  <style>\n",
              "    .colab-df-container {\n",
              "      display:flex;\n",
              "      flex-wrap:wrap;\n",
              "      gap: 12px;\n",
              "    }\n",
              "\n",
              "    .colab-df-convert {\n",
              "      background-color: #E8F0FE;\n",
              "      border: none;\n",
              "      border-radius: 50%;\n",
              "      cursor: pointer;\n",
              "      display: none;\n",
              "      fill: #1967D2;\n",
              "      height: 32px;\n",
              "      padding: 0 0 0 0;\n",
              "      width: 32px;\n",
              "    }\n",
              "\n",
              "    .colab-df-convert:hover {\n",
              "      background-color: #E2EBFA;\n",
              "      box-shadow: 0px 1px 2px rgba(60, 64, 67, 0.3), 0px 1px 3px 1px rgba(60, 64, 67, 0.15);\n",
              "      fill: #174EA6;\n",
              "    }\n",
              "\n",
              "    [theme=dark] .colab-df-convert {\n",
              "      background-color: #3B4455;\n",
              "      fill: #D2E3FC;\n",
              "    }\n",
              "\n",
              "    [theme=dark] .colab-df-convert:hover {\n",
              "      background-color: #434B5C;\n",
              "      box-shadow: 0px 1px 3px 1px rgba(0, 0, 0, 0.15);\n",
              "      filter: drop-shadow(0px 1px 2px rgba(0, 0, 0, 0.3));\n",
              "      fill: #FFFFFF;\n",
              "    }\n",
              "  </style>\n",
              "\n",
              "      <script>\n",
              "        const buttonEl =\n",
              "          document.querySelector('#df-97ce067e-aa0a-4aff-8672-45f5367350b7 button.colab-df-convert');\n",
              "        buttonEl.style.display =\n",
              "          google.colab.kernel.accessAllowed ? 'block' : 'none';\n",
              "\n",
              "        async function convertToInteractive(key) {\n",
              "          const element = document.querySelector('#df-97ce067e-aa0a-4aff-8672-45f5367350b7');\n",
              "          const dataTable =\n",
              "            await google.colab.kernel.invokeFunction('convertToInteractive',\n",
              "                                                     [key], {});\n",
              "          if (!dataTable) return;\n",
              "\n",
              "          const docLinkHtml = 'Like what you see? Visit the ' +\n",
              "            '<a target=\"_blank\" href=https://colab.research.google.com/notebooks/data_table.ipynb>data table notebook</a>'\n",
              "            + ' to learn more about interactive tables.';\n",
              "          element.innerHTML = '';\n",
              "          dataTable['output_type'] = 'display_data';\n",
              "          await google.colab.output.renderOutput(dataTable, element);\n",
              "          const docLink = document.createElement('div');\n",
              "          docLink.innerHTML = docLinkHtml;\n",
              "          element.appendChild(docLink);\n",
              "        }\n",
              "      </script>\n",
              "    </div>\n",
              "  </div>\n",
              "  "
            ]
          },
          "metadata": {},
          "execution_count": 23
        }
      ]
    },
    {
      "cell_type": "markdown",
      "source": [
        "So, as variable cp (again, chest pain) increases by one unit, the odds of getting the heart attack represented in the observation are in the target class (“1”) are over 2.51x as large as the odds that they won’t be in the target class. On the other hand, as caa increases by one unit, the odds of getting heart attack are in the target class are only 0.27. For odds less than 1 (our negative coefficients), we can take 1/odds to make even better sense of them. So as caa increases by 1, the odds of getting heart-attack is NOT in the target class are 1/0.27 or 2.51x (ominous!) as likely as the odds that it IS in the target class."
      ],
      "metadata": {
        "id": "lW10Pu0fp5nL"
      }
    },
    {
      "cell_type": "code",
      "source": [
        "explainer= shap.LinearExplainer(lr,X_train)\n",
        "shap_values= explainer.shap_values(X_train)"
      ],
      "metadata": {
        "id": "r70rgTukoS8a"
      },
      "execution_count": 29,
      "outputs": []
    },
    {
      "cell_type": "markdown",
      "source": [
        "**SHAP analysis on the models from steps 1** <br/>\n",
        "shap.summary_plot(shap_values, X_train) is a function call in the Python package SHAP (SHapley Additive exPlanations) that generates a summary plot for a given set of SHAP values and corresponding input features.<br/> \n",
        "\n",
        "SHAP values are a way to explain the output of a machine learning model by assigning a numerical value to each input feature, indicating how much that feature contributes to the model's prediction. The SHAP values are calculated based on the Shapley value concept from cooperative game theory.<br/> \n",
        "\n",
        "In the shap.summary_plot function call, shap_values is a matrix of SHAP values for the training set X_train. The X_train matrix contains the input features used to train the machine learning model. The summary plot shows the global feature importance of each feature, sorted by their mean absolute SHAP value.<br/> \n",
        "\n",
        "The summary plot consists of a horizontal bar chart with each bar representing a single input feature. The color of the bar indicates the direction of the feature's impact on the model's prediction, with red indicating positive impact and blue indicating negative impact. The length of the bar indicates the magnitude of the feature's impact on the model's prediction, with longer bars indicating larger impacts.<br/> \n",
        "\n",
        "The summary plot also includes a vertical line for each feature, showing the range of values for that feature in the training set. This can help identify any nonlinear relationships between the input features and the model's prediction.<br/> \n",
        "\n",
        "Overall, the shap.summary_plot function call is a useful tool for visualizing the global feature importance of a machine learning model and understanding how different input features contribute to the model's prediction.<br/>\n",
        "\n",
        "\n",
        "\n",
        "\n"
      ],
      "metadata": {
        "id": "FJ026qnHslFb"
      }
    },
    {
      "cell_type": "markdown",
      "source": [],
      "metadata": {
        "id": "1zxdUMqEIwyv"
      }
    },
    {
      "cell_type": "code",
      "source": [
        "shap.summary_plot(shap_values,X_train)"
      ],
      "metadata": {
        "colab": {
          "base_uri": "https://localhost:8080/",
          "height": 694
        },
        "id": "kWpx1oNPoS5-",
        "outputId": "66f6aa85-5745-4f31-ef61-e9ceb14ec901"
      },
      "execution_count": 30,
      "outputs": [
        {
          "output_type": "stream",
          "name": "stderr",
          "text": [
            "No data for colormapping provided via 'c'. Parameters 'vmin', 'vmax' will be ignored\n"
          ]
        },
        {
          "output_type": "display_data",
          "data": {
            "text/plain": [
              "<Figure size 800x670 with 2 Axes>"
            ],
            "image/png": "[encoded data removed]"
          },
          "metadata": {}
        }
      ]
    },
    {
      "cell_type": "markdown",
      "source": [
        "**Intepreting the SHAP values:** <br/> \n",
        "\n",
        "high values of the cp variable have a high negative contribution on the prediction, while low values have a high positive contribution.\n",
        "\n",
        "Here, higher the thalachh increases the higher is chance of heart attack output to be 1 and old peak is not affecting the target output"
      ],
      "metadata": {
        "id": "ZiYmXdgaHqS4"
      }
    },
    {
      "cell_type": "markdown",
      "source": [
        "**Fitting a tree-based model and interpret the nodes**"
      ],
      "metadata": {
        "id": "Sx2zggOOx-re"
      }
    },
    {
      "cell_type": "code",
      "source": [
        "dt = tree.DecisionTreeClassifier(criterion='entropy')"
      ],
      "metadata": {
        "id": "o5YLTGyrs1xS"
      },
      "execution_count": 31,
      "outputs": []
    },
    {
      "cell_type": "code",
      "source": [
        "dt.fit(X_train, y_train)"
      ],
      "metadata": {
        "colab": {
          "base_uri": "https://localhost:8080/",
          "height": 75
        },
        "id": "34_8HBKSs1uq",
        "outputId": "7badd465-b72e-426b-b700-91c5a3c88915"
      },
      "execution_count": 32,
      "outputs": [
        {
          "output_type": "execute_result",
          "data": {
            "text/plain": [
              "DecisionTreeClassifier(criterion='entropy')"
            ],
            "text/html": [
              "<style>#sk-container-id-2 {color: black;background-color: white;}#sk-container-id-2 pre{padding: 0;}#sk-container-id-2 div.sk-toggleable {background-color: white;}#sk-container-id-2 label.sk-toggleable__label {cursor: pointer;display: block;width: 100%;margin-bottom: 0;padding: 0.3em;box-sizing: border-box;text-align: center;}#sk-container-id-2 label.sk-toggleable__label-arrow:before {content: \"▸\";float: left;margin-right: 0.25em;color: #696969;}#sk-container-id-2 label.sk-toggleable__label-arrow:hover:before {color: black;}#sk-container-id-2 div.sk-estimator:hover label.sk-toggleable__label-arrow:before {color: black;}#sk-container-id-2 div.sk-toggleable__content {max-height: 0;max-width: 0;overflow: hidden;text-align: left;background-color: #f0f8ff;}#sk-container-id-2 div.sk-toggleable__content pre {margin: 0.2em;color: black;border-radius: 0.25em;background-color: #f0f8ff;}#sk-container-id-2 input.sk-toggleable__control:checked~div.sk-toggleable__content {max-height: 200px;max-width: 100%;overflow: auto;}#sk-container-id-2 input.sk-toggleable__control:checked~label.sk-toggleable__label-arrow:before {content: \"▾\";}#sk-container-id-2 div.sk-estimator input.sk-toggleable__control:checked~label.sk-toggleable__label {background-color: #d4ebff;}#sk-container-id-2 div.sk-label input.sk-toggleable__control:checked~label.sk-toggleable__label {background-color: #d4ebff;}#sk-container-id-2 input.sk-hidden--visually {border: 0;clip: rect(1px 1px 1px 1px);clip: rect(1px, 1px, 1px, 1px);height: 1px;margin: -1px;overflow: hidden;padding: 0;position: absolute;width: 1px;}#sk-container-id-2 div.sk-estimator {font-family: monospace;background-color: #f0f8ff;border: 1px dotted black;border-radius: 0.25em;box-sizing: border-box;margin-bottom: 0.5em;}#sk-container-id-2 div.sk-estimator:hover {background-color: #d4ebff;}#sk-container-id-2 div.sk-parallel-item::after {content: \"\";width: 100%;border-bottom: 1px solid gray;flex-grow: 1;}#sk-container-id-2 div.sk-label:hover label.sk-toggleable__label {background-color: #d4ebff;}#sk-container-id-2 div.sk-serial::before {content: \"\";position: absolute;border-left: 1px solid gray;box-sizing: border-box;top: 0;bottom: 0;left: 50%;z-index: 0;}#sk-container-id-2 div.sk-serial {display: flex;flex-direction: column;align-items: center;background-color: white;padding-right: 0.2em;padding-left: 0.2em;position: relative;}#sk-container-id-2 div.sk-item {position: relative;z-index: 1;}#sk-container-id-2 div.sk-parallel {display: flex;align-items: stretch;justify-content: center;background-color: white;position: relative;}#sk-container-id-2 div.sk-item::before, #sk-container-id-2 div.sk-parallel-item::before {content: \"\";position: absolute;border-left: 1px solid gray;box-sizing: border-box;top: 0;bottom: 0;left: 50%;z-index: -1;}#sk-container-id-2 div.sk-parallel-item {display: flex;flex-direction: column;z-index: 1;position: relative;background-color: white;}#sk-container-id-2 div.sk-parallel-item:first-child::after {align-self: flex-end;width: 50%;}#sk-container-id-2 div.sk-parallel-item:last-child::after {align-self: flex-start;width: 50%;}#sk-container-id-2 div.sk-parallel-item:only-child::after {width: 0;}#sk-container-id-2 div.sk-dashed-wrapped {border: 1px dashed gray;margin: 0 0.4em 0.5em 0.4em;box-sizing: border-box;padding-bottom: 0.4em;background-color: white;}#sk-container-id-2 div.sk-label label {font-family: monospace;font-weight: bold;display: inline-block;line-height: 1.2em;}#sk-container-id-2 div.sk-label-container {text-align: center;}#sk-container-id-2 div.sk-container {/* jupyter's `normalize.less` sets `[hidden] { display: none; }` but bootstrap.min.css set `[hidden] { display: none !important; }` so we also need the `!important` here to be able to override the default hidden behavior on the sphinx rendered scikit-learn.org. See: https://github.com/scikit-learn/scikit-learn/issues/21755 */display: inline-block !important;position: relative;}#sk-container-id-2 div.sk-text-repr-fallback {display: none;}</style><div id=\"sk-container-id-2\" class=\"sk-top-container\"><div class=\"sk-text-repr-fallback\"><pre>DecisionTreeClassifier(criterion=&#x27;entropy&#x27;)</pre><b>In a Jupyter environment, please rerun this cell to show the HTML representation or trust the notebook. <br />On GitHub, the HTML representation is unable to render, please try loading this page with nbviewer.org.</b></div><div class=\"sk-container\" hidden><div class=\"sk-item\"><div class=\"sk-estimator sk-toggleable\"><input class=\"sk-toggleable__control sk-hidden--visually\" id=\"sk-estimator-id-2\" type=\"checkbox\" checked><label for=\"sk-estimator-id-2\" class=\"sk-toggleable__label sk-toggleable__label-arrow\">DecisionTreeClassifier</label><div class=\"sk-toggleable__content\"><pre>DecisionTreeClassifier(criterion=&#x27;entropy&#x27;)</pre></div></div></div></div></div>"
            ]
          },
          "metadata": {},
          "execution_count": 32
        }
      ]
    },
    {
      "cell_type": "code",
      "source": [
        "plt.figure(figsize=(15,10))\n",
        "tree.plot_tree(dt,filled=True)"
      ],
      "metadata": {
        "colab": {
          "base_uri": "https://localhost:8080/",
          "height": 1000
        },
        "id": "odDzkI2ps1sF",
        "outputId": "98a896a1-c5af-468a-a235-cbccf1fc81d5"
      },
      "execution_count": 33,
      "outputs": [
        {
          "output_type": "execute_result",
          "data": {
            "text/plain": [
              "[Text(0.5833333333333334, 0.95, 'x[2] <= 0.5\\nentropy = 0.992\\nsamples = 212\\nvalue = [95, 117]'),\n",
              " Text(0.38333333333333336, 0.85, 'x[11] <= 0.5\\nentropy = 0.841\\nsamples = 100\\nvalue = [73, 27]'),\n",
              " Text(0.26666666666666666, 0.75, 'x[12] <= 2.5\\nentropy = 0.999\\nsamples = 48\\nvalue = [23, 25]'),\n",
              " Text(0.2, 0.65, 'x[10] <= 1.5\\nentropy = 0.722\\nsamples = 30\\nvalue = [6, 24]'),\n",
              " Text(0.16666666666666666, 0.55, 'x[3] <= 145.0\\nentropy = 0.918\\nsamples = 18\\nvalue = [6, 12]'),\n",
              " Text(0.13333333333333333, 0.45, 'x[4] <= 240.0\\nentropy = 0.722\\nsamples = 15\\nvalue = [3, 12]'),\n",
              " Text(0.1, 0.35, 'x[3] <= 127.0\\nentropy = 0.954\\nsamples = 8\\nvalue = [3, 5]'),\n",
              " Text(0.06666666666666667, 0.25, 'x[3] <= 116.0\\nentropy = 0.971\\nsamples = 5\\nvalue = [3, 2]'),\n",
              " Text(0.03333333333333333, 0.15, 'entropy = 0.0\\nsamples = 2\\nvalue = [0, 2]'),\n",
              " Text(0.1, 0.15, 'entropy = 0.0\\nsamples = 3\\nvalue = [3, 0]'),\n",
              " Text(0.13333333333333333, 0.25, 'entropy = 0.0\\nsamples = 3\\nvalue = [0, 3]'),\n",
              " Text(0.16666666666666666, 0.35, 'entropy = 0.0\\nsamples = 7\\nvalue = [0, 7]'),\n",
              " Text(0.2, 0.45, 'entropy = 0.0\\nsamples = 3\\nvalue = [3, 0]'),\n",
              " Text(0.23333333333333334, 0.55, 'entropy = 0.0\\nsamples = 12\\nvalue = [0, 12]'),\n",
              " Text(0.3333333333333333, 0.65, 'x[9] <= 0.25\\nentropy = 0.31\\nsamples = 18\\nvalue = [17, 1]'),\n",
              " Text(0.3, 0.55, 'x[4] <= 215.0\\nentropy = 0.918\\nsamples = 3\\nvalue = [2, 1]'),\n",
              " Text(0.26666666666666666, 0.45, 'entropy = 0.0\\nsamples = 1\\nvalue = [0, 1]'),\n",
              " Text(0.3333333333333333, 0.45, 'entropy = 0.0\\nsamples = 2\\nvalue = [2, 0]'),\n",
              " Text(0.36666666666666664, 0.55, 'entropy = 0.0\\nsamples = 15\\nvalue = [15, 0]'),\n",
              " Text(0.5, 0.75, 'x[9] <= 0.45\\nentropy = 0.235\\nsamples = 52\\nvalue = [50, 2]'),\n",
              " Text(0.4666666666666667, 0.65, 'x[9] <= 0.15\\nentropy = 0.684\\nsamples = 11\\nvalue = [9, 2]'),\n",
              " Text(0.43333333333333335, 0.55, 'entropy = 0.0\\nsamples = 9\\nvalue = [9, 0]'),\n",
              " Text(0.5, 0.55, 'entropy = 0.0\\nsamples = 2\\nvalue = [0, 2]'),\n",
              " Text(0.5333333333333333, 0.65, 'entropy = 0.0\\nsamples = 41\\nvalue = [41, 0]'),\n",
              " Text(0.7833333333333333, 0.85, 'x[7] <= 152.5\\nentropy = 0.715\\nsamples = 112\\nvalue = [22, 90]'),\n",
              " Text(0.6666666666666666, 0.75, 'x[1] <= 0.5\\nentropy = 0.977\\nsamples = 39\\nvalue = [16, 23]'),\n",
              " Text(0.6, 0.65, 'x[7] <= 150.5\\nentropy = 0.469\\nsamples = 10\\nvalue = [1, 9]'),\n",
              " Text(0.5666666666666667, 0.55, 'entropy = 0.0\\nsamples = 9\\nvalue = [0, 9]'),\n",
              " Text(0.6333333333333333, 0.55, 'entropy = 0.0\\nsamples = 1\\nvalue = [1, 0]'),\n",
              " Text(0.7333333333333333, 0.65, 'x[10] <= 0.5\\nentropy = 0.999\\nsamples = 29\\nvalue = [15, 14]'),\n",
              " Text(0.7, 0.55, 'entropy = 0.0\\nsamples = 3\\nvalue = [0, 3]'),\n",
              " Text(0.7666666666666667, 0.55, 'x[4] <= 259.5\\nentropy = 0.983\\nsamples = 26\\nvalue = [15, 11]'),\n",
              " Text(0.7333333333333333, 0.45, 'x[9] <= 1.9\\nentropy = 0.982\\nsamples = 19\\nvalue = [8, 11]'),\n",
              " Text(0.7, 0.35, 'x[7] <= 148.5\\nentropy = 0.837\\nsamples = 15\\nvalue = [4, 11]'),\n",
              " Text(0.6666666666666666, 0.25, 'x[7] <= 128.5\\nentropy = 0.619\\nsamples = 13\\nvalue = [2, 11]'),\n",
              " Text(0.6333333333333333, 0.15, 'x[3] <= 114.0\\nentropy = 0.918\\nsamples = 3\\nvalue = [2, 1]'),\n",
              " Text(0.6, 0.05, 'entropy = 0.0\\nsamples = 1\\nvalue = [0, 1]'),\n",
              " Text(0.6666666666666666, 0.05, 'entropy = 0.0\\nsamples = 2\\nvalue = [2, 0]'),\n",
              " Text(0.7, 0.15, 'entropy = 0.0\\nsamples = 10\\nvalue = [0, 10]'),\n",
              " Text(0.7333333333333333, 0.25, 'entropy = 0.0\\nsamples = 2\\nvalue = [2, 0]'),\n",
              " Text(0.7666666666666667, 0.35, 'entropy = 0.0\\nsamples = 4\\nvalue = [4, 0]'),\n",
              " Text(0.8, 0.45, 'entropy = 0.0\\nsamples = 7\\nvalue = [7, 0]'),\n",
              " Text(0.9, 0.75, 'x[0] <= 53.0\\nentropy = 0.41\\nsamples = 73\\nvalue = [6, 67]'),\n",
              " Text(0.8666666666666667, 0.65, 'entropy = 0.0\\nsamples = 47\\nvalue = [0, 47]'),\n",
              " Text(0.9333333333333333, 0.65, 'x[7] <= 173.5\\nentropy = 0.779\\nsamples = 26\\nvalue = [6, 20]'),\n",
              " Text(0.9, 0.55, 'x[1] <= 0.5\\nentropy = 0.65\\nsamples = 24\\nvalue = [4, 20]'),\n",
              " Text(0.8666666666666667, 0.45, 'entropy = 0.0\\nsamples = 12\\nvalue = [0, 12]'),\n",
              " Text(0.9333333333333333, 0.45, 'x[11] <= 1.5\\nentropy = 0.918\\nsamples = 12\\nvalue = [4, 8]'),\n",
              " Text(0.9, 0.35, 'x[12] <= 2.5\\nentropy = 0.722\\nsamples = 10\\nvalue = [2, 8]'),\n",
              " Text(0.8666666666666667, 0.25, 'x[7] <= 164.5\\nentropy = 1.0\\nsamples = 4\\nvalue = [2, 2]'),\n",
              " Text(0.8333333333333334, 0.15, 'entropy = 0.0\\nsamples = 2\\nvalue = [2, 0]'),\n",
              " Text(0.9, 0.15, 'entropy = 0.0\\nsamples = 2\\nvalue = [0, 2]'),\n",
              " Text(0.9333333333333333, 0.25, 'entropy = 0.0\\nsamples = 6\\nvalue = [0, 6]'),\n",
              " Text(0.9666666666666667, 0.35, 'entropy = 0.0\\nsamples = 2\\nvalue = [2, 0]'),\n",
              " Text(0.9666666666666667, 0.55, 'entropy = 0.0\\nsamples = 2\\nvalue = [2, 0]')]"
            ]
          },
          "metadata": {},
          "execution_count": 33
        },
        {
          "output_type": "display_data",
          "data": {
            "text/plain": [
              "<Figure size 1500x1000 with 1 Axes>"
            ],
            "image/png": "[encoded data removed]"
          },
          "metadata": {}
        }
      ]
    },
    {
      "cell_type": "code",
      "source": [
        "explainer= shap.TreeExplainer(dt)\n",
        "shap_values= explainer.shap_values(X_train)"
      ],
      "metadata": {
        "id": "nmvWniOvs1pu"
      },
      "execution_count": 34,
      "outputs": []
    },
    {
      "cell_type": "markdown",
      "source": [
        "**SHAP analysis on the models from step 2:**"
      ],
      "metadata": {
        "id": "VLK4YzLMyIPv"
      }
    },
    {
      "cell_type": "code",
      "source": [
        "shap.summary_plot(shap_values,X_train)"
      ],
      "metadata": {
        "colab": {
          "base_uri": "https://localhost:8080/",
          "height": 676
        },
        "id": "21-5sdR6s1nI",
        "outputId": "1a6ef9a3-d7a1-4ea3-f970-59519cbb33e6"
      },
      "execution_count": 35,
      "outputs": [
        {
          "output_type": "display_data",
          "data": {
            "text/plain": [
              "<Figure size 800x670 with 1 Axes>"
            ],
            "image/png": "[encoded data removed]"
          },
          "metadata": {}
        }
      ]
    },
    {
      "cell_type": "markdown",
      "source": [
        "**Intepreting the SHAP values:** <br/> \n",
        "This plot shows the cp, caa and thalachh are the important features in the given dataset"
      ],
      "metadata": {
        "id": "LTpr0nmoZ2e0"
      }
    },
    {
      "cell_type": "markdown",
      "source": [
        "**Using auto ml to find the best model**"
      ],
      "metadata": {
        "id": "daJuyGxByO9C"
      }
    },
    {
      "cell_type": "markdown",
      "source": [
        "**Installing pycaret**"
      ],
      "metadata": {
        "id": "5yVbLjIEtS1i"
      }
    },
    {
      "cell_type": "code",
      "source": [
        "%pip install pycaret"
      ],
      "metadata": {
        "colab": {
          "base_uri": "https://localhost:8080/"
        },
        "id": "d_-pazh_s1kx",
        "outputId": "f07580dc-2f99-4ff9-ec80-3360e47a07b5"
      },
      "execution_count": 39,
      "outputs": [
        {
          "output_type": "stream",
          "name": "stdout",
          "text": [
            "Looking in indexes: https://pypi.org/simple, https://us-python.pkg.dev/colab-wheels/public/simple/\n",
            "Requirement already satisfied: pycaret in /usr/local/lib/python3.9/dist-packages (3.0.0)\n",
            "Requirement already satisfied: pandas<1.6.0,>=1.3.0 in /usr/local/lib/python3.9/dist-packages (from pycaret) (1.4.4)\n",
            "Requirement already satisfied: jinja2>=1.2 in /usr/local/lib/python3.9/dist-packages (from pycaret) (3.1.2)\n",
            "Requirement already satisfied: joblib>=1.2.0 in /usr/local/lib/python3.9/dist-packages (from pycaret) (1.2.0)\n",
            "Requirement already satisfied: category-encoders>=2.4.0 in /usr/local/lib/python3.9/dist-packages (from pycaret) (2.6.0)\n",
            "Requirement already satisfied: statsmodels>=0.12.1 in /usr/local/lib/python3.9/dist-packages (from pycaret) (0.13.5)\n",
            "Requirement already satisfied: sktime>=0.16.1 in /usr/local/lib/python3.9/dist-packages (from pycaret) (0.16.1)\n",
            "Requirement already satisfied: psutil>=5.9.0 in /usr/local/lib/python3.9/dist-packages (from pycaret) (5.9.4)\n",
            "Requirement already satisfied: matplotlib>=3.3.0 in /usr/local/lib/python3.9/dist-packages (from pycaret) (3.7.1)\n",
            "Requirement already satisfied: ipywidgets>=7.6.5 in /usr/local/lib/python3.9/dist-packages (from pycaret) (7.7.1)\n",
            "Requirement already satisfied: numba>=0.55.0 in /usr/local/lib/python3.9/dist-packages (from pycaret) (0.56.4)\n",
            "Requirement already satisfied: tqdm>=4.62.0 in /usr/local/lib/python3.9/dist-packages (from pycaret) (4.65.0)\n",
            "Requirement already satisfied: scikit-learn>=1.0 in /usr/local/lib/python3.9/dist-packages (from pycaret) (1.2.2)\n",
            "Requirement already satisfied: scipy<2.0.0 in /usr/local/lib/python3.9/dist-packages (from pycaret) (1.10.1)\n",
            "Requirement already satisfied: yellowbrick>=1.4 in /usr/local/lib/python3.9/dist-packages (from pycaret) (1.5)\n",
            "Requirement already satisfied: plotly>=5.0.0 in /usr/local/lib/python3.9/dist-packages (from pycaret) (5.13.1)\n",
            "Requirement already satisfied: pmdarima!=1.8.1,<3.0.0,>=1.8.0 in /usr/local/lib/python3.9/dist-packages (from pycaret) (2.0.3)\n",
            "Requirement already satisfied: wurlitzer in /usr/local/lib/python3.9/dist-packages (from pycaret) (3.0.3)\n",
            "Requirement already satisfied: imbalanced-learn>=0.8.1 in /usr/local/lib/python3.9/dist-packages (from pycaret) (0.10.1)\n",
            "Requirement already satisfied: schemdraw>=0.14 in /usr/local/lib/python3.9/dist-packages (from pycaret) (0.16)\n",
            "Requirement already satisfied: lightgbm>=3.0.0 in /usr/local/lib/python3.9/dist-packages (from pycaret) (3.3.5)\n",
            "Requirement already satisfied: markupsafe>=2.0.1 in /usr/local/lib/python3.9/dist-packages (from pycaret) (2.1.2)\n",
            "Requirement already satisfied: deprecation>=2.1.0 in /usr/local/lib/python3.9/dist-packages (from pycaret) (2.1.0)\n",
            "Requirement already satisfied: plotly-resampler>=0.8.3.1 in /usr/local/lib/python3.9/dist-packages (from pycaret) (0.8.3.2)\n",
            "Requirement already satisfied: importlib-metadata>=4.12.0 in /usr/local/lib/python3.9/dist-packages (from pycaret) (6.1.0)\n",
            "Requirement already satisfied: pyod>=1.0.8 in /usr/local/lib/python3.9/dist-packages (from pycaret) (1.0.9)\n",
            "Requirement already satisfied: scikit-plot>=0.3.7 in /usr/local/lib/python3.9/dist-packages (from pycaret) (0.3.7)\n",
            "Requirement already satisfied: cloudpickle in /usr/local/lib/python3.9/dist-packages (from pycaret) (2.2.1)\n",
            "Requirement already satisfied: nbformat>=4.2.0 in /usr/local/lib/python3.9/dist-packages (from pycaret) (5.8.0)\n",
            "Requirement already satisfied: numpy<1.25,>=1.21 in /usr/local/lib/python3.9/dist-packages (from pycaret) (1.22.4)\n",
            "Requirement already satisfied: xxhash in /usr/local/lib/python3.9/dist-packages (from pycaret) (3.2.0)\n",
            "Requirement already satisfied: kaleido>=0.2.1 in /usr/local/lib/python3.9/dist-packages (from pycaret) (0.2.1)\n",
            "Requirement already satisfied: ipython>=5.5.0 in /usr/local/lib/python3.9/dist-packages (from pycaret) (7.34.0)\n",
            "Requirement already satisfied: requests>=2.27.1 in /usr/local/lib/python3.9/dist-packages (from pycaret) (2.27.1)\n",
            "Requirement already satisfied: tbats>=1.1.0 in /usr/local/lib/python3.9/dist-packages (from pycaret) (1.1.2)\n",
            "Requirement already satisfied: patsy>=0.5.1 in /usr/local/lib/python3.9/dist-packages (from category-encoders>=2.4.0->pycaret) (0.5.3)\n",
            "Requirement already satisfied: packaging in /usr/local/lib/python3.9/dist-packages (from deprecation>=2.1.0->pycaret) (23.0)\n",
            "Requirement already satisfied: threadpoolctl>=2.0.0 in /usr/local/lib/python3.9/dist-packages (from imbalanced-learn>=0.8.1->pycaret) (3.1.0)\n",
            "Requirement already satisfied: zipp>=0.5 in /usr/local/lib/python3.9/dist-packages (from importlib-metadata>=4.12.0->pycaret) (3.15.0)\n",
            "Requirement already satisfied: backcall in /usr/local/lib/python3.9/dist-packages (from ipython>=5.5.0->pycaret) (0.2.0)\n",
            "Requirement already satisfied: prompt-toolkit!=3.0.0,!=3.0.1,<3.1.0,>=2.0.0 in /usr/local/lib/python3.9/dist-packages (from ipython>=5.5.0->pycaret) (3.0.38)\n",
            "Requirement already satisfied: matplotlib-inline in /usr/local/lib/python3.9/dist-packages (from ipython>=5.5.0->pycaret) (0.1.6)\n",
            "Requirement already satisfied: jedi>=0.16 in /usr/local/lib/python3.9/dist-packages (from ipython>=5.5.0->pycaret) (0.18.2)\n",
            "Requirement already satisfied: setuptools>=18.5 in /usr/local/lib/python3.9/dist-packages (from ipython>=5.5.0->pycaret) (67.6.1)\n",
            "Requirement already satisfied: pygments in /usr/local/lib/python3.9/dist-packages (from ipython>=5.5.0->pycaret) (2.14.0)\n",
            "Requirement already satisfied: traitlets>=4.2 in /usr/local/lib/python3.9/dist-packages (from ipython>=5.5.0->pycaret) (5.7.1)\n",
            "Requirement already satisfied: decorator in /usr/local/lib/python3.9/dist-packages (from ipython>=5.5.0->pycaret) (4.4.2)\n",
            "Requirement already satisfied: pexpect>4.3 in /usr/local/lib/python3.9/dist-packages (from ipython>=5.5.0->pycaret) (4.8.0)\n",
            "Requirement already satisfied: pickleshare in /usr/local/lib/python3.9/dist-packages (from ipython>=5.5.0->pycaret) (0.7.5)\n",
            "Requirement already satisfied: ipykernel>=4.5.1 in /usr/local/lib/python3.9/dist-packages (from ipywidgets>=7.6.5->pycaret) (5.5.6)\n",
            "Requirement already satisfied: jupyterlab-widgets>=1.0.0 in /usr/local/lib/python3.9/dist-packages (from ipywidgets>=7.6.5->pycaret) (3.0.6)\n",
            "Requirement already satisfied: ipython-genutils~=0.2.0 in /usr/local/lib/python3.9/dist-packages (from ipywidgets>=7.6.5->pycaret) (0.2.0)\n",
            "Requirement already satisfied: widgetsnbextension~=3.6.0 in /usr/local/lib/python3.9/dist-packages (from ipywidgets>=7.6.5->pycaret) (3.6.3)\n",
            "Requirement already satisfied: wheel in /usr/local/lib/python3.9/dist-packages (from lightgbm>=3.0.0->pycaret) (0.40.0)\n",
            "Requirement already satisfied: pyparsing>=2.3.1 in /usr/local/lib/python3.9/dist-packages (from matplotlib>=3.3.0->pycaret) (3.0.9)\n",
            "Requirement already satisfied: pillow>=6.2.0 in /usr/local/lib/python3.9/dist-packages (from matplotlib>=3.3.0->pycaret) (8.4.0)\n",
            "Requirement already satisfied: fonttools>=4.22.0 in /usr/local/lib/python3.9/dist-packages (from matplotlib>=3.3.0->pycaret) (4.39.2)\n",
            "Requirement already satisfied: cycler>=0.10 in /usr/local/lib/python3.9/dist-packages (from matplotlib>=3.3.0->pycaret) (0.11.0)\n",
            "Requirement already satisfied: python-dateutil>=2.7 in /usr/local/lib/python3.9/dist-packages (from matplotlib>=3.3.0->pycaret) (2.8.2)\n",
            "Requirement already satisfied: importlib-resources>=3.2.0 in /usr/local/lib/python3.9/dist-packages (from matplotlib>=3.3.0->pycaret) (5.12.0)\n",
            "Requirement already satisfied: contourpy>=1.0.1 in /usr/local/lib/python3.9/dist-packages (from matplotlib>=3.3.0->pycaret) (1.0.7)\n",
            "Requirement already satisfied: kiwisolver>=1.0.1 in /usr/local/lib/python3.9/dist-packages (from matplotlib>=3.3.0->pycaret) (1.4.4)\n",
            "Requirement already satisfied: jsonschema>=2.6 in /usr/local/lib/python3.9/dist-packages (from nbformat>=4.2.0->pycaret) (4.3.3)\n",
            "Requirement already satisfied: fastjsonschema in /usr/local/lib/python3.9/dist-packages (from nbformat>=4.2.0->pycaret) (2.16.3)\n",
            "Requirement already satisfied: jupyter-core in /usr/local/lib/python3.9/dist-packages (from nbformat>=4.2.0->pycaret) (5.3.0)\n",
            "Requirement already satisfied: llvmlite<0.40,>=0.39.0dev0 in /usr/local/lib/python3.9/dist-packages (from numba>=0.55.0->pycaret) (0.39.1)\n",
            "Requirement already satisfied: pytz>=2020.1 in /usr/local/lib/python3.9/dist-packages (from pandas<1.6.0,>=1.3.0->pycaret) (2022.7.1)\n",
            "Requirement already satisfied: tenacity>=6.2.0 in /usr/local/lib/python3.9/dist-packages (from plotly>=5.0.0->pycaret) (8.2.2)\n",
            "Requirement already satisfied: trace-updater>=0.0.8 in /usr/local/lib/python3.9/dist-packages (from plotly-resampler>=0.8.3.1->pycaret) (0.0.9)\n",
            "Requirement already satisfied: jupyter-dash>=0.4.2 in /usr/local/lib/python3.9/dist-packages (from plotly-resampler>=0.8.3.1->pycaret) (0.4.2)\n",
            "Requirement already satisfied: dash<3.0.0,>=2.2.0 in /usr/local/lib/python3.9/dist-packages (from plotly-resampler>=0.8.3.1->pycaret) (2.9.2)\n",
            "Requirement already satisfied: orjson<4.0.0,>=3.8.0 in /usr/local/lib/python3.9/dist-packages (from plotly-resampler>=0.8.3.1->pycaret) (3.8.9)\n",
            "Requirement already satisfied: urllib3 in /usr/local/lib/python3.9/dist-packages (from pmdarima!=1.8.1,<3.0.0,>=1.8.0->pycaret) (1.26.15)\n",
            "Requirement already satisfied: Cython!=0.29.18,!=0.29.31,>=0.29 in /usr/local/lib/python3.9/dist-packages (from pmdarima!=1.8.1,<3.0.0,>=1.8.0->pycaret) (0.29.33)\n",
            "Requirement already satisfied: six in /usr/local/lib/python3.9/dist-packages (from pyod>=1.0.8->pycaret) (1.16.0)\n",
            "Requirement already satisfied: idna<4,>=2.5 in /usr/local/lib/python3.9/dist-packages (from requests>=2.27.1->pycaret) (3.4)\n",
            "Requirement already satisfied: charset-normalizer~=2.0.0 in /usr/local/lib/python3.9/dist-packages (from requests>=2.27.1->pycaret) (2.0.12)\n",
            "Requirement already satisfied: certifi>=2017.4.17 in /usr/local/lib/python3.9/dist-packages (from requests>=2.27.1->pycaret) (2022.12.7)\n",
            "Requirement already satisfied: deprecated>=1.2.13 in /usr/local/lib/python3.9/dist-packages (from sktime>=0.16.1->pycaret) (1.2.13)\n",
            "Requirement already satisfied: dash-table==5.0.0 in /usr/local/lib/python3.9/dist-packages (from dash<3.0.0,>=2.2.0->plotly-resampler>=0.8.3.1->pycaret) (5.0.0)\n",
            "Requirement already satisfied: Flask>=1.0.4 in /usr/local/lib/python3.9/dist-packages (from dash<3.0.0,>=2.2.0->plotly-resampler>=0.8.3.1->pycaret) (2.2.3)\n",
            "Requirement already satisfied: dash-html-components==2.0.0 in /usr/local/lib/python3.9/dist-packages (from dash<3.0.0,>=2.2.0->plotly-resampler>=0.8.3.1->pycaret) (2.0.0)\n",
            "Requirement already satisfied: dash-core-components==2.0.0 in /usr/local/lib/python3.9/dist-packages (from dash<3.0.0,>=2.2.0->plotly-resampler>=0.8.3.1->pycaret) (2.0.0)\n",
            "Requirement already satisfied: wrapt<2,>=1.10 in /usr/local/lib/python3.9/dist-packages (from deprecated>=1.2.13->sktime>=0.16.1->pycaret) (1.15.0)\n",
            "Requirement already satisfied: jupyter-client in /usr/local/lib/python3.9/dist-packages (from ipykernel>=4.5.1->ipywidgets>=7.6.5->pycaret) (6.1.12)\n",
            "Requirement already satisfied: tornado>=4.2 in /usr/local/lib/python3.9/dist-packages (from ipykernel>=4.5.1->ipywidgets>=7.6.5->pycaret) (6.2)\n",
            "Requirement already satisfied: parso<0.9.0,>=0.8.0 in /usr/local/lib/python3.9/dist-packages (from jedi>=0.16->ipython>=5.5.0->pycaret) (0.8.3)\n",
            "Requirement already satisfied: pyrsistent!=0.17.0,!=0.17.1,!=0.17.2,>=0.14.0 in /usr/local/lib/python3.9/dist-packages (from jsonschema>=2.6->nbformat>=4.2.0->pycaret) (0.19.3)\n",
            "Requirement already satisfied: attrs>=17.4.0 in /usr/local/lib/python3.9/dist-packages (from jsonschema>=2.6->nbformat>=4.2.0->pycaret) (22.2.0)\n",
            "Requirement already satisfied: retrying in /usr/local/lib/python3.9/dist-packages (from jupyter-dash>=0.4.2->plotly-resampler>=0.8.3.1->pycaret) (1.3.4)\n",
            "Requirement already satisfied: nest-asyncio in /usr/local/lib/python3.9/dist-packages (from jupyter-dash>=0.4.2->plotly-resampler>=0.8.3.1->pycaret) (1.5.6)\n",
            "Requirement already satisfied: ansi2html in /usr/local/lib/python3.9/dist-packages (from jupyter-dash>=0.4.2->plotly-resampler>=0.8.3.1->pycaret) (1.8.0)\n",
            "Requirement already satisfied: ptyprocess>=0.5 in /usr/local/lib/python3.9/dist-packages (from pexpect>4.3->ipython>=5.5.0->pycaret) (0.7.0)\n",
            "Requirement already satisfied: wcwidth in /usr/local/lib/python3.9/dist-packages (from prompt-toolkit!=3.0.0,!=3.0.1,<3.1.0,>=2.0.0->ipython>=5.5.0->pycaret) (0.2.6)\n",
            "Requirement already satisfied: notebook>=4.4.1 in /usr/local/lib/python3.9/dist-packages (from widgetsnbextension~=3.6.0->ipywidgets>=7.6.5->pycaret) (6.3.0)\n",
            "Requirement already satisfied: platformdirs>=2.5 in /usr/local/lib/python3.9/dist-packages (from jupyter-core->nbformat>=4.2.0->pycaret) (3.2.0)\n",
            "Requirement already satisfied: Werkzeug>=2.2.2 in /usr/local/lib/python3.9/dist-packages (from Flask>=1.0.4->dash<3.0.0,>=2.2.0->plotly-resampler>=0.8.3.1->pycaret) (2.2.3)\n",
            "Requirement already satisfied: click>=8.0 in /usr/local/lib/python3.9/dist-packages (from Flask>=1.0.4->dash<3.0.0,>=2.2.0->plotly-resampler>=0.8.3.1->pycaret) (8.1.3)\n",
            "Requirement already satisfied: itsdangerous>=2.0 in /usr/local/lib/python3.9/dist-packages (from Flask>=1.0.4->dash<3.0.0,>=2.2.0->plotly-resampler>=0.8.3.1->pycaret) (2.1.2)\n",
            "Requirement already satisfied: prometheus-client in /usr/local/lib/python3.9/dist-packages (from notebook>=4.4.1->widgetsnbextension~=3.6.0->ipywidgets>=7.6.5->pycaret) (0.16.0)\n",
            "Requirement already satisfied: pyzmq>=17 in /usr/local/lib/python3.9/dist-packages (from notebook>=4.4.1->widgetsnbextension~=3.6.0->ipywidgets>=7.6.5->pycaret) (23.2.1)\n",
            "Requirement already satisfied: nbconvert in /usr/local/lib/python3.9/dist-packages (from notebook>=4.4.1->widgetsnbextension~=3.6.0->ipywidgets>=7.6.5->pycaret) (6.5.4)\n",
            "Requirement already satisfied: Send2Trash>=1.5.0 in /usr/local/lib/python3.9/dist-packages (from notebook>=4.4.1->widgetsnbextension~=3.6.0->ipywidgets>=7.6.5->pycaret) (1.8.0)\n",
            "Requirement already satisfied: terminado>=0.8.3 in /usr/local/lib/python3.9/dist-packages (from notebook>=4.4.1->widgetsnbextension~=3.6.0->ipywidgets>=7.6.5->pycaret) (0.17.1)\n",
            "Requirement already satisfied: argon2-cffi in /usr/local/lib/python3.9/dist-packages (from notebook>=4.4.1->widgetsnbextension~=3.6.0->ipywidgets>=7.6.5->pycaret) (21.3.0)\n",
            "Requirement already satisfied: argon2-cffi-bindings in /usr/local/lib/python3.9/dist-packages (from argon2-cffi->notebook>=4.4.1->widgetsnbextension~=3.6.0->ipywidgets>=7.6.5->pycaret) (21.2.0)\n",
            "Requirement already satisfied: bleach in /usr/local/lib/python3.9/dist-packages (from nbconvert->notebook>=4.4.1->widgetsnbextension~=3.6.0->ipywidgets>=7.6.5->pycaret) (6.0.0)\n",
            "Requirement already satisfied: lxml in /usr/local/lib/python3.9/dist-packages (from nbconvert->notebook>=4.4.1->widgetsnbextension~=3.6.0->ipywidgets>=7.6.5->pycaret) (4.9.2)\n",
            "Requirement already satisfied: mistune<2,>=0.8.1 in /usr/local/lib/python3.9/dist-packages (from nbconvert->notebook>=4.4.1->widgetsnbextension~=3.6.0->ipywidgets>=7.6.5->pycaret) (0.8.4)\n",
            "Requirement already satisfied: entrypoints>=0.2.2 in /usr/local/lib/python3.9/dist-packages (from nbconvert->notebook>=4.4.1->widgetsnbextension~=3.6.0->ipywidgets>=7.6.5->pycaret) (0.4)\n",
            "Requirement already satisfied: tinycss2 in /usr/local/lib/python3.9/dist-packages (from nbconvert->notebook>=4.4.1->widgetsnbextension~=3.6.0->ipywidgets>=7.6.5->pycaret) (1.2.1)\n",
            "Requirement already satisfied: pandocfilters>=1.4.1 in /usr/local/lib/python3.9/dist-packages (from nbconvert->notebook>=4.4.1->widgetsnbextension~=3.6.0->ipywidgets>=7.6.5->pycaret) (1.5.0)\n",
            "Requirement already satisfied: nbclient>=0.5.0 in /usr/local/lib/python3.9/dist-packages (from nbconvert->notebook>=4.4.1->widgetsnbextension~=3.6.0->ipywidgets>=7.6.5->pycaret) (0.7.2)\n",
            "Requirement already satisfied: beautifulsoup4 in /usr/local/lib/python3.9/dist-packages (from nbconvert->notebook>=4.4.1->widgetsnbextension~=3.6.0->ipywidgets>=7.6.5->pycaret) (4.11.2)\n",
            "Requirement already satisfied: defusedxml in /usr/local/lib/python3.9/dist-packages (from nbconvert->notebook>=4.4.1->widgetsnbextension~=3.6.0->ipywidgets>=7.6.5->pycaret) (0.7.1)\n",
            "Requirement already satisfied: jupyterlab-pygments in /usr/local/lib/python3.9/dist-packages (from nbconvert->notebook>=4.4.1->widgetsnbextension~=3.6.0->ipywidgets>=7.6.5->pycaret) (0.2.2)\n",
            "Requirement already satisfied: cffi>=1.0.1 in /usr/local/lib/python3.9/dist-packages (from argon2-cffi-bindings->argon2-cffi->notebook>=4.4.1->widgetsnbextension~=3.6.0->ipywidgets>=7.6.5->pycaret) (1.15.1)\n",
            "Requirement already satisfied: soupsieve>1.2 in /usr/local/lib/python3.9/dist-packages (from beautifulsoup4->nbconvert->notebook>=4.4.1->widgetsnbextension~=3.6.0->ipywidgets>=7.6.5->pycaret) (2.4)\n",
            "Requirement already satisfied: webencodings in /usr/local/lib/python3.9/dist-packages (from bleach->nbconvert->notebook>=4.4.1->widgetsnbextension~=3.6.0->ipywidgets>=7.6.5->pycaret) (0.5.1)\n",
            "Requirement already satisfied: pycparser in /usr/local/lib/python3.9/dist-packages (from cffi>=1.0.1->argon2-cffi-bindings->argon2-cffi->notebook>=4.4.1->widgetsnbextension~=3.6.0->ipywidgets>=7.6.5->pycaret) (2.21)\n"
          ]
        }
      ]
    },
    {
      "cell_type": "code",
      "source": [
        "from pycaret.classification import *\n",
        "clf1= setup(data=df,target=\"output\")"
      ],
      "metadata": {
        "colab": {
          "base_uri": "https://localhost:8080/",
          "height": 645
        },
        "id": "Fedf310Ys1iK",
        "outputId": "81c26c44-20ca-4943-cf40-ba1f378aa572"
      },
      "execution_count": 40,
      "outputs": [
        {
          "output_type": "display_data",
          "data": {
            "text/plain": [
              "<pandas.io.formats.style.Styler at 0x7f152f502250>"
            ],
            "text/html": [
              "<style type=\"text/css\">\n",
              "#T_2e629_row8_col1 {\n",
              "  background-color: lightgreen;\n",
              "}\n",
              "</style>\n",
              "<table id=\"T_2e629\" class=\"dataframe\">\n",
              "  <thead>\n",
              "    <tr>\n",
              "      <th class=\"blank level0\" >&nbsp;</th>\n",
              "      <th id=\"T_2e629_level0_col0\" class=\"col_heading level0 col0\" >Description</th>\n",
              "      <th id=\"T_2e629_level0_col1\" class=\"col_heading level0 col1\" >Value</th>\n",
              "    </tr>\n",
              "  </thead>\n",
              "  <tbody>\n",
              "    <tr>\n",
              "      <th id=\"T_2e629_level0_row0\" class=\"row_heading level0 row0\" >0</th>\n",
              "      <td id=\"T_2e629_row0_col0\" class=\"data row0 col0\" >Session id</td>\n",
              "      <td id=\"T_2e629_row0_col1\" class=\"data row0 col1\" >5393</td>\n",
              "    </tr>\n",
              "    <tr>\n",
              "      <th id=\"T_2e629_level0_row1\" class=\"row_heading level0 row1\" >1</th>\n",
              "      <td id=\"T_2e629_row1_col0\" class=\"data row1 col0\" >Target</td>\n",
              "      <td id=\"T_2e629_row1_col1\" class=\"data row1 col1\" >output</td>\n",
              "    </tr>\n",
              "    <tr>\n",
              "      <th id=\"T_2e629_level0_row2\" class=\"row_heading level0 row2\" >2</th>\n",
              "      <td id=\"T_2e629_row2_col0\" class=\"data row2 col0\" >Target type</td>\n",
              "      <td id=\"T_2e629_row2_col1\" class=\"data row2 col1\" >Binary</td>\n",
              "    </tr>\n",
              "    <tr>\n",
              "      <th id=\"T_2e629_level0_row3\" class=\"row_heading level0 row3\" >3</th>\n",
              "      <td id=\"T_2e629_row3_col0\" class=\"data row3 col0\" >Original data shape</td>\n",
              "      <td id=\"T_2e629_row3_col1\" class=\"data row3 col1\" >(303, 14)</td>\n",
              "    </tr>\n",
              "    <tr>\n",
              "      <th id=\"T_2e629_level0_row4\" class=\"row_heading level0 row4\" >4</th>\n",
              "      <td id=\"T_2e629_row4_col0\" class=\"data row4 col0\" >Transformed data shape</td>\n",
              "      <td id=\"T_2e629_row4_col1\" class=\"data row4 col1\" >(303, 14)</td>\n",
              "    </tr>\n",
              "    <tr>\n",
              "      <th id=\"T_2e629_level0_row5\" class=\"row_heading level0 row5\" >5</th>\n",
              "      <td id=\"T_2e629_row5_col0\" class=\"data row5 col0\" >Transformed train set shape</td>\n",
              "      <td id=\"T_2e629_row5_col1\" class=\"data row5 col1\" >(212, 14)</td>\n",
              "    </tr>\n",
              "    <tr>\n",
              "      <th id=\"T_2e629_level0_row6\" class=\"row_heading level0 row6\" >6</th>\n",
              "      <td id=\"T_2e629_row6_col0\" class=\"data row6 col0\" >Transformed test set shape</td>\n",
              "      <td id=\"T_2e629_row6_col1\" class=\"data row6 col1\" >(91, 14)</td>\n",
              "    </tr>\n",
              "    <tr>\n",
              "      <th id=\"T_2e629_level0_row7\" class=\"row_heading level0 row7\" >7</th>\n",
              "      <td id=\"T_2e629_row7_col0\" class=\"data row7 col0\" >Numeric features</td>\n",
              "      <td id=\"T_2e629_row7_col1\" class=\"data row7 col1\" >13</td>\n",
              "    </tr>\n",
              "    <tr>\n",
              "      <th id=\"T_2e629_level0_row8\" class=\"row_heading level0 row8\" >8</th>\n",
              "      <td id=\"T_2e629_row8_col0\" class=\"data row8 col0\" >Preprocess</td>\n",
              "      <td id=\"T_2e629_row8_col1\" class=\"data row8 col1\" >True</td>\n",
              "    </tr>\n",
              "    <tr>\n",
              "      <th id=\"T_2e629_level0_row9\" class=\"row_heading level0 row9\" >9</th>\n",
              "      <td id=\"T_2e629_row9_col0\" class=\"data row9 col0\" >Imputation type</td>\n",
              "      <td id=\"T_2e629_row9_col1\" class=\"data row9 col1\" >simple</td>\n",
              "    </tr>\n",
              "    <tr>\n",
              "      <th id=\"T_2e629_level0_row10\" class=\"row_heading level0 row10\" >10</th>\n",
              "      <td id=\"T_2e629_row10_col0\" class=\"data row10 col0\" >Numeric imputation</td>\n",
              "      <td id=\"T_2e629_row10_col1\" class=\"data row10 col1\" >mean</td>\n",
              "    </tr>\n",
              "    <tr>\n",
              "      <th id=\"T_2e629_level0_row11\" class=\"row_heading level0 row11\" >11</th>\n",
              "      <td id=\"T_2e629_row11_col0\" class=\"data row11 col0\" >Categorical imputation</td>\n",
              "      <td id=\"T_2e629_row11_col1\" class=\"data row11 col1\" >mode</td>\n",
              "    </tr>\n",
              "    <tr>\n",
              "      <th id=\"T_2e629_level0_row12\" class=\"row_heading level0 row12\" >12</th>\n",
              "      <td id=\"T_2e629_row12_col0\" class=\"data row12 col0\" >Fold Generator</td>\n",
              "      <td id=\"T_2e629_row12_col1\" class=\"data row12 col1\" >StratifiedKFold</td>\n",
              "    </tr>\n",
              "    <tr>\n",
              "      <th id=\"T_2e629_level0_row13\" class=\"row_heading level0 row13\" >13</th>\n",
              "      <td id=\"T_2e629_row13_col0\" class=\"data row13 col0\" >Fold Number</td>\n",
              "      <td id=\"T_2e629_row13_col1\" class=\"data row13 col1\" >10</td>\n",
              "    </tr>\n",
              "    <tr>\n",
              "      <th id=\"T_2e629_level0_row14\" class=\"row_heading level0 row14\" >14</th>\n",
              "      <td id=\"T_2e629_row14_col0\" class=\"data row14 col0\" >CPU Jobs</td>\n",
              "      <td id=\"T_2e629_row14_col1\" class=\"data row14 col1\" >-1</td>\n",
              "    </tr>\n",
              "    <tr>\n",
              "      <th id=\"T_2e629_level0_row15\" class=\"row_heading level0 row15\" >15</th>\n",
              "      <td id=\"T_2e629_row15_col0\" class=\"data row15 col0\" >Use GPU</td>\n",
              "      <td id=\"T_2e629_row15_col1\" class=\"data row15 col1\" >False</td>\n",
              "    </tr>\n",
              "    <tr>\n",
              "      <th id=\"T_2e629_level0_row16\" class=\"row_heading level0 row16\" >16</th>\n",
              "      <td id=\"T_2e629_row16_col0\" class=\"data row16 col0\" >Log Experiment</td>\n",
              "      <td id=\"T_2e629_row16_col1\" class=\"data row16 col1\" >False</td>\n",
              "    </tr>\n",
              "    <tr>\n",
              "      <th id=\"T_2e629_level0_row17\" class=\"row_heading level0 row17\" >17</th>\n",
              "      <td id=\"T_2e629_row17_col0\" class=\"data row17 col0\" >Experiment Name</td>\n",
              "      <td id=\"T_2e629_row17_col1\" class=\"data row17 col1\" >clf-default-name</td>\n",
              "    </tr>\n",
              "    <tr>\n",
              "      <th id=\"T_2e629_level0_row18\" class=\"row_heading level0 row18\" >18</th>\n",
              "      <td id=\"T_2e629_row18_col0\" class=\"data row18 col0\" >USI</td>\n",
              "      <td id=\"T_2e629_row18_col1\" class=\"data row18 col1\" >ec37</td>\n",
              "    </tr>\n",
              "  </tbody>\n",
              "</table>\n"
            ]
          },
          "metadata": {}
        }
      ]
    },
    {
      "cell_type": "code",
      "source": [
        "clf2= setup(data=df,target=\"output\",session_id=1,normalize=True,transformation=True,remove_multicollinearity=True,multicollinearity_threshold=0.95)"
      ],
      "metadata": {
        "colab": {
          "base_uri": "https://localhost:8080/",
          "height": 833
        },
        "id": "RjJG1rbBs1ff",
        "outputId": "078eb807-55d3-41ee-e6fb-f1008753ba83"
      },
      "execution_count": 41,
      "outputs": [
        {
          "output_type": "display_data",
          "data": {
            "text/plain": [
              "<pandas.io.formats.style.Styler at 0x7f152eac1dc0>"
            ],
            "text/html": [
              "<style type=\"text/css\">\n",
              "#T_e6cc8_row8_col1, #T_e6cc8_row12_col1, #T_e6cc8_row14_col1, #T_e6cc8_row16_col1 {\n",
              "  background-color: lightgreen;\n",
              "}\n",
              "</style>\n",
              "<table id=\"T_e6cc8\" class=\"dataframe\">\n",
              "  <thead>\n",
              "    <tr>\n",
              "      <th class=\"blank level0\" >&nbsp;</th>\n",
              "      <th id=\"T_e6cc8_level0_col0\" class=\"col_heading level0 col0\" >Description</th>\n",
              "      <th id=\"T_e6cc8_level0_col1\" class=\"col_heading level0 col1\" >Value</th>\n",
              "    </tr>\n",
              "  </thead>\n",
              "  <tbody>\n",
              "    <tr>\n",
              "      <th id=\"T_e6cc8_level0_row0\" class=\"row_heading level0 row0\" >0</th>\n",
              "      <td id=\"T_e6cc8_row0_col0\" class=\"data row0 col0\" >Session id</td>\n",
              "      <td id=\"T_e6cc8_row0_col1\" class=\"data row0 col1\" >1</td>\n",
              "    </tr>\n",
              "    <tr>\n",
              "      <th id=\"T_e6cc8_level0_row1\" class=\"row_heading level0 row1\" >1</th>\n",
              "      <td id=\"T_e6cc8_row1_col0\" class=\"data row1 col0\" >Target</td>\n",
              "      <td id=\"T_e6cc8_row1_col1\" class=\"data row1 col1\" >output</td>\n",
              "    </tr>\n",
              "    <tr>\n",
              "      <th id=\"T_e6cc8_level0_row2\" class=\"row_heading level0 row2\" >2</th>\n",
              "      <td id=\"T_e6cc8_row2_col0\" class=\"data row2 col0\" >Target type</td>\n",
              "      <td id=\"T_e6cc8_row2_col1\" class=\"data row2 col1\" >Binary</td>\n",
              "    </tr>\n",
              "    <tr>\n",
              "      <th id=\"T_e6cc8_level0_row3\" class=\"row_heading level0 row3\" >3</th>\n",
              "      <td id=\"T_e6cc8_row3_col0\" class=\"data row3 col0\" >Original data shape</td>\n",
              "      <td id=\"T_e6cc8_row3_col1\" class=\"data row3 col1\" >(303, 14)</td>\n",
              "    </tr>\n",
              "    <tr>\n",
              "      <th id=\"T_e6cc8_level0_row4\" class=\"row_heading level0 row4\" >4</th>\n",
              "      <td id=\"T_e6cc8_row4_col0\" class=\"data row4 col0\" >Transformed data shape</td>\n",
              "      <td id=\"T_e6cc8_row4_col1\" class=\"data row4 col1\" >(303, 14)</td>\n",
              "    </tr>\n",
              "    <tr>\n",
              "      <th id=\"T_e6cc8_level0_row5\" class=\"row_heading level0 row5\" >5</th>\n",
              "      <td id=\"T_e6cc8_row5_col0\" class=\"data row5 col0\" >Transformed train set shape</td>\n",
              "      <td id=\"T_e6cc8_row5_col1\" class=\"data row5 col1\" >(212, 14)</td>\n",
              "    </tr>\n",
              "    <tr>\n",
              "      <th id=\"T_e6cc8_level0_row6\" class=\"row_heading level0 row6\" >6</th>\n",
              "      <td id=\"T_e6cc8_row6_col0\" class=\"data row6 col0\" >Transformed test set shape</td>\n",
              "      <td id=\"T_e6cc8_row6_col1\" class=\"data row6 col1\" >(91, 14)</td>\n",
              "    </tr>\n",
              "    <tr>\n",
              "      <th id=\"T_e6cc8_level0_row7\" class=\"row_heading level0 row7\" >7</th>\n",
              "      <td id=\"T_e6cc8_row7_col0\" class=\"data row7 col0\" >Numeric features</td>\n",
              "      <td id=\"T_e6cc8_row7_col1\" class=\"data row7 col1\" >13</td>\n",
              "    </tr>\n",
              "    <tr>\n",
              "      <th id=\"T_e6cc8_level0_row8\" class=\"row_heading level0 row8\" >8</th>\n",
              "      <td id=\"T_e6cc8_row8_col0\" class=\"data row8 col0\" >Preprocess</td>\n",
              "      <td id=\"T_e6cc8_row8_col1\" class=\"data row8 col1\" >True</td>\n",
              "    </tr>\n",
              "    <tr>\n",
              "      <th id=\"T_e6cc8_level0_row9\" class=\"row_heading level0 row9\" >9</th>\n",
              "      <td id=\"T_e6cc8_row9_col0\" class=\"data row9 col0\" >Imputation type</td>\n",
              "      <td id=\"T_e6cc8_row9_col1\" class=\"data row9 col1\" >simple</td>\n",
              "    </tr>\n",
              "    <tr>\n",
              "      <th id=\"T_e6cc8_level0_row10\" class=\"row_heading level0 row10\" >10</th>\n",
              "      <td id=\"T_e6cc8_row10_col0\" class=\"data row10 col0\" >Numeric imputation</td>\n",
              "      <td id=\"T_e6cc8_row10_col1\" class=\"data row10 col1\" >mean</td>\n",
              "    </tr>\n",
              "    <tr>\n",
              "      <th id=\"T_e6cc8_level0_row11\" class=\"row_heading level0 row11\" >11</th>\n",
              "      <td id=\"T_e6cc8_row11_col0\" class=\"data row11 col0\" >Categorical imputation</td>\n",
              "      <td id=\"T_e6cc8_row11_col1\" class=\"data row11 col1\" >mode</td>\n",
              "    </tr>\n",
              "    <tr>\n",
              "      <th id=\"T_e6cc8_level0_row12\" class=\"row_heading level0 row12\" >12</th>\n",
              "      <td id=\"T_e6cc8_row12_col0\" class=\"data row12 col0\" >Remove multicollinearity</td>\n",
              "      <td id=\"T_e6cc8_row12_col1\" class=\"data row12 col1\" >True</td>\n",
              "    </tr>\n",
              "    <tr>\n",
              "      <th id=\"T_e6cc8_level0_row13\" class=\"row_heading level0 row13\" >13</th>\n",
              "      <td id=\"T_e6cc8_row13_col0\" class=\"data row13 col0\" >Multicollinearity threshold</td>\n",
              "      <td id=\"T_e6cc8_row13_col1\" class=\"data row13 col1\" >0.950000</td>\n",
              "    </tr>\n",
              "    <tr>\n",
              "      <th id=\"T_e6cc8_level0_row14\" class=\"row_heading level0 row14\" >14</th>\n",
              "      <td id=\"T_e6cc8_row14_col0\" class=\"data row14 col0\" >Transformation</td>\n",
              "      <td id=\"T_e6cc8_row14_col1\" class=\"data row14 col1\" >True</td>\n",
              "    </tr>\n",
              "    <tr>\n",
              "      <th id=\"T_e6cc8_level0_row15\" class=\"row_heading level0 row15\" >15</th>\n",
              "      <td id=\"T_e6cc8_row15_col0\" class=\"data row15 col0\" >Transformation method</td>\n",
              "      <td id=\"T_e6cc8_row15_col1\" class=\"data row15 col1\" >yeo-johnson</td>\n",
              "    </tr>\n",
              "    <tr>\n",
              "      <th id=\"T_e6cc8_level0_row16\" class=\"row_heading level0 row16\" >16</th>\n",
              "      <td id=\"T_e6cc8_row16_col0\" class=\"data row16 col0\" >Normalize</td>\n",
              "      <td id=\"T_e6cc8_row16_col1\" class=\"data row16 col1\" >True</td>\n",
              "    </tr>\n",
              "    <tr>\n",
              "      <th id=\"T_e6cc8_level0_row17\" class=\"row_heading level0 row17\" >17</th>\n",
              "      <td id=\"T_e6cc8_row17_col0\" class=\"data row17 col0\" >Normalize method</td>\n",
              "      <td id=\"T_e6cc8_row17_col1\" class=\"data row17 col1\" >zscore</td>\n",
              "    </tr>\n",
              "    <tr>\n",
              "      <th id=\"T_e6cc8_level0_row18\" class=\"row_heading level0 row18\" >18</th>\n",
              "      <td id=\"T_e6cc8_row18_col0\" class=\"data row18 col0\" >Fold Generator</td>\n",
              "      <td id=\"T_e6cc8_row18_col1\" class=\"data row18 col1\" >StratifiedKFold</td>\n",
              "    </tr>\n",
              "    <tr>\n",
              "      <th id=\"T_e6cc8_level0_row19\" class=\"row_heading level0 row19\" >19</th>\n",
              "      <td id=\"T_e6cc8_row19_col0\" class=\"data row19 col0\" >Fold Number</td>\n",
              "      <td id=\"T_e6cc8_row19_col1\" class=\"data row19 col1\" >10</td>\n",
              "    </tr>\n",
              "    <tr>\n",
              "      <th id=\"T_e6cc8_level0_row20\" class=\"row_heading level0 row20\" >20</th>\n",
              "      <td id=\"T_e6cc8_row20_col0\" class=\"data row20 col0\" >CPU Jobs</td>\n",
              "      <td id=\"T_e6cc8_row20_col1\" class=\"data row20 col1\" >-1</td>\n",
              "    </tr>\n",
              "    <tr>\n",
              "      <th id=\"T_e6cc8_level0_row21\" class=\"row_heading level0 row21\" >21</th>\n",
              "      <td id=\"T_e6cc8_row21_col0\" class=\"data row21 col0\" >Use GPU</td>\n",
              "      <td id=\"T_e6cc8_row21_col1\" class=\"data row21 col1\" >False</td>\n",
              "    </tr>\n",
              "    <tr>\n",
              "      <th id=\"T_e6cc8_level0_row22\" class=\"row_heading level0 row22\" >22</th>\n",
              "      <td id=\"T_e6cc8_row22_col0\" class=\"data row22 col0\" >Log Experiment</td>\n",
              "      <td id=\"T_e6cc8_row22_col1\" class=\"data row22 col1\" >False</td>\n",
              "    </tr>\n",
              "    <tr>\n",
              "      <th id=\"T_e6cc8_level0_row23\" class=\"row_heading level0 row23\" >23</th>\n",
              "      <td id=\"T_e6cc8_row23_col0\" class=\"data row23 col0\" >Experiment Name</td>\n",
              "      <td id=\"T_e6cc8_row23_col1\" class=\"data row23 col1\" >clf-default-name</td>\n",
              "    </tr>\n",
              "    <tr>\n",
              "      <th id=\"T_e6cc8_level0_row24\" class=\"row_heading level0 row24\" >24</th>\n",
              "      <td id=\"T_e6cc8_row24_col0\" class=\"data row24 col0\" >USI</td>\n",
              "      <td id=\"T_e6cc8_row24_col1\" class=\"data row24 col1\" >a684</td>\n",
              "    </tr>\n",
              "  </tbody>\n",
              "</table>\n"
            ]
          },
          "metadata": {}
        }
      ]
    },
    {
      "cell_type": "code",
      "source": [
        "compare_models()"
      ],
      "metadata": {
        "colab": {
          "base_uri": "https://localhost:8080/",
          "height": 577,
          "referenced_widgets": [
            "0714d9dd728f42c5b99241b4e6f075e8",
            "e457d5f888b645219db627b2cec1fe06",
            "2dac69ff1cd2439eb9f42590e49c5fa6",
            "3ac81ead33f045c28c16a70643573f47",
            "feb02bb6270246eb938892cf7e6b22f2",
            "176284a10ed64659b8e2de1c87587a87",
            "2dbf58a820594e4490f9a12eb1163976",
            "ad0cf80906784c3ba2610a0760a09de0",
            "b6bffdf54e164032b7ce7c41b043d29c",
            "c60bdcb606054dd180800dfece3de25a",
            "8ff2a3fa9a714c09ab09c1d85b54a01c"
          ]
        },
        "id": "nJkMq_TIvMCI",
        "outputId": "0f46d40c-685e-4d3b-cdb5-53ee391648ff"
      },
      "execution_count": 42,
      "outputs": [
        {
          "output_type": "display_data",
          "data": {
            "text/plain": [
              "<IPython.core.display.HTML object>"
            ],
            "text/html": []
          },
          "metadata": {}
        },
        {
          "output_type": "display_data",
          "data": {
            "text/plain": [
              "<pandas.io.formats.style.Styler at 0x7f154638a460>"
            ],
            "text/html": [
              "<style type=\"text/css\">\n",
              "#T_1c46e th {\n",
              "  text-align: left;\n",
              "}\n",
              "#T_1c46e_row0_col0, #T_1c46e_row0_col3, #T_1c46e_row0_col5, #T_1c46e_row1_col0, #T_1c46e_row1_col1, #T_1c46e_row1_col2, #T_1c46e_row1_col3, #T_1c46e_row1_col4, #T_1c46e_row1_col6, #T_1c46e_row1_col7, #T_1c46e_row2_col0, #T_1c46e_row2_col1, #T_1c46e_row2_col2, #T_1c46e_row2_col3, #T_1c46e_row2_col4, #T_1c46e_row2_col5, #T_1c46e_row2_col6, #T_1c46e_row2_col7, #T_1c46e_row3_col0, #T_1c46e_row3_col1, #T_1c46e_row3_col2, #T_1c46e_row3_col3, #T_1c46e_row3_col4, #T_1c46e_row3_col5, #T_1c46e_row3_col6, #T_1c46e_row3_col7, #T_1c46e_row4_col0, #T_1c46e_row4_col1, #T_1c46e_row4_col2, #T_1c46e_row4_col3, #T_1c46e_row4_col4, #T_1c46e_row4_col5, #T_1c46e_row4_col6, #T_1c46e_row4_col7, #T_1c46e_row5_col0, #T_1c46e_row5_col1, #T_1c46e_row5_col2, #T_1c46e_row5_col3, #T_1c46e_row5_col4, #T_1c46e_row5_col5, #T_1c46e_row5_col6, #T_1c46e_row5_col7, #T_1c46e_row6_col0, #T_1c46e_row6_col1, #T_1c46e_row6_col2, #T_1c46e_row6_col3, #T_1c46e_row6_col4, #T_1c46e_row6_col5, #T_1c46e_row6_col6, #T_1c46e_row6_col7, #T_1c46e_row7_col0, #T_1c46e_row7_col1, #T_1c46e_row7_col2, #T_1c46e_row7_col3, #T_1c46e_row7_col4, #T_1c46e_row7_col5, #T_1c46e_row7_col6, #T_1c46e_row7_col7, #T_1c46e_row8_col0, #T_1c46e_row8_col1, #T_1c46e_row8_col2, #T_1c46e_row8_col3, #T_1c46e_row8_col4, #T_1c46e_row8_col5, #T_1c46e_row8_col6, #T_1c46e_row8_col7, #T_1c46e_row9_col0, #T_1c46e_row9_col1, #T_1c46e_row9_col2, #T_1c46e_row9_col3, #T_1c46e_row9_col4, #T_1c46e_row9_col5, #T_1c46e_row9_col6, #T_1c46e_row9_col7, #T_1c46e_row10_col0, #T_1c46e_row10_col1, #T_1c46e_row10_col2, #T_1c46e_row10_col3, #T_1c46e_row10_col4, #T_1c46e_row10_col5, #T_1c46e_row10_col6, #T_1c46e_row10_col7, #T_1c46e_row11_col0, #T_1c46e_row11_col1, #T_1c46e_row11_col2, #T_1c46e_row11_col3, #T_1c46e_row11_col4, #T_1c46e_row11_col5, #T_1c46e_row11_col6, #T_1c46e_row11_col7, #T_1c46e_row12_col0, #T_1c46e_row12_col1, #T_1c46e_row12_col2, #T_1c46e_row12_col3, #T_1c46e_row12_col4, #T_1c46e_row12_col5, #T_1c46e_row12_col6, #T_1c46e_row12_col7, #T_1c46e_row13_col0, #T_1c46e_row13_col1, #T_1c46e_row13_col2, #T_1c46e_row13_col3, #T_1c46e_row13_col4, #T_1c46e_row13_col5, #T_1c46e_row13_col6, #T_1c46e_row13_col7, #T_1c46e_row14_col0, #T_1c46e_row14_col1, #T_1c46e_row14_col2, #T_1c46e_row14_col4, #T_1c46e_row14_col5, #T_1c46e_row14_col6, #T_1c46e_row14_col7 {\n",
              "  text-align: left;\n",
              "}\n",
              "#T_1c46e_row0_col1, #T_1c46e_row0_col2, #T_1c46e_row0_col4, #T_1c46e_row0_col6, #T_1c46e_row0_col7, #T_1c46e_row1_col5, #T_1c46e_row14_col3 {\n",
              "  text-align: left;\n",
              "  background-color: yellow;\n",
              "}\n",
              "#T_1c46e_row0_col8, #T_1c46e_row1_col8, #T_1c46e_row2_col8, #T_1c46e_row3_col8, #T_1c46e_row4_col8, #T_1c46e_row5_col8, #T_1c46e_row6_col8, #T_1c46e_row7_col8, #T_1c46e_row8_col8, #T_1c46e_row10_col8, #T_1c46e_row11_col8, #T_1c46e_row12_col8, #T_1c46e_row13_col8, #T_1c46e_row14_col8 {\n",
              "  text-align: left;\n",
              "  background-color: lightgrey;\n",
              "}\n",
              "#T_1c46e_row9_col8 {\n",
              "  text-align: left;\n",
              "  background-color: yellow;\n",
              "  background-color: lightgrey;\n",
              "}\n",
              "</style>\n",
              "<table id=\"T_1c46e\" class=\"dataframe\">\n",
              "  <thead>\n",
              "    <tr>\n",
              "      <th class=\"blank level0\" >&nbsp;</th>\n",
              "      <th id=\"T_1c46e_level0_col0\" class=\"col_heading level0 col0\" >Model</th>\n",
              "      <th id=\"T_1c46e_level0_col1\" class=\"col_heading level0 col1\" >Accuracy</th>\n",
              "      <th id=\"T_1c46e_level0_col2\" class=\"col_heading level0 col2\" >AUC</th>\n",
              "      <th id=\"T_1c46e_level0_col3\" class=\"col_heading level0 col3\" >Recall</th>\n",
              "      <th id=\"T_1c46e_level0_col4\" class=\"col_heading level0 col4\" >Prec.</th>\n",
              "      <th id=\"T_1c46e_level0_col5\" class=\"col_heading level0 col5\" >F1</th>\n",
              "      <th id=\"T_1c46e_level0_col6\" class=\"col_heading level0 col6\" >Kappa</th>\n",
              "      <th id=\"T_1c46e_level0_col7\" class=\"col_heading level0 col7\" >MCC</th>\n",
              "      <th id=\"T_1c46e_level0_col8\" class=\"col_heading level0 col8\" >TT (Sec)</th>\n",
              "    </tr>\n",
              "  </thead>\n",
              "  <tbody>\n",
              "    <tr>\n",
              "      <th id=\"T_1c46e_level0_row0\" class=\"row_heading level0 row0\" >nb</th>\n",
              "      <td id=\"T_1c46e_row0_col0\" class=\"data row0 col0\" >Naive Bayes</td>\n",
              "      <td id=\"T_1c46e_row0_col1\" class=\"data row0 col1\" >0.8446</td>\n",
              "      <td id=\"T_1c46e_row0_col2\" class=\"data row0 col2\" >0.9052</td>\n",
              "      <td id=\"T_1c46e_row0_col3\" class=\"data row0 col3\" >0.8417</td>\n",
              "      <td id=\"T_1c46e_row0_col4\" class=\"data row0 col4\" >0.8719</td>\n",
              "      <td id=\"T_1c46e_row0_col5\" class=\"data row0 col5\" >0.8505</td>\n",
              "      <td id=\"T_1c46e_row0_col6\" class=\"data row0 col6\" >0.6879</td>\n",
              "      <td id=\"T_1c46e_row0_col7\" class=\"data row0 col7\" >0.6988</td>\n",
              "      <td id=\"T_1c46e_row0_col8\" class=\"data row0 col8\" >0.1350</td>\n",
              "    </tr>\n",
              "    <tr>\n",
              "      <th id=\"T_1c46e_level0_row1\" class=\"row_heading level0 row1\" >ridge</th>\n",
              "      <td id=\"T_1c46e_row1_col0\" class=\"data row1 col0\" >Ridge Classifier</td>\n",
              "      <td id=\"T_1c46e_row1_col1\" class=\"data row1 col1\" >0.8307</td>\n",
              "      <td id=\"T_1c46e_row1_col2\" class=\"data row1 col2\" >0.0000</td>\n",
              "      <td id=\"T_1c46e_row1_col3\" class=\"data row1 col3\" >0.8947</td>\n",
              "      <td id=\"T_1c46e_row1_col4\" class=\"data row1 col4\" >0.8186</td>\n",
              "      <td id=\"T_1c46e_row1_col5\" class=\"data row1 col5\" >0.8515</td>\n",
              "      <td id=\"T_1c46e_row1_col6\" class=\"data row1 col6\" >0.6546</td>\n",
              "      <td id=\"T_1c46e_row1_col7\" class=\"data row1 col7\" >0.6657</td>\n",
              "      <td id=\"T_1c46e_row1_col8\" class=\"data row1 col8\" >0.1770</td>\n",
              "    </tr>\n",
              "    <tr>\n",
              "      <th id=\"T_1c46e_level0_row2\" class=\"row_heading level0 row2\" >lr</th>\n",
              "      <td id=\"T_1c46e_row2_col0\" class=\"data row2 col0\" >Logistic Regression</td>\n",
              "      <td id=\"T_1c46e_row2_col1\" class=\"data row2 col1\" >0.8262</td>\n",
              "      <td id=\"T_1c46e_row2_col2\" class=\"data row2 col2\" >0.8941</td>\n",
              "      <td id=\"T_1c46e_row2_col3\" class=\"data row2 col3\" >0.8780</td>\n",
              "      <td id=\"T_1c46e_row2_col4\" class=\"data row2 col4\" >0.8228</td>\n",
              "      <td id=\"T_1c46e_row2_col5\" class=\"data row2 col5\" >0.8460</td>\n",
              "      <td id=\"T_1c46e_row2_col6\" class=\"data row2 col6\" >0.6465</td>\n",
              "      <td id=\"T_1c46e_row2_col7\" class=\"data row2 col7\" >0.6556</td>\n",
              "      <td id=\"T_1c46e_row2_col8\" class=\"data row2 col8\" >0.6230</td>\n",
              "    </tr>\n",
              "    <tr>\n",
              "      <th id=\"T_1c46e_level0_row3\" class=\"row_heading level0 row3\" >lda</th>\n",
              "      <td id=\"T_1c46e_row3_col0\" class=\"data row3 col0\" >Linear Discriminant Analysis</td>\n",
              "      <td id=\"T_1c46e_row3_col1\" class=\"data row3 col1\" >0.8260</td>\n",
              "      <td id=\"T_1c46e_row3_col2\" class=\"data row3 col2\" >0.8940</td>\n",
              "      <td id=\"T_1c46e_row3_col3\" class=\"data row3 col3\" >0.8947</td>\n",
              "      <td id=\"T_1c46e_row3_col4\" class=\"data row3 col4\" >0.8122</td>\n",
              "      <td id=\"T_1c46e_row3_col5\" class=\"data row3 col5\" >0.8482</td>\n",
              "      <td id=\"T_1c46e_row3_col6\" class=\"data row3 col6\" >0.6442</td>\n",
              "      <td id=\"T_1c46e_row3_col7\" class=\"data row3 col7\" >0.6556</td>\n",
              "      <td id=\"T_1c46e_row3_col8\" class=\"data row3 col8\" >0.1170</td>\n",
              "    </tr>\n",
              "    <tr>\n",
              "      <th id=\"T_1c46e_level0_row4\" class=\"row_heading level0 row4\" >knn</th>\n",
              "      <td id=\"T_1c46e_row4_col0\" class=\"data row4 col0\" >K Neighbors Classifier</td>\n",
              "      <td id=\"T_1c46e_row4_col1\" class=\"data row4 col1\" >0.8128</td>\n",
              "      <td id=\"T_1c46e_row4_col2\" class=\"data row4 col2\" >0.8837</td>\n",
              "      <td id=\"T_1c46e_row4_col3\" class=\"data row4 col3\" >0.8629</td>\n",
              "      <td id=\"T_1c46e_row4_col4\" class=\"data row4 col4\" >0.8192</td>\n",
              "      <td id=\"T_1c46e_row4_col5\" class=\"data row4 col5\" >0.8350</td>\n",
              "      <td id=\"T_1c46e_row4_col6\" class=\"data row4 col6\" >0.6195</td>\n",
              "      <td id=\"T_1c46e_row4_col7\" class=\"data row4 col7\" >0.6307</td>\n",
              "      <td id=\"T_1c46e_row4_col8\" class=\"data row4 col8\" >0.2340</td>\n",
              "    </tr>\n",
              "    <tr>\n",
              "      <th id=\"T_1c46e_level0_row5\" class=\"row_heading level0 row5\" >et</th>\n",
              "      <td id=\"T_1c46e_row5_col0\" class=\"data row5 col0\" >Extra Trees Classifier</td>\n",
              "      <td id=\"T_1c46e_row5_col1\" class=\"data row5 col1\" >0.8071</td>\n",
              "      <td id=\"T_1c46e_row5_col2\" class=\"data row5 col2\" >0.8971</td>\n",
              "      <td id=\"T_1c46e_row5_col3\" class=\"data row5 col3\" >0.8341</td>\n",
              "      <td id=\"T_1c46e_row5_col4\" class=\"data row5 col4\" >0.8176</td>\n",
              "      <td id=\"T_1c46e_row5_col5\" class=\"data row5 col5\" >0.8226</td>\n",
              "      <td id=\"T_1c46e_row5_col6\" class=\"data row5 col6\" >0.6101</td>\n",
              "      <td id=\"T_1c46e_row5_col7\" class=\"data row5 col7\" >0.6151</td>\n",
              "      <td id=\"T_1c46e_row5_col8\" class=\"data row5 col8\" >0.4590</td>\n",
              "    </tr>\n",
              "    <tr>\n",
              "      <th id=\"T_1c46e_level0_row6\" class=\"row_heading level0 row6\" >rf</th>\n",
              "      <td id=\"T_1c46e_row6_col0\" class=\"data row6 col0\" >Random Forest Classifier</td>\n",
              "      <td id=\"T_1c46e_row6_col1\" class=\"data row6 col1\" >0.7978</td>\n",
              "      <td id=\"T_1c46e_row6_col2\" class=\"data row6 col2\" >0.8763</td>\n",
              "      <td id=\"T_1c46e_row6_col3\" class=\"data row6 col3\" >0.8432</td>\n",
              "      <td id=\"T_1c46e_row6_col4\" class=\"data row6 col4\" >0.8002</td>\n",
              "      <td id=\"T_1c46e_row6_col5\" class=\"data row6 col5\" >0.8177</td>\n",
              "      <td id=\"T_1c46e_row6_col6\" class=\"data row6 col6\" >0.5900</td>\n",
              "      <td id=\"T_1c46e_row6_col7\" class=\"data row6 col7\" >0.5974</td>\n",
              "      <td id=\"T_1c46e_row6_col8\" class=\"data row6 col8\" >0.4950</td>\n",
              "    </tr>\n",
              "    <tr>\n",
              "      <th id=\"T_1c46e_level0_row7\" class=\"row_heading level0 row7\" >xgboost</th>\n",
              "      <td id=\"T_1c46e_row7_col0\" class=\"data row7 col0\" >Extreme Gradient Boosting</td>\n",
              "      <td id=\"T_1c46e_row7_col1\" class=\"data row7 col1\" >0.7978</td>\n",
              "      <td id=\"T_1c46e_row7_col2\" class=\"data row7 col2\" >0.8707</td>\n",
              "      <td id=\"T_1c46e_row7_col3\" class=\"data row7 col3\" >0.8258</td>\n",
              "      <td id=\"T_1c46e_row7_col4\" class=\"data row7 col4\" >0.8128</td>\n",
              "      <td id=\"T_1c46e_row7_col5\" class=\"data row7 col5\" >0.8133</td>\n",
              "      <td id=\"T_1c46e_row7_col6\" class=\"data row7 col6\" >0.5913</td>\n",
              "      <td id=\"T_1c46e_row7_col7\" class=\"data row7 col7\" >0.6012</td>\n",
              "      <td id=\"T_1c46e_row7_col8\" class=\"data row7 col8\" >0.1740</td>\n",
              "    </tr>\n",
              "    <tr>\n",
              "      <th id=\"T_1c46e_level0_row8\" class=\"row_heading level0 row8\" >lightgbm</th>\n",
              "      <td id=\"T_1c46e_row8_col0\" class=\"data row8 col0\" >Light Gradient Boosting Machine</td>\n",
              "      <td id=\"T_1c46e_row8_col1\" class=\"data row8 col1\" >0.7831</td>\n",
              "      <td id=\"T_1c46e_row8_col2\" class=\"data row8 col2\" >0.8604</td>\n",
              "      <td id=\"T_1c46e_row8_col3\" class=\"data row8 col3\" >0.8174</td>\n",
              "      <td id=\"T_1c46e_row8_col4\" class=\"data row8 col4\" >0.7884</td>\n",
              "      <td id=\"T_1c46e_row8_col5\" class=\"data row8 col5\" >0.8003</td>\n",
              "      <td id=\"T_1c46e_row8_col6\" class=\"data row8 col6\" >0.5614</td>\n",
              "      <td id=\"T_1c46e_row8_col7\" class=\"data row8 col7\" >0.5664</td>\n",
              "      <td id=\"T_1c46e_row8_col8\" class=\"data row8 col8\" >0.3920</td>\n",
              "    </tr>\n",
              "    <tr>\n",
              "      <th id=\"T_1c46e_level0_row9\" class=\"row_heading level0 row9\" >qda</th>\n",
              "      <td id=\"T_1c46e_row9_col0\" class=\"data row9 col0\" >Quadratic Discriminant Analysis</td>\n",
              "      <td id=\"T_1c46e_row9_col1\" class=\"data row9 col1\" >0.7788</td>\n",
              "      <td id=\"T_1c46e_row9_col2\" class=\"data row9 col2\" >0.8856</td>\n",
              "      <td id=\"T_1c46e_row9_col3\" class=\"data row9 col3\" >0.8000</td>\n",
              "      <td id=\"T_1c46e_row9_col4\" class=\"data row9 col4\" >0.8006</td>\n",
              "      <td id=\"T_1c46e_row9_col5\" class=\"data row9 col5\" >0.7952</td>\n",
              "      <td id=\"T_1c46e_row9_col6\" class=\"data row9 col6\" >0.5542</td>\n",
              "      <td id=\"T_1c46e_row9_col7\" class=\"data row9 col7\" >0.5629</td>\n",
              "      <td id=\"T_1c46e_row9_col8\" class=\"data row9 col8\" >0.1120</td>\n",
              "    </tr>\n",
              "    <tr>\n",
              "      <th id=\"T_1c46e_level0_row10\" class=\"row_heading level0 row10\" >ada</th>\n",
              "      <td id=\"T_1c46e_row10_col0\" class=\"data row10 col0\" >Ada Boost Classifier</td>\n",
              "      <td id=\"T_1c46e_row10_col1\" class=\"data row10 col1\" >0.7697</td>\n",
              "      <td id=\"T_1c46e_row10_col2\" class=\"data row10 col2\" >0.8287</td>\n",
              "      <td id=\"T_1c46e_row10_col3\" class=\"data row10 col3\" >0.7924</td>\n",
              "      <td id=\"T_1c46e_row10_col4\" class=\"data row10 col4\" >0.7889</td>\n",
              "      <td id=\"T_1c46e_row10_col5\" class=\"data row10 col5\" >0.7887</td>\n",
              "      <td id=\"T_1c46e_row10_col6\" class=\"data row10 col6\" >0.5345</td>\n",
              "      <td id=\"T_1c46e_row10_col7\" class=\"data row10 col7\" >0.5372</td>\n",
              "      <td id=\"T_1c46e_row10_col8\" class=\"data row10 col8\" >0.3310</td>\n",
              "    </tr>\n",
              "    <tr>\n",
              "      <th id=\"T_1c46e_level0_row11\" class=\"row_heading level0 row11\" >svm</th>\n",
              "      <td id=\"T_1c46e_row11_col0\" class=\"data row11 col0\" >SVM - Linear Kernel</td>\n",
              "      <td id=\"T_1c46e_row11_col1\" class=\"data row11 col1\" >0.7693</td>\n",
              "      <td id=\"T_1c46e_row11_col2\" class=\"data row11 col2\" >0.0000</td>\n",
              "      <td id=\"T_1c46e_row11_col3\" class=\"data row11 col3\" >0.8152</td>\n",
              "      <td id=\"T_1c46e_row11_col4\" class=\"data row11 col4\" >0.7852</td>\n",
              "      <td id=\"T_1c46e_row11_col5\" class=\"data row11 col5\" >0.7912</td>\n",
              "      <td id=\"T_1c46e_row11_col6\" class=\"data row11 col6\" >0.5308</td>\n",
              "      <td id=\"T_1c46e_row11_col7\" class=\"data row11 col7\" >0.5495</td>\n",
              "      <td id=\"T_1c46e_row11_col8\" class=\"data row11 col8\" >0.2050</td>\n",
              "    </tr>\n",
              "    <tr>\n",
              "      <th id=\"T_1c46e_level0_row12\" class=\"row_heading level0 row12\" >gbc</th>\n",
              "      <td id=\"T_1c46e_row12_col0\" class=\"data row12 col0\" >Gradient Boosting Classifier</td>\n",
              "      <td id=\"T_1c46e_row12_col1\" class=\"data row12 col1\" >0.7645</td>\n",
              "      <td id=\"T_1c46e_row12_col2\" class=\"data row12 col2\" >0.8661</td>\n",
              "      <td id=\"T_1c46e_row12_col3\" class=\"data row12 col3\" >0.7833</td>\n",
              "      <td id=\"T_1c46e_row12_col4\" class=\"data row12 col4\" >0.7858</td>\n",
              "      <td id=\"T_1c46e_row12_col5\" class=\"data row12 col5\" >0.7799</td>\n",
              "      <td id=\"T_1c46e_row12_col6\" class=\"data row12 col6\" >0.5264</td>\n",
              "      <td id=\"T_1c46e_row12_col7\" class=\"data row12 col7\" >0.5339</td>\n",
              "      <td id=\"T_1c46e_row12_col8\" class=\"data row12 col8\" >0.5370</td>\n",
              "    </tr>\n",
              "    <tr>\n",
              "      <th id=\"T_1c46e_level0_row13\" class=\"row_heading level0 row13\" >dt</th>\n",
              "      <td id=\"T_1c46e_row13_col0\" class=\"data row13 col0\" >Decision Tree Classifier</td>\n",
              "      <td id=\"T_1c46e_row13_col1\" class=\"data row13 col1\" >0.7123</td>\n",
              "      <td id=\"T_1c46e_row13_col2\" class=\"data row13 col2\" >0.7090</td>\n",
              "      <td id=\"T_1c46e_row13_col3\" class=\"data row13 col3\" >0.7470</td>\n",
              "      <td id=\"T_1c46e_row13_col4\" class=\"data row13 col4\" >0.7206</td>\n",
              "      <td id=\"T_1c46e_row13_col5\" class=\"data row13 col5\" >0.7280</td>\n",
              "      <td id=\"T_1c46e_row13_col6\" class=\"data row13 col6\" >0.4207</td>\n",
              "      <td id=\"T_1c46e_row13_col7\" class=\"data row13 col7\" >0.4302</td>\n",
              "      <td id=\"T_1c46e_row13_col8\" class=\"data row13 col8\" >0.1660</td>\n",
              "    </tr>\n",
              "    <tr>\n",
              "      <th id=\"T_1c46e_level0_row14\" class=\"row_heading level0 row14\" >dummy</th>\n",
              "      <td id=\"T_1c46e_row14_col0\" class=\"data row14 col0\" >Dummy Classifier</td>\n",
              "      <td id=\"T_1c46e_row14_col1\" class=\"data row14 col1\" >0.5424</td>\n",
              "      <td id=\"T_1c46e_row14_col2\" class=\"data row14 col2\" >0.5000</td>\n",
              "      <td id=\"T_1c46e_row14_col3\" class=\"data row14 col3\" >1.0000</td>\n",
              "      <td id=\"T_1c46e_row14_col4\" class=\"data row14 col4\" >0.5424</td>\n",
              "      <td id=\"T_1c46e_row14_col5\" class=\"data row14 col5\" >0.7031</td>\n",
              "      <td id=\"T_1c46e_row14_col6\" class=\"data row14 col6\" >0.0000</td>\n",
              "      <td id=\"T_1c46e_row14_col7\" class=\"data row14 col7\" >0.0000</td>\n",
              "      <td id=\"T_1c46e_row14_col8\" class=\"data row14 col8\" >0.1680</td>\n",
              "    </tr>\n",
              "  </tbody>\n",
              "</table>\n"
            ]
          },
          "metadata": {}
        },
        {
          "output_type": "display_data",
          "data": {
            "text/plain": [
              "Processing:   0%|          | 0/65 [00:00<?, ?it/s]"
            ],
            "application/vnd.jupyter.widget-view+json": {
              "version_major": 2,
              "version_minor": 0,
              "model_id": "0714d9dd728f42c5b99241b4e6f075e8"
            }
          },
          "metadata": {
            "application/vnd.jupyter.widget-view+json": {
              "colab": {
                "custom_widget_manager": {
                  "url": "https://ssl.gstatic.com/colaboratory-static/widgets/colab-cdn-widget-manager/b3e629b1971e1542/manager.min.js"
                }
              }
            }
          }
        },
        {
          "output_type": "display_data",
          "data": {
            "text/plain": [
              "<IPython.core.display.HTML object>"
            ],
            "text/html": []
          },
          "metadata": {}
        },
        {
          "output_type": "execute_result",
          "data": {
            "text/plain": [
              "GaussianNB(priors=None, var_smoothing=1e-09)"
            ],
            "text/html": [
              "<style>#sk-container-id-3 {color: black;background-color: white;}#sk-container-id-3 pre{padding: 0;}#sk-container-id-3 div.sk-toggleable {background-color: white;}#sk-container-id-3 label.sk-toggleable__label {cursor: pointer;display: block;width: 100%;margin-bottom: 0;padding: 0.3em;box-sizing: border-box;text-align: center;}#sk-container-id-3 label.sk-toggleable__label-arrow:before {content: \"▸\";float: left;margin-right: 0.25em;color: #696969;}#sk-container-id-3 label.sk-toggleable__label-arrow:hover:before {color: black;}#sk-container-id-3 div.sk-estimator:hover label.sk-toggleable__label-arrow:before {color: black;}#sk-container-id-3 div.sk-toggleable__content {max-height: 0;max-width: 0;overflow: hidden;text-align: left;background-color: #f0f8ff;}#sk-container-id-3 div.sk-toggleable__content pre {margin: 0.2em;color: black;border-radius: 0.25em;background-color: #f0f8ff;}#sk-container-id-3 input.sk-toggleable__control:checked~div.sk-toggleable__content {max-height: 200px;max-width: 100%;overflow: auto;}#sk-container-id-3 input.sk-toggleable__control:checked~label.sk-toggleable__label-arrow:before {content: \"▾\";}#sk-container-id-3 div.sk-estimator input.sk-toggleable__control:checked~label.sk-toggleable__label {background-color: #d4ebff;}#sk-container-id-3 div.sk-label input.sk-toggleable__control:checked~label.sk-toggleable__label {background-color: #d4ebff;}#sk-container-id-3 input.sk-hidden--visually {border: 0;clip: rect(1px 1px 1px 1px);clip: rect(1px, 1px, 1px, 1px);height: 1px;margin: -1px;overflow: hidden;padding: 0;position: absolute;width: 1px;}#sk-container-id-3 div.sk-estimator {font-family: monospace;background-color: #f0f8ff;border: 1px dotted black;border-radius: 0.25em;box-sizing: border-box;margin-bottom: 0.5em;}#sk-container-id-3 div.sk-estimator:hover {background-color: #d4ebff;}#sk-container-id-3 div.sk-parallel-item::after {content: \"\";width: 100%;border-bottom: 1px solid gray;flex-grow: 1;}#sk-container-id-3 div.sk-label:hover label.sk-toggleable__label {background-color: #d4ebff;}#sk-container-id-3 div.sk-serial::before {content: \"\";position: absolute;border-left: 1px solid gray;box-sizing: border-box;top: 0;bottom: 0;left: 50%;z-index: 0;}#sk-container-id-3 div.sk-serial {display: flex;flex-direction: column;align-items: center;background-color: white;padding-right: 0.2em;padding-left: 0.2em;position: relative;}#sk-container-id-3 div.sk-item {position: relative;z-index: 1;}#sk-container-id-3 div.sk-parallel {display: flex;align-items: stretch;justify-content: center;background-color: white;position: relative;}#sk-container-id-3 div.sk-item::before, #sk-container-id-3 div.sk-parallel-item::before {content: \"\";position: absolute;border-left: 1px solid gray;box-sizing: border-box;top: 0;bottom: 0;left: 50%;z-index: -1;}#sk-container-id-3 div.sk-parallel-item {display: flex;flex-direction: column;z-index: 1;position: relative;background-color: white;}#sk-container-id-3 div.sk-parallel-item:first-child::after {align-self: flex-end;width: 50%;}#sk-container-id-3 div.sk-parallel-item:last-child::after {align-self: flex-start;width: 50%;}#sk-container-id-3 div.sk-parallel-item:only-child::after {width: 0;}#sk-container-id-3 div.sk-dashed-wrapped {border: 1px dashed gray;margin: 0 0.4em 0.5em 0.4em;box-sizing: border-box;padding-bottom: 0.4em;background-color: white;}#sk-container-id-3 div.sk-label label {font-family: monospace;font-weight: bold;display: inline-block;line-height: 1.2em;}#sk-container-id-3 div.sk-label-container {text-align: center;}#sk-container-id-3 div.sk-container {/* jupyter's `normalize.less` sets `[hidden] { display: none; }` but bootstrap.min.css set `[hidden] { display: none !important; }` so we also need the `!important` here to be able to override the default hidden behavior on the sphinx rendered scikit-learn.org. See: https://github.com/scikit-learn/scikit-learn/issues/21755 */display: inline-block !important;position: relative;}#sk-container-id-3 div.sk-text-repr-fallback {display: none;}</style><div id=\"sk-container-id-3\" class=\"sk-top-container\"><div class=\"sk-text-repr-fallback\"><pre>GaussianNB(priors=None, var_smoothing=1e-09)</pre><b>In a Jupyter environment, please rerun this cell to show the HTML representation or trust the notebook. <br />On GitHub, the HTML representation is unable to render, please try loading this page with nbviewer.org.</b></div><div class=\"sk-container\" hidden><div class=\"sk-item\"><div class=\"sk-estimator sk-toggleable\"><input class=\"sk-toggleable__control sk-hidden--visually\" id=\"sk-estimator-id-3\" type=\"checkbox\" checked><label for=\"sk-estimator-id-3\" class=\"sk-toggleable__label sk-toggleable__label-arrow\">GaussianNB</label><div class=\"sk-toggleable__content\"><pre>GaussianNB(priors=None, var_smoothing=1e-09)</pre></div></div></div></div></div>"
            ]
          },
          "metadata": {},
          "execution_count": 42
        }
      ]
    },
    {
      "cell_type": "markdown",
      "source": [
        "Bearing in mind we have a classification experiment, we look at accuracy as a primary benchmark metric to identify which model is the best. Naive Bayes and Ridge Clasifier are the most superior performing models."
      ],
      "metadata": {
        "id": "B7QO5Ym_vijh"
      }
    },
    {
      "cell_type": "code",
      "source": [
        "nb_model= create_model('nb',fold=10)"
      ],
      "metadata": {
        "colab": {
          "base_uri": "https://localhost:8080/",
          "height": 457,
          "referenced_widgets": [
            "265f00afd7834f74b8d5f587f093fcb1",
            "9ea20ff1ba1845629f52459f1df9a5e4",
            "02ca4053127d4db191a73f58640c08f5",
            "1781710c175941e09ce3d9e4bf322cff",
            "43c1060d76364d36bc51a7b5ffc79d5d",
            "7898b0028ca94d50b78094caf2861acf",
            "861bb3296c0144c084703aba15671567",
            "fa9de6cc620240989e588c2ee4d8e79f",
            "2ee2b908b74b43e8896ed4ce14cc2ae1",
            "5d57b7888af34aedaa10e488c4b7d877",
            "008ad80d13374828aeab71b7a82d1b48"
          ]
        },
        "id": "dp81Ptx4vL-_",
        "outputId": "b2030337-6577-43a8-c5a6-60c2866e676a"
      },
      "execution_count": 43,
      "outputs": [
        {
          "output_type": "display_data",
          "data": {
            "text/plain": [
              "<IPython.core.display.HTML object>"
            ],
            "text/html": []
          },
          "metadata": {}
        },
        {
          "output_type": "display_data",
          "data": {
            "text/plain": [
              "<pandas.io.formats.style.Styler at 0x7f152f348a60>"
            ],
            "text/html": [
              "<style type=\"text/css\">\n",
              "#T_1684b_row10_col0, #T_1684b_row10_col1, #T_1684b_row10_col2, #T_1684b_row10_col3, #T_1684b_row10_col4, #T_1684b_row10_col5, #T_1684b_row10_col6 {\n",
              "  background: yellow;\n",
              "}\n",
              "</style>\n",
              "<table id=\"T_1684b\" class=\"dataframe\">\n",
              "  <thead>\n",
              "    <tr>\n",
              "      <th class=\"blank level0\" >&nbsp;</th>\n",
              "      <th id=\"T_1684b_level0_col0\" class=\"col_heading level0 col0\" >Accuracy</th>\n",
              "      <th id=\"T_1684b_level0_col1\" class=\"col_heading level0 col1\" >AUC</th>\n",
              "      <th id=\"T_1684b_level0_col2\" class=\"col_heading level0 col2\" >Recall</th>\n",
              "      <th id=\"T_1684b_level0_col3\" class=\"col_heading level0 col3\" >Prec.</th>\n",
              "      <th id=\"T_1684b_level0_col4\" class=\"col_heading level0 col4\" >F1</th>\n",
              "      <th id=\"T_1684b_level0_col5\" class=\"col_heading level0 col5\" >Kappa</th>\n",
              "      <th id=\"T_1684b_level0_col6\" class=\"col_heading level0 col6\" >MCC</th>\n",
              "    </tr>\n",
              "    <tr>\n",
              "      <th class=\"index_name level0\" >Fold</th>\n",
              "      <th class=\"blank col0\" >&nbsp;</th>\n",
              "      <th class=\"blank col1\" >&nbsp;</th>\n",
              "      <th class=\"blank col2\" >&nbsp;</th>\n",
              "      <th class=\"blank col3\" >&nbsp;</th>\n",
              "      <th class=\"blank col4\" >&nbsp;</th>\n",
              "      <th class=\"blank col5\" >&nbsp;</th>\n",
              "      <th class=\"blank col6\" >&nbsp;</th>\n",
              "    </tr>\n",
              "  </thead>\n",
              "  <tbody>\n",
              "    <tr>\n",
              "      <th id=\"T_1684b_level0_row0\" class=\"row_heading level0 row0\" >0</th>\n",
              "      <td id=\"T_1684b_row0_col0\" class=\"data row0 col0\" >0.7727</td>\n",
              "      <td id=\"T_1684b_row0_col1\" class=\"data row0 col1\" >0.7417</td>\n",
              "      <td id=\"T_1684b_row0_col2\" class=\"data row0 col2\" >0.8333</td>\n",
              "      <td id=\"T_1684b_row0_col3\" class=\"data row0 col3\" >0.7692</td>\n",
              "      <td id=\"T_1684b_row0_col4\" class=\"data row0 col4\" >0.8000</td>\n",
              "      <td id=\"T_1684b_row0_col5\" class=\"data row0 col5\" >0.5378</td>\n",
              "      <td id=\"T_1684b_row0_col6\" class=\"data row0 col6\" >0.5401</td>\n",
              "    </tr>\n",
              "    <tr>\n",
              "      <th id=\"T_1684b_level0_row1\" class=\"row_heading level0 row1\" >1</th>\n",
              "      <td id=\"T_1684b_row1_col0\" class=\"data row1 col0\" >0.8636</td>\n",
              "      <td id=\"T_1684b_row1_col1\" class=\"data row1 col1\" >0.8500</td>\n",
              "      <td id=\"T_1684b_row1_col2\" class=\"data row1 col2\" >0.9167</td>\n",
              "      <td id=\"T_1684b_row1_col3\" class=\"data row1 col3\" >0.8462</td>\n",
              "      <td id=\"T_1684b_row1_col4\" class=\"data row1 col4\" >0.8800</td>\n",
              "      <td id=\"T_1684b_row1_col5\" class=\"data row1 col5\" >0.7227</td>\n",
              "      <td id=\"T_1684b_row1_col6\" class=\"data row1 col6\" >0.7258</td>\n",
              "    </tr>\n",
              "    <tr>\n",
              "      <th id=\"T_1684b_level0_row2\" class=\"row_heading level0 row2\" >2</th>\n",
              "      <td id=\"T_1684b_row2_col0\" class=\"data row2 col0\" >0.7619</td>\n",
              "      <td id=\"T_1684b_row2_col1\" class=\"data row2 col1\" >0.8273</td>\n",
              "      <td id=\"T_1684b_row2_col2\" class=\"data row2 col2\" >0.6364</td>\n",
              "      <td id=\"T_1684b_row2_col3\" class=\"data row2 col3\" >0.8750</td>\n",
              "      <td id=\"T_1684b_row2_col4\" class=\"data row2 col4\" >0.7368</td>\n",
              "      <td id=\"T_1684b_row2_col5\" class=\"data row2 col5\" >0.5291</td>\n",
              "      <td id=\"T_1684b_row2_col6\" class=\"data row2 col6\" >0.5516</td>\n",
              "    </tr>\n",
              "    <tr>\n",
              "      <th id=\"T_1684b_level0_row3\" class=\"row_heading level0 row3\" >3</th>\n",
              "      <td id=\"T_1684b_row3_col0\" class=\"data row3 col0\" >0.7143</td>\n",
              "      <td id=\"T_1684b_row3_col1\" class=\"data row3 col1\" >0.8818</td>\n",
              "      <td id=\"T_1684b_row3_col2\" class=\"data row3 col2\" >0.6364</td>\n",
              "      <td id=\"T_1684b_row3_col3\" class=\"data row3 col3\" >0.7778</td>\n",
              "      <td id=\"T_1684b_row3_col4\" class=\"data row3 col4\" >0.7000</td>\n",
              "      <td id=\"T_1684b_row3_col5\" class=\"data row3 col5\" >0.4324</td>\n",
              "      <td id=\"T_1684b_row3_col6\" class=\"data row3 col6\" >0.4404</td>\n",
              "    </tr>\n",
              "    <tr>\n",
              "      <th id=\"T_1684b_level0_row4\" class=\"row_heading level0 row4\" >4</th>\n",
              "      <td id=\"T_1684b_row4_col0\" class=\"data row4 col0\" >0.8571</td>\n",
              "      <td id=\"T_1684b_row4_col1\" class=\"data row4 col1\" >0.9636</td>\n",
              "      <td id=\"T_1684b_row4_col2\" class=\"data row4 col2\" >0.9091</td>\n",
              "      <td id=\"T_1684b_row4_col3\" class=\"data row4 col3\" >0.8333</td>\n",
              "      <td id=\"T_1684b_row4_col4\" class=\"data row4 col4\" >0.8696</td>\n",
              "      <td id=\"T_1684b_row4_col5\" class=\"data row4 col5\" >0.7123</td>\n",
              "      <td id=\"T_1684b_row4_col6\" class=\"data row4 col6\" >0.7156</td>\n",
              "    </tr>\n",
              "    <tr>\n",
              "      <th id=\"T_1684b_level0_row5\" class=\"row_heading level0 row5\" >5</th>\n",
              "      <td id=\"T_1684b_row5_col0\" class=\"data row5 col0\" >0.9048</td>\n",
              "      <td id=\"T_1684b_row5_col1\" class=\"data row5 col1\" >1.0000</td>\n",
              "      <td id=\"T_1684b_row5_col2\" class=\"data row5 col2\" >0.8182</td>\n",
              "      <td id=\"T_1684b_row5_col3\" class=\"data row5 col3\" >1.0000</td>\n",
              "      <td id=\"T_1684b_row5_col4\" class=\"data row5 col4\" >0.9000</td>\n",
              "      <td id=\"T_1684b_row5_col5\" class=\"data row5 col5\" >0.8108</td>\n",
              "      <td id=\"T_1684b_row5_col6\" class=\"data row5 col6\" >0.8257</td>\n",
              "    </tr>\n",
              "    <tr>\n",
              "      <th id=\"T_1684b_level0_row6\" class=\"row_heading level0 row6\" >6</th>\n",
              "      <td id=\"T_1684b_row6_col0\" class=\"data row6 col0\" >0.8571</td>\n",
              "      <td id=\"T_1684b_row6_col1\" class=\"data row6 col1\" >0.9545</td>\n",
              "      <td id=\"T_1684b_row6_col2\" class=\"data row6 col2\" >1.0000</td>\n",
              "      <td id=\"T_1684b_row6_col3\" class=\"data row6 col3\" >0.7857</td>\n",
              "      <td id=\"T_1684b_row6_col4\" class=\"data row6 col4\" >0.8800</td>\n",
              "      <td id=\"T_1684b_row6_col5\" class=\"data row6 col5\" >0.7097</td>\n",
              "      <td id=\"T_1684b_row6_col6\" class=\"data row6 col6\" >0.7416</td>\n",
              "    </tr>\n",
              "    <tr>\n",
              "      <th id=\"T_1684b_level0_row7\" class=\"row_heading level0 row7\" >7</th>\n",
              "      <td id=\"T_1684b_row7_col0\" class=\"data row7 col0\" >0.9048</td>\n",
              "      <td id=\"T_1684b_row7_col1\" class=\"data row7 col1\" >0.9444</td>\n",
              "      <td id=\"T_1684b_row7_col2\" class=\"data row7 col2\" >0.8333</td>\n",
              "      <td id=\"T_1684b_row7_col3\" class=\"data row7 col3\" >1.0000</td>\n",
              "      <td id=\"T_1684b_row7_col4\" class=\"data row7 col4\" >0.9091</td>\n",
              "      <td id=\"T_1684b_row7_col5\" class=\"data row7 col5\" >0.8108</td>\n",
              "      <td id=\"T_1684b_row7_col6\" class=\"data row7 col6\" >0.8257</td>\n",
              "    </tr>\n",
              "    <tr>\n",
              "      <th id=\"T_1684b_level0_row8\" class=\"row_heading level0 row8\" >8</th>\n",
              "      <td id=\"T_1684b_row8_col0\" class=\"data row8 col0\" >0.8571</td>\n",
              "      <td id=\"T_1684b_row8_col1\" class=\"data row8 col1\" >0.9167</td>\n",
              "      <td id=\"T_1684b_row8_col2\" class=\"data row8 col2\" >0.8333</td>\n",
              "      <td id=\"T_1684b_row8_col3\" class=\"data row8 col3\" >0.9091</td>\n",
              "      <td id=\"T_1684b_row8_col4\" class=\"data row8 col4\" >0.8696</td>\n",
              "      <td id=\"T_1684b_row8_col5\" class=\"data row8 col5\" >0.7123</td>\n",
              "      <td id=\"T_1684b_row8_col6\" class=\"data row8 col6\" >0.7156</td>\n",
              "    </tr>\n",
              "    <tr>\n",
              "      <th id=\"T_1684b_level0_row9\" class=\"row_heading level0 row9\" >9</th>\n",
              "      <td id=\"T_1684b_row9_col0\" class=\"data row9 col0\" >0.9524</td>\n",
              "      <td id=\"T_1684b_row9_col1\" class=\"data row9 col1\" >0.9722</td>\n",
              "      <td id=\"T_1684b_row9_col2\" class=\"data row9 col2\" >1.0000</td>\n",
              "      <td id=\"T_1684b_row9_col3\" class=\"data row9 col3\" >0.9231</td>\n",
              "      <td id=\"T_1684b_row9_col4\" class=\"data row9 col4\" >0.9600</td>\n",
              "      <td id=\"T_1684b_row9_col5\" class=\"data row9 col5\" >0.9014</td>\n",
              "      <td id=\"T_1684b_row9_col6\" class=\"data row9 col6\" >0.9058</td>\n",
              "    </tr>\n",
              "    <tr>\n",
              "      <th id=\"T_1684b_level0_row10\" class=\"row_heading level0 row10\" >Mean</th>\n",
              "      <td id=\"T_1684b_row10_col0\" class=\"data row10 col0\" >0.8446</td>\n",
              "      <td id=\"T_1684b_row10_col1\" class=\"data row10 col1\" >0.9052</td>\n",
              "      <td id=\"T_1684b_row10_col2\" class=\"data row10 col2\" >0.8417</td>\n",
              "      <td id=\"T_1684b_row10_col3\" class=\"data row10 col3\" >0.8719</td>\n",
              "      <td id=\"T_1684b_row10_col4\" class=\"data row10 col4\" >0.8505</td>\n",
              "      <td id=\"T_1684b_row10_col5\" class=\"data row10 col5\" >0.6879</td>\n",
              "      <td id=\"T_1684b_row10_col6\" class=\"data row10 col6\" >0.6988</td>\n",
              "    </tr>\n",
              "    <tr>\n",
              "      <th id=\"T_1684b_level0_row11\" class=\"row_heading level0 row11\" >Std</th>\n",
              "      <td id=\"T_1684b_row11_col0\" class=\"data row11 col0\" >0.0698</td>\n",
              "      <td id=\"T_1684b_row11_col1\" class=\"data row11 col1\" >0.0758</td>\n",
              "      <td id=\"T_1684b_row11_col2\" class=\"data row11 col2\" >0.1206</td>\n",
              "      <td id=\"T_1684b_row11_col3\" class=\"data row11 col3\" >0.0811</td>\n",
              "      <td id=\"T_1684b_row11_col4\" class=\"data row11 col4\" >0.0765</td>\n",
              "      <td id=\"T_1684b_row11_col5\" class=\"data row11 col5\" >0.1384</td>\n",
              "      <td id=\"T_1684b_row11_col6\" class=\"data row11 col6\" >0.1385</td>\n",
              "    </tr>\n",
              "  </tbody>\n",
              "</table>\n"
            ]
          },
          "metadata": {}
        },
        {
          "output_type": "display_data",
          "data": {
            "text/plain": [
              "Processing:   0%|          | 0/4 [00:00<?, ?it/s]"
            ],
            "application/vnd.jupyter.widget-view+json": {
              "version_major": 2,
              "version_minor": 0,
              "model_id": "265f00afd7834f74b8d5f587f093fcb1"
            }
          },
          "metadata": {
            "application/vnd.jupyter.widget-view+json": {
              "colab": {
                "custom_widget_manager": {
                  "url": "https://ssl.gstatic.com/colaboratory-static/widgets/colab-cdn-widget-manager/b3e629b1971e1542/manager.min.js"
                }
              }
            }
          }
        },
        {
          "output_type": "display_data",
          "data": {
            "text/plain": [
              "<IPython.core.display.HTML object>"
            ],
            "text/html": []
          },
          "metadata": {}
        }
      ]
    },
    {
      "cell_type": "code",
      "source": [
        "hp_tune_df= tune_model(nb_model,optimize='F1')"
      ],
      "metadata": {
        "colab": {
          "base_uri": "https://localhost:8080/",
          "height": 493,
          "referenced_widgets": [
            "1d6b2f24ed604ab9bcb3e464383d8242",
            "9297fa76208448cc908d975ade632103",
            "93b256dfc1b34823a6e5144b927b6255",
            "cffece49cdc342cc8b24876a12e1e878",
            "da6539a7c2a247cc937e3491a8054c18",
            "47d5c68ea768452983d578965ace085a",
            "9dec5290f1ac47b0bf7948a973d4f6cc",
            "a39f2ee632de4c589197e3064b24d5d7",
            "4687e5441662467e875afb891931412a",
            "4b505d33ba8a48fa80773db76af8f555",
            "fce6d7e99aff4fea82c6f3055a61f926"
          ]
        },
        "id": "veKTQFm4vL8K",
        "outputId": "82dc2004-a52b-4f39-d7fa-55f3de309cb0"
      },
      "execution_count": 44,
      "outputs": [
        {
          "output_type": "display_data",
          "data": {
            "text/plain": [
              "<IPython.core.display.HTML object>"
            ],
            "text/html": []
          },
          "metadata": {}
        },
        {
          "output_type": "display_data",
          "data": {
            "text/plain": [
              "<pandas.io.formats.style.Styler at 0x7f154421ceb0>"
            ],
            "text/html": [
              "<style type=\"text/css\">\n",
              "#T_50908_row10_col0, #T_50908_row10_col1, #T_50908_row10_col2, #T_50908_row10_col3, #T_50908_row10_col4, #T_50908_row10_col5, #T_50908_row10_col6 {\n",
              "  background: yellow;\n",
              "}\n",
              "</style>\n",
              "<table id=\"T_50908\" class=\"dataframe\">\n",
              "  <thead>\n",
              "    <tr>\n",
              "      <th class=\"blank level0\" >&nbsp;</th>\n",
              "      <th id=\"T_50908_level0_col0\" class=\"col_heading level0 col0\" >Accuracy</th>\n",
              "      <th id=\"T_50908_level0_col1\" class=\"col_heading level0 col1\" >AUC</th>\n",
              "      <th id=\"T_50908_level0_col2\" class=\"col_heading level0 col2\" >Recall</th>\n",
              "      <th id=\"T_50908_level0_col3\" class=\"col_heading level0 col3\" >Prec.</th>\n",
              "      <th id=\"T_50908_level0_col4\" class=\"col_heading level0 col4\" >F1</th>\n",
              "      <th id=\"T_50908_level0_col5\" class=\"col_heading level0 col5\" >Kappa</th>\n",
              "      <th id=\"T_50908_level0_col6\" class=\"col_heading level0 col6\" >MCC</th>\n",
              "    </tr>\n",
              "    <tr>\n",
              "      <th class=\"index_name level0\" >Fold</th>\n",
              "      <th class=\"blank col0\" >&nbsp;</th>\n",
              "      <th class=\"blank col1\" >&nbsp;</th>\n",
              "      <th class=\"blank col2\" >&nbsp;</th>\n",
              "      <th class=\"blank col3\" >&nbsp;</th>\n",
              "      <th class=\"blank col4\" >&nbsp;</th>\n",
              "      <th class=\"blank col5\" >&nbsp;</th>\n",
              "      <th class=\"blank col6\" >&nbsp;</th>\n",
              "    </tr>\n",
              "  </thead>\n",
              "  <tbody>\n",
              "    <tr>\n",
              "      <th id=\"T_50908_level0_row0\" class=\"row_heading level0 row0\" >0</th>\n",
              "      <td id=\"T_50908_row0_col0\" class=\"data row0 col0\" >0.7727</td>\n",
              "      <td id=\"T_50908_row0_col1\" class=\"data row0 col1\" >0.7417</td>\n",
              "      <td id=\"T_50908_row0_col2\" class=\"data row0 col2\" >0.8333</td>\n",
              "      <td id=\"T_50908_row0_col3\" class=\"data row0 col3\" >0.7692</td>\n",
              "      <td id=\"T_50908_row0_col4\" class=\"data row0 col4\" >0.8000</td>\n",
              "      <td id=\"T_50908_row0_col5\" class=\"data row0 col5\" >0.5378</td>\n",
              "      <td id=\"T_50908_row0_col6\" class=\"data row0 col6\" >0.5401</td>\n",
              "    </tr>\n",
              "    <tr>\n",
              "      <th id=\"T_50908_level0_row1\" class=\"row_heading level0 row1\" >1</th>\n",
              "      <td id=\"T_50908_row1_col0\" class=\"data row1 col0\" >0.8636</td>\n",
              "      <td id=\"T_50908_row1_col1\" class=\"data row1 col1\" >0.8500</td>\n",
              "      <td id=\"T_50908_row1_col2\" class=\"data row1 col2\" >0.9167</td>\n",
              "      <td id=\"T_50908_row1_col3\" class=\"data row1 col3\" >0.8462</td>\n",
              "      <td id=\"T_50908_row1_col4\" class=\"data row1 col4\" >0.8800</td>\n",
              "      <td id=\"T_50908_row1_col5\" class=\"data row1 col5\" >0.7227</td>\n",
              "      <td id=\"T_50908_row1_col6\" class=\"data row1 col6\" >0.7258</td>\n",
              "    </tr>\n",
              "    <tr>\n",
              "      <th id=\"T_50908_level0_row2\" class=\"row_heading level0 row2\" >2</th>\n",
              "      <td id=\"T_50908_row2_col0\" class=\"data row2 col0\" >0.7619</td>\n",
              "      <td id=\"T_50908_row2_col1\" class=\"data row2 col1\" >0.8273</td>\n",
              "      <td id=\"T_50908_row2_col2\" class=\"data row2 col2\" >0.6364</td>\n",
              "      <td id=\"T_50908_row2_col3\" class=\"data row2 col3\" >0.8750</td>\n",
              "      <td id=\"T_50908_row2_col4\" class=\"data row2 col4\" >0.7368</td>\n",
              "      <td id=\"T_50908_row2_col5\" class=\"data row2 col5\" >0.5291</td>\n",
              "      <td id=\"T_50908_row2_col6\" class=\"data row2 col6\" >0.5516</td>\n",
              "    </tr>\n",
              "    <tr>\n",
              "      <th id=\"T_50908_level0_row3\" class=\"row_heading level0 row3\" >3</th>\n",
              "      <td id=\"T_50908_row3_col0\" class=\"data row3 col0\" >0.7143</td>\n",
              "      <td id=\"T_50908_row3_col1\" class=\"data row3 col1\" >0.8818</td>\n",
              "      <td id=\"T_50908_row3_col2\" class=\"data row3 col2\" >0.6364</td>\n",
              "      <td id=\"T_50908_row3_col3\" class=\"data row3 col3\" >0.7778</td>\n",
              "      <td id=\"T_50908_row3_col4\" class=\"data row3 col4\" >0.7000</td>\n",
              "      <td id=\"T_50908_row3_col5\" class=\"data row3 col5\" >0.4324</td>\n",
              "      <td id=\"T_50908_row3_col6\" class=\"data row3 col6\" >0.4404</td>\n",
              "    </tr>\n",
              "    <tr>\n",
              "      <th id=\"T_50908_level0_row4\" class=\"row_heading level0 row4\" >4</th>\n",
              "      <td id=\"T_50908_row4_col0\" class=\"data row4 col0\" >0.8571</td>\n",
              "      <td id=\"T_50908_row4_col1\" class=\"data row4 col1\" >0.9636</td>\n",
              "      <td id=\"T_50908_row4_col2\" class=\"data row4 col2\" >0.9091</td>\n",
              "      <td id=\"T_50908_row4_col3\" class=\"data row4 col3\" >0.8333</td>\n",
              "      <td id=\"T_50908_row4_col4\" class=\"data row4 col4\" >0.8696</td>\n",
              "      <td id=\"T_50908_row4_col5\" class=\"data row4 col5\" >0.7123</td>\n",
              "      <td id=\"T_50908_row4_col6\" class=\"data row4 col6\" >0.7156</td>\n",
              "    </tr>\n",
              "    <tr>\n",
              "      <th id=\"T_50908_level0_row5\" class=\"row_heading level0 row5\" >5</th>\n",
              "      <td id=\"T_50908_row5_col0\" class=\"data row5 col0\" >0.9048</td>\n",
              "      <td id=\"T_50908_row5_col1\" class=\"data row5 col1\" >1.0000</td>\n",
              "      <td id=\"T_50908_row5_col2\" class=\"data row5 col2\" >0.8182</td>\n",
              "      <td id=\"T_50908_row5_col3\" class=\"data row5 col3\" >1.0000</td>\n",
              "      <td id=\"T_50908_row5_col4\" class=\"data row5 col4\" >0.9000</td>\n",
              "      <td id=\"T_50908_row5_col5\" class=\"data row5 col5\" >0.8108</td>\n",
              "      <td id=\"T_50908_row5_col6\" class=\"data row5 col6\" >0.8257</td>\n",
              "    </tr>\n",
              "    <tr>\n",
              "      <th id=\"T_50908_level0_row6\" class=\"row_heading level0 row6\" >6</th>\n",
              "      <td id=\"T_50908_row6_col0\" class=\"data row6 col0\" >0.8571</td>\n",
              "      <td id=\"T_50908_row6_col1\" class=\"data row6 col1\" >0.9545</td>\n",
              "      <td id=\"T_50908_row6_col2\" class=\"data row6 col2\" >1.0000</td>\n",
              "      <td id=\"T_50908_row6_col3\" class=\"data row6 col3\" >0.7857</td>\n",
              "      <td id=\"T_50908_row6_col4\" class=\"data row6 col4\" >0.8800</td>\n",
              "      <td id=\"T_50908_row6_col5\" class=\"data row6 col5\" >0.7097</td>\n",
              "      <td id=\"T_50908_row6_col6\" class=\"data row6 col6\" >0.7416</td>\n",
              "    </tr>\n",
              "    <tr>\n",
              "      <th id=\"T_50908_level0_row7\" class=\"row_heading level0 row7\" >7</th>\n",
              "      <td id=\"T_50908_row7_col0\" class=\"data row7 col0\" >0.9048</td>\n",
              "      <td id=\"T_50908_row7_col1\" class=\"data row7 col1\" >0.9444</td>\n",
              "      <td id=\"T_50908_row7_col2\" class=\"data row7 col2\" >0.8333</td>\n",
              "      <td id=\"T_50908_row7_col3\" class=\"data row7 col3\" >1.0000</td>\n",
              "      <td id=\"T_50908_row7_col4\" class=\"data row7 col4\" >0.9091</td>\n",
              "      <td id=\"T_50908_row7_col5\" class=\"data row7 col5\" >0.8108</td>\n",
              "      <td id=\"T_50908_row7_col6\" class=\"data row7 col6\" >0.8257</td>\n",
              "    </tr>\n",
              "    <tr>\n",
              "      <th id=\"T_50908_level0_row8\" class=\"row_heading level0 row8\" >8</th>\n",
              "      <td id=\"T_50908_row8_col0\" class=\"data row8 col0\" >0.8571</td>\n",
              "      <td id=\"T_50908_row8_col1\" class=\"data row8 col1\" >0.9167</td>\n",
              "      <td id=\"T_50908_row8_col2\" class=\"data row8 col2\" >0.8333</td>\n",
              "      <td id=\"T_50908_row8_col3\" class=\"data row8 col3\" >0.9091</td>\n",
              "      <td id=\"T_50908_row8_col4\" class=\"data row8 col4\" >0.8696</td>\n",
              "      <td id=\"T_50908_row8_col5\" class=\"data row8 col5\" >0.7123</td>\n",
              "      <td id=\"T_50908_row8_col6\" class=\"data row8 col6\" >0.7156</td>\n",
              "    </tr>\n",
              "    <tr>\n",
              "      <th id=\"T_50908_level0_row9\" class=\"row_heading level0 row9\" >9</th>\n",
              "      <td id=\"T_50908_row9_col0\" class=\"data row9 col0\" >0.9524</td>\n",
              "      <td id=\"T_50908_row9_col1\" class=\"data row9 col1\" >0.9722</td>\n",
              "      <td id=\"T_50908_row9_col2\" class=\"data row9 col2\" >1.0000</td>\n",
              "      <td id=\"T_50908_row9_col3\" class=\"data row9 col3\" >0.9231</td>\n",
              "      <td id=\"T_50908_row9_col4\" class=\"data row9 col4\" >0.9600</td>\n",
              "      <td id=\"T_50908_row9_col5\" class=\"data row9 col5\" >0.9014</td>\n",
              "      <td id=\"T_50908_row9_col6\" class=\"data row9 col6\" >0.9058</td>\n",
              "    </tr>\n",
              "    <tr>\n",
              "      <th id=\"T_50908_level0_row10\" class=\"row_heading level0 row10\" >Mean</th>\n",
              "      <td id=\"T_50908_row10_col0\" class=\"data row10 col0\" >0.8446</td>\n",
              "      <td id=\"T_50908_row10_col1\" class=\"data row10 col1\" >0.9052</td>\n",
              "      <td id=\"T_50908_row10_col2\" class=\"data row10 col2\" >0.8417</td>\n",
              "      <td id=\"T_50908_row10_col3\" class=\"data row10 col3\" >0.8719</td>\n",
              "      <td id=\"T_50908_row10_col4\" class=\"data row10 col4\" >0.8505</td>\n",
              "      <td id=\"T_50908_row10_col5\" class=\"data row10 col5\" >0.6879</td>\n",
              "      <td id=\"T_50908_row10_col6\" class=\"data row10 col6\" >0.6988</td>\n",
              "    </tr>\n",
              "    <tr>\n",
              "      <th id=\"T_50908_level0_row11\" class=\"row_heading level0 row11\" >Std</th>\n",
              "      <td id=\"T_50908_row11_col0\" class=\"data row11 col0\" >0.0698</td>\n",
              "      <td id=\"T_50908_row11_col1\" class=\"data row11 col1\" >0.0758</td>\n",
              "      <td id=\"T_50908_row11_col2\" class=\"data row11 col2\" >0.1206</td>\n",
              "      <td id=\"T_50908_row11_col3\" class=\"data row11 col3\" >0.0811</td>\n",
              "      <td id=\"T_50908_row11_col4\" class=\"data row11 col4\" >0.0765</td>\n",
              "      <td id=\"T_50908_row11_col5\" class=\"data row11 col5\" >0.1384</td>\n",
              "      <td id=\"T_50908_row11_col6\" class=\"data row11 col6\" >0.1385</td>\n",
              "    </tr>\n",
              "  </tbody>\n",
              "</table>\n"
            ]
          },
          "metadata": {}
        },
        {
          "output_type": "display_data",
          "data": {
            "text/plain": [
              "Processing:   0%|          | 0/7 [00:00<?, ?it/s]"
            ],
            "application/vnd.jupyter.widget-view+json": {
              "version_major": 2,
              "version_minor": 0,
              "model_id": "1d6b2f24ed604ab9bcb3e464383d8242"
            }
          },
          "metadata": {
            "application/vnd.jupyter.widget-view+json": {
              "colab": {
                "custom_widget_manager": {
                  "url": "https://ssl.gstatic.com/colaboratory-static/widgets/colab-cdn-widget-manager/b3e629b1971e1542/manager.min.js"
                }
              }
            }
          }
        },
        {
          "output_type": "stream",
          "name": "stdout",
          "text": [
            "Fitting 10 folds for each of 10 candidates, totalling 100 fits\n"
          ]
        },
        {
          "output_type": "display_data",
          "data": {
            "text/plain": [
              "<IPython.core.display.HTML object>"
            ],
            "text/html": []
          },
          "metadata": {}
        },
        {
          "output_type": "stream",
          "name": "stdout",
          "text": [
            "Original model was better than the tuned model, hence it will be returned. NOTE: The display metrics are for the tuned model (not the original one).\n"
          ]
        }
      ]
    },
    {
      "cell_type": "code",
      "source": [
        "best_model= compare_models(sort='Accuracy')"
      ],
      "metadata": {
        "colab": {
          "base_uri": "https://localhost:8080/",
          "height": 520,
          "referenced_widgets": [
            "b3d0e061a0d94f948b2d952aec30bb10",
            "8e4fbfbfe1eb447e92fb7cf4d27d5990",
            "1db3eb064e144d3484bfe5b2459dc34b",
            "f483c2ddf93f402d831ce6804e740767",
            "40c04da692d14fd792a6d359d7c90d9e",
            "5345e60739b847e69bf559d664749bb1",
            "5805a11b2db24f9086aad0f76ca8167a",
            "232fb1006abd4c74ac41a23d03b06ed2",
            "8ab7caf2a3bc44179cc34a4ef8839ba8",
            "9d80828465f64db7bc1c597d466cff7b",
            "9abad47e584c4d44a7dcc62e79514714"
          ]
        },
        "id": "7PGC8wg4vL50",
        "outputId": "c4c8f9aa-c603-48f2-cdd5-e668eda87d74"
      },
      "execution_count": 45,
      "outputs": [
        {
          "output_type": "display_data",
          "data": {
            "text/plain": [
              "<IPython.core.display.HTML object>"
            ],
            "text/html": []
          },
          "metadata": {}
        },
        {
          "output_type": "display_data",
          "data": {
            "text/plain": [
              "<pandas.io.formats.style.Styler at 0x7f152efed040>"
            ],
            "text/html": [
              "<style type=\"text/css\">\n",
              "#T_f4e69 th {\n",
              "  text-align: left;\n",
              "}\n",
              "#T_f4e69_row0_col0, #T_f4e69_row0_col3, #T_f4e69_row0_col5, #T_f4e69_row1_col0, #T_f4e69_row1_col1, #T_f4e69_row1_col2, #T_f4e69_row1_col3, #T_f4e69_row1_col4, #T_f4e69_row1_col6, #T_f4e69_row1_col7, #T_f4e69_row2_col0, #T_f4e69_row2_col1, #T_f4e69_row2_col2, #T_f4e69_row2_col3, #T_f4e69_row2_col4, #T_f4e69_row2_col5, #T_f4e69_row2_col6, #T_f4e69_row2_col7, #T_f4e69_row3_col0, #T_f4e69_row3_col1, #T_f4e69_row3_col2, #T_f4e69_row3_col3, #T_f4e69_row3_col4, #T_f4e69_row3_col5, #T_f4e69_row3_col6, #T_f4e69_row3_col7, #T_f4e69_row4_col0, #T_f4e69_row4_col1, #T_f4e69_row4_col2, #T_f4e69_row4_col3, #T_f4e69_row4_col4, #T_f4e69_row4_col5, #T_f4e69_row4_col6, #T_f4e69_row4_col7, #T_f4e69_row5_col0, #T_f4e69_row5_col1, #T_f4e69_row5_col2, #T_f4e69_row5_col3, #T_f4e69_row5_col4, #T_f4e69_row5_col5, #T_f4e69_row5_col6, #T_f4e69_row5_col7, #T_f4e69_row6_col0, #T_f4e69_row6_col1, #T_f4e69_row6_col2, #T_f4e69_row6_col3, #T_f4e69_row6_col4, #T_f4e69_row6_col5, #T_f4e69_row6_col6, #T_f4e69_row6_col7, #T_f4e69_row7_col0, #T_f4e69_row7_col1, #T_f4e69_row7_col2, #T_f4e69_row7_col3, #T_f4e69_row7_col4, #T_f4e69_row7_col5, #T_f4e69_row7_col6, #T_f4e69_row7_col7, #T_f4e69_row8_col0, #T_f4e69_row8_col1, #T_f4e69_row8_col2, #T_f4e69_row8_col3, #T_f4e69_row8_col4, #T_f4e69_row8_col5, #T_f4e69_row8_col6, #T_f4e69_row8_col7, #T_f4e69_row9_col0, #T_f4e69_row9_col1, #T_f4e69_row9_col2, #T_f4e69_row9_col3, #T_f4e69_row9_col4, #T_f4e69_row9_col5, #T_f4e69_row9_col6, #T_f4e69_row9_col7, #T_f4e69_row10_col0, #T_f4e69_row10_col1, #T_f4e69_row10_col2, #T_f4e69_row10_col3, #T_f4e69_row10_col4, #T_f4e69_row10_col5, #T_f4e69_row10_col6, #T_f4e69_row10_col7, #T_f4e69_row11_col0, #T_f4e69_row11_col1, #T_f4e69_row11_col2, #T_f4e69_row11_col3, #T_f4e69_row11_col4, #T_f4e69_row11_col5, #T_f4e69_row11_col6, #T_f4e69_row11_col7, #T_f4e69_row12_col0, #T_f4e69_row12_col1, #T_f4e69_row12_col2, #T_f4e69_row12_col3, #T_f4e69_row12_col4, #T_f4e69_row12_col5, #T_f4e69_row12_col6, #T_f4e69_row12_col7, #T_f4e69_row13_col0, #T_f4e69_row13_col1, #T_f4e69_row13_col2, #T_f4e69_row13_col3, #T_f4e69_row13_col4, #T_f4e69_row13_col5, #T_f4e69_row13_col6, #T_f4e69_row13_col7, #T_f4e69_row14_col0, #T_f4e69_row14_col1, #T_f4e69_row14_col2, #T_f4e69_row14_col4, #T_f4e69_row14_col5, #T_f4e69_row14_col6, #T_f4e69_row14_col7 {\n",
              "  text-align: left;\n",
              "}\n",
              "#T_f4e69_row0_col1, #T_f4e69_row0_col2, #T_f4e69_row0_col4, #T_f4e69_row0_col6, #T_f4e69_row0_col7, #T_f4e69_row1_col5, #T_f4e69_row14_col3 {\n",
              "  text-align: left;\n",
              "  background-color: yellow;\n",
              "}\n",
              "#T_f4e69_row0_col8, #T_f4e69_row2_col8, #T_f4e69_row3_col8, #T_f4e69_row4_col8, #T_f4e69_row5_col8, #T_f4e69_row6_col8, #T_f4e69_row7_col8, #T_f4e69_row8_col8, #T_f4e69_row9_col8, #T_f4e69_row10_col8, #T_f4e69_row11_col8, #T_f4e69_row12_col8, #T_f4e69_row13_col8, #T_f4e69_row14_col8 {\n",
              "  text-align: left;\n",
              "  background-color: lightgrey;\n",
              "}\n",
              "#T_f4e69_row1_col8 {\n",
              "  text-align: left;\n",
              "  background-color: yellow;\n",
              "  background-color: lightgrey;\n",
              "}\n",
              "</style>\n",
              "<table id=\"T_f4e69\" class=\"dataframe\">\n",
              "  <thead>\n",
              "    <tr>\n",
              "      <th class=\"blank level0\" >&nbsp;</th>\n",
              "      <th id=\"T_f4e69_level0_col0\" class=\"col_heading level0 col0\" >Model</th>\n",
              "      <th id=\"T_f4e69_level0_col1\" class=\"col_heading level0 col1\" >Accuracy</th>\n",
              "      <th id=\"T_f4e69_level0_col2\" class=\"col_heading level0 col2\" >AUC</th>\n",
              "      <th id=\"T_f4e69_level0_col3\" class=\"col_heading level0 col3\" >Recall</th>\n",
              "      <th id=\"T_f4e69_level0_col4\" class=\"col_heading level0 col4\" >Prec.</th>\n",
              "      <th id=\"T_f4e69_level0_col5\" class=\"col_heading level0 col5\" >F1</th>\n",
              "      <th id=\"T_f4e69_level0_col6\" class=\"col_heading level0 col6\" >Kappa</th>\n",
              "      <th id=\"T_f4e69_level0_col7\" class=\"col_heading level0 col7\" >MCC</th>\n",
              "      <th id=\"T_f4e69_level0_col8\" class=\"col_heading level0 col8\" >TT (Sec)</th>\n",
              "    </tr>\n",
              "  </thead>\n",
              "  <tbody>\n",
              "    <tr>\n",
              "      <th id=\"T_f4e69_level0_row0\" class=\"row_heading level0 row0\" >nb</th>\n",
              "      <td id=\"T_f4e69_row0_col0\" class=\"data row0 col0\" >Naive Bayes</td>\n",
              "      <td id=\"T_f4e69_row0_col1\" class=\"data row0 col1\" >0.8446</td>\n",
              "      <td id=\"T_f4e69_row0_col2\" class=\"data row0 col2\" >0.9052</td>\n",
              "      <td id=\"T_f4e69_row0_col3\" class=\"data row0 col3\" >0.8417</td>\n",
              "      <td id=\"T_f4e69_row0_col4\" class=\"data row0 col4\" >0.8719</td>\n",
              "      <td id=\"T_f4e69_row0_col5\" class=\"data row0 col5\" >0.8505</td>\n",
              "      <td id=\"T_f4e69_row0_col6\" class=\"data row0 col6\" >0.6879</td>\n",
              "      <td id=\"T_f4e69_row0_col7\" class=\"data row0 col7\" >0.6988</td>\n",
              "      <td id=\"T_f4e69_row0_col8\" class=\"data row0 col8\" >0.1160</td>\n",
              "    </tr>\n",
              "    <tr>\n",
              "      <th id=\"T_f4e69_level0_row1\" class=\"row_heading level0 row1\" >ridge</th>\n",
              "      <td id=\"T_f4e69_row1_col0\" class=\"data row1 col0\" >Ridge Classifier</td>\n",
              "      <td id=\"T_f4e69_row1_col1\" class=\"data row1 col1\" >0.8307</td>\n",
              "      <td id=\"T_f4e69_row1_col2\" class=\"data row1 col2\" >0.0000</td>\n",
              "      <td id=\"T_f4e69_row1_col3\" class=\"data row1 col3\" >0.8947</td>\n",
              "      <td id=\"T_f4e69_row1_col4\" class=\"data row1 col4\" >0.8186</td>\n",
              "      <td id=\"T_f4e69_row1_col5\" class=\"data row1 col5\" >0.8515</td>\n",
              "      <td id=\"T_f4e69_row1_col6\" class=\"data row1 col6\" >0.6546</td>\n",
              "      <td id=\"T_f4e69_row1_col7\" class=\"data row1 col7\" >0.6657</td>\n",
              "      <td id=\"T_f4e69_row1_col8\" class=\"data row1 col8\" >0.0920</td>\n",
              "    </tr>\n",
              "    <tr>\n",
              "      <th id=\"T_f4e69_level0_row2\" class=\"row_heading level0 row2\" >lr</th>\n",
              "      <td id=\"T_f4e69_row2_col0\" class=\"data row2 col0\" >Logistic Regression</td>\n",
              "      <td id=\"T_f4e69_row2_col1\" class=\"data row2 col1\" >0.8262</td>\n",
              "      <td id=\"T_f4e69_row2_col2\" class=\"data row2 col2\" >0.8941</td>\n",
              "      <td id=\"T_f4e69_row2_col3\" class=\"data row2 col3\" >0.8780</td>\n",
              "      <td id=\"T_f4e69_row2_col4\" class=\"data row2 col4\" >0.8228</td>\n",
              "      <td id=\"T_f4e69_row2_col5\" class=\"data row2 col5\" >0.8460</td>\n",
              "      <td id=\"T_f4e69_row2_col6\" class=\"data row2 col6\" >0.6465</td>\n",
              "      <td id=\"T_f4e69_row2_col7\" class=\"data row2 col7\" >0.6556</td>\n",
              "      <td id=\"T_f4e69_row2_col8\" class=\"data row2 col8\" >0.2470</td>\n",
              "    </tr>\n",
              "    <tr>\n",
              "      <th id=\"T_f4e69_level0_row3\" class=\"row_heading level0 row3\" >lda</th>\n",
              "      <td id=\"T_f4e69_row3_col0\" class=\"data row3 col0\" >Linear Discriminant Analysis</td>\n",
              "      <td id=\"T_f4e69_row3_col1\" class=\"data row3 col1\" >0.8260</td>\n",
              "      <td id=\"T_f4e69_row3_col2\" class=\"data row3 col2\" >0.8940</td>\n",
              "      <td id=\"T_f4e69_row3_col3\" class=\"data row3 col3\" >0.8947</td>\n",
              "      <td id=\"T_f4e69_row3_col4\" class=\"data row3 col4\" >0.8122</td>\n",
              "      <td id=\"T_f4e69_row3_col5\" class=\"data row3 col5\" >0.8482</td>\n",
              "      <td id=\"T_f4e69_row3_col6\" class=\"data row3 col6\" >0.6442</td>\n",
              "      <td id=\"T_f4e69_row3_col7\" class=\"data row3 col7\" >0.6556</td>\n",
              "      <td id=\"T_f4e69_row3_col8\" class=\"data row3 col8\" >0.1160</td>\n",
              "    </tr>\n",
              "    <tr>\n",
              "      <th id=\"T_f4e69_level0_row4\" class=\"row_heading level0 row4\" >knn</th>\n",
              "      <td id=\"T_f4e69_row4_col0\" class=\"data row4 col0\" >K Neighbors Classifier</td>\n",
              "      <td id=\"T_f4e69_row4_col1\" class=\"data row4 col1\" >0.8128</td>\n",
              "      <td id=\"T_f4e69_row4_col2\" class=\"data row4 col2\" >0.8837</td>\n",
              "      <td id=\"T_f4e69_row4_col3\" class=\"data row4 col3\" >0.8629</td>\n",
              "      <td id=\"T_f4e69_row4_col4\" class=\"data row4 col4\" >0.8192</td>\n",
              "      <td id=\"T_f4e69_row4_col5\" class=\"data row4 col5\" >0.8350</td>\n",
              "      <td id=\"T_f4e69_row4_col6\" class=\"data row4 col6\" >0.6195</td>\n",
              "      <td id=\"T_f4e69_row4_col7\" class=\"data row4 col7\" >0.6307</td>\n",
              "      <td id=\"T_f4e69_row4_col8\" class=\"data row4 col8\" >0.2060</td>\n",
              "    </tr>\n",
              "    <tr>\n",
              "      <th id=\"T_f4e69_level0_row5\" class=\"row_heading level0 row5\" >et</th>\n",
              "      <td id=\"T_f4e69_row5_col0\" class=\"data row5 col0\" >Extra Trees Classifier</td>\n",
              "      <td id=\"T_f4e69_row5_col1\" class=\"data row5 col1\" >0.8071</td>\n",
              "      <td id=\"T_f4e69_row5_col2\" class=\"data row5 col2\" >0.8971</td>\n",
              "      <td id=\"T_f4e69_row5_col3\" class=\"data row5 col3\" >0.8341</td>\n",
              "      <td id=\"T_f4e69_row5_col4\" class=\"data row5 col4\" >0.8176</td>\n",
              "      <td id=\"T_f4e69_row5_col5\" class=\"data row5 col5\" >0.8226</td>\n",
              "      <td id=\"T_f4e69_row5_col6\" class=\"data row5 col6\" >0.6101</td>\n",
              "      <td id=\"T_f4e69_row5_col7\" class=\"data row5 col7\" >0.6151</td>\n",
              "      <td id=\"T_f4e69_row5_col8\" class=\"data row5 col8\" >0.2730</td>\n",
              "    </tr>\n",
              "    <tr>\n",
              "      <th id=\"T_f4e69_level0_row6\" class=\"row_heading level0 row6\" >rf</th>\n",
              "      <td id=\"T_f4e69_row6_col0\" class=\"data row6 col0\" >Random Forest Classifier</td>\n",
              "      <td id=\"T_f4e69_row6_col1\" class=\"data row6 col1\" >0.7978</td>\n",
              "      <td id=\"T_f4e69_row6_col2\" class=\"data row6 col2\" >0.8763</td>\n",
              "      <td id=\"T_f4e69_row6_col3\" class=\"data row6 col3\" >0.8432</td>\n",
              "      <td id=\"T_f4e69_row6_col4\" class=\"data row6 col4\" >0.8002</td>\n",
              "      <td id=\"T_f4e69_row6_col5\" class=\"data row6 col5\" >0.8177</td>\n",
              "      <td id=\"T_f4e69_row6_col6\" class=\"data row6 col6\" >0.5900</td>\n",
              "      <td id=\"T_f4e69_row6_col7\" class=\"data row6 col7\" >0.5974</td>\n",
              "      <td id=\"T_f4e69_row6_col8\" class=\"data row6 col8\" >0.2680</td>\n",
              "    </tr>\n",
              "    <tr>\n",
              "      <th id=\"T_f4e69_level0_row7\" class=\"row_heading level0 row7\" >xgboost</th>\n",
              "      <td id=\"T_f4e69_row7_col0\" class=\"data row7 col0\" >Extreme Gradient Boosting</td>\n",
              "      <td id=\"T_f4e69_row7_col1\" class=\"data row7 col1\" >0.7978</td>\n",
              "      <td id=\"T_f4e69_row7_col2\" class=\"data row7 col2\" >0.8707</td>\n",
              "      <td id=\"T_f4e69_row7_col3\" class=\"data row7 col3\" >0.8258</td>\n",
              "      <td id=\"T_f4e69_row7_col4\" class=\"data row7 col4\" >0.8128</td>\n",
              "      <td id=\"T_f4e69_row7_col5\" class=\"data row7 col5\" >0.8133</td>\n",
              "      <td id=\"T_f4e69_row7_col6\" class=\"data row7 col6\" >0.5913</td>\n",
              "      <td id=\"T_f4e69_row7_col7\" class=\"data row7 col7\" >0.6012</td>\n",
              "      <td id=\"T_f4e69_row7_col8\" class=\"data row7 col8\" >0.1500</td>\n",
              "    </tr>\n",
              "    <tr>\n",
              "      <th id=\"T_f4e69_level0_row8\" class=\"row_heading level0 row8\" >lightgbm</th>\n",
              "      <td id=\"T_f4e69_row8_col0\" class=\"data row8 col0\" >Light Gradient Boosting Machine</td>\n",
              "      <td id=\"T_f4e69_row8_col1\" class=\"data row8 col1\" >0.7831</td>\n",
              "      <td id=\"T_f4e69_row8_col2\" class=\"data row8 col2\" >0.8604</td>\n",
              "      <td id=\"T_f4e69_row8_col3\" class=\"data row8 col3\" >0.8174</td>\n",
              "      <td id=\"T_f4e69_row8_col4\" class=\"data row8 col4\" >0.7884</td>\n",
              "      <td id=\"T_f4e69_row8_col5\" class=\"data row8 col5\" >0.8003</td>\n",
              "      <td id=\"T_f4e69_row8_col6\" class=\"data row8 col6\" >0.5614</td>\n",
              "      <td id=\"T_f4e69_row8_col7\" class=\"data row8 col7\" >0.5664</td>\n",
              "      <td id=\"T_f4e69_row8_col8\" class=\"data row8 col8\" >0.1440</td>\n",
              "    </tr>\n",
              "    <tr>\n",
              "      <th id=\"T_f4e69_level0_row9\" class=\"row_heading level0 row9\" >qda</th>\n",
              "      <td id=\"T_f4e69_row9_col0\" class=\"data row9 col0\" >Quadratic Discriminant Analysis</td>\n",
              "      <td id=\"T_f4e69_row9_col1\" class=\"data row9 col1\" >0.7788</td>\n",
              "      <td id=\"T_f4e69_row9_col2\" class=\"data row9 col2\" >0.8856</td>\n",
              "      <td id=\"T_f4e69_row9_col3\" class=\"data row9 col3\" >0.8000</td>\n",
              "      <td id=\"T_f4e69_row9_col4\" class=\"data row9 col4\" >0.8006</td>\n",
              "      <td id=\"T_f4e69_row9_col5\" class=\"data row9 col5\" >0.7952</td>\n",
              "      <td id=\"T_f4e69_row9_col6\" class=\"data row9 col6\" >0.5542</td>\n",
              "      <td id=\"T_f4e69_row9_col7\" class=\"data row9 col7\" >0.5629</td>\n",
              "      <td id=\"T_f4e69_row9_col8\" class=\"data row9 col8\" >0.1630</td>\n",
              "    </tr>\n",
              "    <tr>\n",
              "      <th id=\"T_f4e69_level0_row10\" class=\"row_heading level0 row10\" >ada</th>\n",
              "      <td id=\"T_f4e69_row10_col0\" class=\"data row10 col0\" >Ada Boost Classifier</td>\n",
              "      <td id=\"T_f4e69_row10_col1\" class=\"data row10 col1\" >0.7697</td>\n",
              "      <td id=\"T_f4e69_row10_col2\" class=\"data row10 col2\" >0.8287</td>\n",
              "      <td id=\"T_f4e69_row10_col3\" class=\"data row10 col3\" >0.7924</td>\n",
              "      <td id=\"T_f4e69_row10_col4\" class=\"data row10 col4\" >0.7889</td>\n",
              "      <td id=\"T_f4e69_row10_col5\" class=\"data row10 col5\" >0.7887</td>\n",
              "      <td id=\"T_f4e69_row10_col6\" class=\"data row10 col6\" >0.5345</td>\n",
              "      <td id=\"T_f4e69_row10_col7\" class=\"data row10 col7\" >0.5372</td>\n",
              "      <td id=\"T_f4e69_row10_col8\" class=\"data row10 col8\" >0.3370</td>\n",
              "    </tr>\n",
              "    <tr>\n",
              "      <th id=\"T_f4e69_level0_row11\" class=\"row_heading level0 row11\" >svm</th>\n",
              "      <td id=\"T_f4e69_row11_col0\" class=\"data row11 col0\" >SVM - Linear Kernel</td>\n",
              "      <td id=\"T_f4e69_row11_col1\" class=\"data row11 col1\" >0.7693</td>\n",
              "      <td id=\"T_f4e69_row11_col2\" class=\"data row11 col2\" >0.0000</td>\n",
              "      <td id=\"T_f4e69_row11_col3\" class=\"data row11 col3\" >0.8152</td>\n",
              "      <td id=\"T_f4e69_row11_col4\" class=\"data row11 col4\" >0.7852</td>\n",
              "      <td id=\"T_f4e69_row11_col5\" class=\"data row11 col5\" >0.7912</td>\n",
              "      <td id=\"T_f4e69_row11_col6\" class=\"data row11 col6\" >0.5308</td>\n",
              "      <td id=\"T_f4e69_row11_col7\" class=\"data row11 col7\" >0.5495</td>\n",
              "      <td id=\"T_f4e69_row11_col8\" class=\"data row11 col8\" >0.0950</td>\n",
              "    </tr>\n",
              "    <tr>\n",
              "      <th id=\"T_f4e69_level0_row12\" class=\"row_heading level0 row12\" >gbc</th>\n",
              "      <td id=\"T_f4e69_row12_col0\" class=\"data row12 col0\" >Gradient Boosting Classifier</td>\n",
              "      <td id=\"T_f4e69_row12_col1\" class=\"data row12 col1\" >0.7645</td>\n",
              "      <td id=\"T_f4e69_row12_col2\" class=\"data row12 col2\" >0.8661</td>\n",
              "      <td id=\"T_f4e69_row12_col3\" class=\"data row12 col3\" >0.7833</td>\n",
              "      <td id=\"T_f4e69_row12_col4\" class=\"data row12 col4\" >0.7858</td>\n",
              "      <td id=\"T_f4e69_row12_col5\" class=\"data row12 col5\" >0.7799</td>\n",
              "      <td id=\"T_f4e69_row12_col6\" class=\"data row12 col6\" >0.5264</td>\n",
              "      <td id=\"T_f4e69_row12_col7\" class=\"data row12 col7\" >0.5339</td>\n",
              "      <td id=\"T_f4e69_row12_col8\" class=\"data row12 col8\" >0.2140</td>\n",
              "    </tr>\n",
              "    <tr>\n",
              "      <th id=\"T_f4e69_level0_row13\" class=\"row_heading level0 row13\" >dt</th>\n",
              "      <td id=\"T_f4e69_row13_col0\" class=\"data row13 col0\" >Decision Tree Classifier</td>\n",
              "      <td id=\"T_f4e69_row13_col1\" class=\"data row13 col1\" >0.7123</td>\n",
              "      <td id=\"T_f4e69_row13_col2\" class=\"data row13 col2\" >0.7090</td>\n",
              "      <td id=\"T_f4e69_row13_col3\" class=\"data row13 col3\" >0.7470</td>\n",
              "      <td id=\"T_f4e69_row13_col4\" class=\"data row13 col4\" >0.7206</td>\n",
              "      <td id=\"T_f4e69_row13_col5\" class=\"data row13 col5\" >0.7280</td>\n",
              "      <td id=\"T_f4e69_row13_col6\" class=\"data row13 col6\" >0.4207</td>\n",
              "      <td id=\"T_f4e69_row13_col7\" class=\"data row13 col7\" >0.4302</td>\n",
              "      <td id=\"T_f4e69_row13_col8\" class=\"data row13 col8\" >0.1210</td>\n",
              "    </tr>\n",
              "    <tr>\n",
              "      <th id=\"T_f4e69_level0_row14\" class=\"row_heading level0 row14\" >dummy</th>\n",
              "      <td id=\"T_f4e69_row14_col0\" class=\"data row14 col0\" >Dummy Classifier</td>\n",
              "      <td id=\"T_f4e69_row14_col1\" class=\"data row14 col1\" >0.5424</td>\n",
              "      <td id=\"T_f4e69_row14_col2\" class=\"data row14 col2\" >0.5000</td>\n",
              "      <td id=\"T_f4e69_row14_col3\" class=\"data row14 col3\" >1.0000</td>\n",
              "      <td id=\"T_f4e69_row14_col4\" class=\"data row14 col4\" >0.5424</td>\n",
              "      <td id=\"T_f4e69_row14_col5\" class=\"data row14 col5\" >0.7031</td>\n",
              "      <td id=\"T_f4e69_row14_col6\" class=\"data row14 col6\" >0.0000</td>\n",
              "      <td id=\"T_f4e69_row14_col7\" class=\"data row14 col7\" >0.0000</td>\n",
              "      <td id=\"T_f4e69_row14_col8\" class=\"data row14 col8\" >0.2160</td>\n",
              "    </tr>\n",
              "  </tbody>\n",
              "</table>\n"
            ]
          },
          "metadata": {}
        },
        {
          "output_type": "display_data",
          "data": {
            "text/plain": [
              "Processing:   0%|          | 0/65 [00:00<?, ?it/s]"
            ],
            "application/vnd.jupyter.widget-view+json": {
              "version_major": 2,
              "version_minor": 0,
              "model_id": "b3d0e061a0d94f948b2d952aec30bb10"
            }
          },
          "metadata": {
            "application/vnd.jupyter.widget-view+json": {
              "colab": {
                "custom_widget_manager": {
                  "url": "https://ssl.gstatic.com/colaboratory-static/widgets/colab-cdn-widget-manager/b3e629b1971e1542/manager.min.js"
                }
              }
            }
          }
        },
        {
          "output_type": "display_data",
          "data": {
            "text/plain": [
              "<IPython.core.display.HTML object>"
            ],
            "text/html": []
          },
          "metadata": {}
        }
      ]
    },
    {
      "cell_type": "code",
      "source": [
        "plot_model(best_model,plot='auc')"
      ],
      "metadata": {
        "colab": {
          "base_uri": "https://localhost:8080/",
          "height": 524
        },
        "id": "lfgoDbavvL3c",
        "outputId": "8df02e3c-5f3d-4294-9961-266a0ed8aa92"
      },
      "execution_count": 46,
      "outputs": [
        {
          "output_type": "display_data",
          "data": {
            "text/plain": [
              "<IPython.core.display.HTML object>"
            ],
            "text/html": []
          },
          "metadata": {}
        },
        {
          "output_type": "display_data",
          "data": {
            "text/plain": [
              "<Figure size 800x550 with 1 Axes>"
            ],
            "image/png": "[encoded data removed]"
          },
          "metadata": {}
        }
      ]
    },
    {
      "cell_type": "code",
      "source": [
        "#interpret_model(best_model)"
      ],
      "metadata": {
        "id": "gkI_zUKdvL02"
      },
      "execution_count": 47,
      "outputs": []
    },
    {
      "cell_type": "markdown",
      "source": [
        "The above line of code throws error<br/>\n",
        "**This makes sense because we cannot trigger an interpret funciton on a Gaussian NB. So lets try this on the first-best tree based classifier i.e Extra Trees Classifier.**"
      ],
      "metadata": {
        "id": "LzGb4QTSwdm4"
      }
    },
    {
      "cell_type": "code",
      "source": [
        "#et - Extra Trees Classifier\n",
        "et_model=create_model('et',fold=10)"
      ],
      "metadata": {
        "colab": {
          "base_uri": "https://localhost:8080/",
          "height": 457,
          "referenced_widgets": [
            "5af2ca371be04701bc2262bb9823c458",
            "fbe3857d04d647b7a245d23eb625f6ce",
            "2fac0a164ec74f7088d6bdc5779c8702",
            "1283e790948c4b7b8377d881800ed3bf",
            "6099d9684eae40379351e57f644c4fac",
            "c9a0aa3fef1d45c4b32c5297e9632888",
            "f1c9f186d9654596816a542eb1b267e1",
            "25b020d82ad04999a4564aeef19fd3b7",
            "274261083a4b4b308cffe1d01a8e6982",
            "2c99d1bcfb6740a383d66b1e06353ca9",
            "556ddc49147a4a45b3765bd1ee22531b"
          ]
        },
        "id": "Qp-pKwqXvLyP",
        "outputId": "618747f8-11d5-45bb-c681-b695725186c1"
      },
      "execution_count": 48,
      "outputs": [
        {
          "output_type": "display_data",
          "data": {
            "text/plain": [
              "<IPython.core.display.HTML object>"
            ],
            "text/html": []
          },
          "metadata": {}
        },
        {
          "output_type": "display_data",
          "data": {
            "text/plain": [
              "<pandas.io.formats.style.Styler at 0x7f154aee3a90>"
            ],
            "text/html": [
              "<style type=\"text/css\">\n",
              "#T_83449_row10_col0, #T_83449_row10_col1, #T_83449_row10_col2, #T_83449_row10_col3, #T_83449_row10_col4, #T_83449_row10_col5, #T_83449_row10_col6 {\n",
              "  background: yellow;\n",
              "}\n",
              "</style>\n",
              "<table id=\"T_83449\" class=\"dataframe\">\n",
              "  <thead>\n",
              "    <tr>\n",
              "      <th class=\"blank level0\" >&nbsp;</th>\n",
              "      <th id=\"T_83449_level0_col0\" class=\"col_heading level0 col0\" >Accuracy</th>\n",
              "      <th id=\"T_83449_level0_col1\" class=\"col_heading level0 col1\" >AUC</th>\n",
              "      <th id=\"T_83449_level0_col2\" class=\"col_heading level0 col2\" >Recall</th>\n",
              "      <th id=\"T_83449_level0_col3\" class=\"col_heading level0 col3\" >Prec.</th>\n",
              "      <th id=\"T_83449_level0_col4\" class=\"col_heading level0 col4\" >F1</th>\n",
              "      <th id=\"T_83449_level0_col5\" class=\"col_heading level0 col5\" >Kappa</th>\n",
              "      <th id=\"T_83449_level0_col6\" class=\"col_heading level0 col6\" >MCC</th>\n",
              "    </tr>\n",
              "    <tr>\n",
              "      <th class=\"index_name level0\" >Fold</th>\n",
              "      <th class=\"blank col0\" >&nbsp;</th>\n",
              "      <th class=\"blank col1\" >&nbsp;</th>\n",
              "      <th class=\"blank col2\" >&nbsp;</th>\n",
              "      <th class=\"blank col3\" >&nbsp;</th>\n",
              "      <th class=\"blank col4\" >&nbsp;</th>\n",
              "      <th class=\"blank col5\" >&nbsp;</th>\n",
              "      <th class=\"blank col6\" >&nbsp;</th>\n",
              "    </tr>\n",
              "  </thead>\n",
              "  <tbody>\n",
              "    <tr>\n",
              "      <th id=\"T_83449_level0_row0\" class=\"row_heading level0 row0\" >0</th>\n",
              "      <td id=\"T_83449_row0_col0\" class=\"data row0 col0\" >0.7273</td>\n",
              "      <td id=\"T_83449_row0_col1\" class=\"data row0 col1\" >0.7542</td>\n",
              "      <td id=\"T_83449_row0_col2\" class=\"data row0 col2\" >0.8333</td>\n",
              "      <td id=\"T_83449_row0_col3\" class=\"data row0 col3\" >0.7143</td>\n",
              "      <td id=\"T_83449_row0_col4\" class=\"data row0 col4\" >0.7692</td>\n",
              "      <td id=\"T_83449_row0_col5\" class=\"data row0 col5\" >0.4407</td>\n",
              "      <td id=\"T_83449_row0_col6\" class=\"data row0 col6\" >0.4485</td>\n",
              "    </tr>\n",
              "    <tr>\n",
              "      <th id=\"T_83449_level0_row1\" class=\"row_heading level0 row1\" >1</th>\n",
              "      <td id=\"T_83449_row1_col0\" class=\"data row1 col0\" >0.7727</td>\n",
              "      <td id=\"T_83449_row1_col1\" class=\"data row1 col1\" >0.8708</td>\n",
              "      <td id=\"T_83449_row1_col2\" class=\"data row1 col2\" >0.8333</td>\n",
              "      <td id=\"T_83449_row1_col3\" class=\"data row1 col3\" >0.7692</td>\n",
              "      <td id=\"T_83449_row1_col4\" class=\"data row1 col4\" >0.8000</td>\n",
              "      <td id=\"T_83449_row1_col5\" class=\"data row1 col5\" >0.5378</td>\n",
              "      <td id=\"T_83449_row1_col6\" class=\"data row1 col6\" >0.5401</td>\n",
              "    </tr>\n",
              "    <tr>\n",
              "      <th id=\"T_83449_level0_row2\" class=\"row_heading level0 row2\" >2</th>\n",
              "      <td id=\"T_83449_row2_col0\" class=\"data row2 col0\" >0.7619</td>\n",
              "      <td id=\"T_83449_row2_col1\" class=\"data row2 col1\" >0.8455</td>\n",
              "      <td id=\"T_83449_row2_col2\" class=\"data row2 col2\" >0.6364</td>\n",
              "      <td id=\"T_83449_row2_col3\" class=\"data row2 col3\" >0.8750</td>\n",
              "      <td id=\"T_83449_row2_col4\" class=\"data row2 col4\" >0.7368</td>\n",
              "      <td id=\"T_83449_row2_col5\" class=\"data row2 col5\" >0.5291</td>\n",
              "      <td id=\"T_83449_row2_col6\" class=\"data row2 col6\" >0.5516</td>\n",
              "    </tr>\n",
              "    <tr>\n",
              "      <th id=\"T_83449_level0_row3\" class=\"row_heading level0 row3\" >3</th>\n",
              "      <td id=\"T_83449_row3_col0\" class=\"data row3 col0\" >0.7619</td>\n",
              "      <td id=\"T_83449_row3_col1\" class=\"data row3 col1\" >0.8318</td>\n",
              "      <td id=\"T_83449_row3_col2\" class=\"data row3 col2\" >0.8182</td>\n",
              "      <td id=\"T_83449_row3_col3\" class=\"data row3 col3\" >0.7500</td>\n",
              "      <td id=\"T_83449_row3_col4\" class=\"data row3 col4\" >0.7826</td>\n",
              "      <td id=\"T_83449_row3_col5\" class=\"data row3 col5\" >0.5205</td>\n",
              "      <td id=\"T_83449_row3_col6\" class=\"data row3 col6\" >0.5230</td>\n",
              "    </tr>\n",
              "    <tr>\n",
              "      <th id=\"T_83449_level0_row4\" class=\"row_heading level0 row4\" >4</th>\n",
              "      <td id=\"T_83449_row4_col0\" class=\"data row4 col0\" >0.9524</td>\n",
              "      <td id=\"T_83449_row4_col1\" class=\"data row4 col1\" >0.9909</td>\n",
              "      <td id=\"T_83449_row4_col2\" class=\"data row4 col2\" >1.0000</td>\n",
              "      <td id=\"T_83449_row4_col3\" class=\"data row4 col3\" >0.9167</td>\n",
              "      <td id=\"T_83449_row4_col4\" class=\"data row4 col4\" >0.9565</td>\n",
              "      <td id=\"T_83449_row4_col5\" class=\"data row4 col5\" >0.9041</td>\n",
              "      <td id=\"T_83449_row4_col6\" class=\"data row4 col6\" >0.9083</td>\n",
              "    </tr>\n",
              "    <tr>\n",
              "      <th id=\"T_83449_level0_row5\" class=\"row_heading level0 row5\" >5</th>\n",
              "      <td id=\"T_83449_row5_col0\" class=\"data row5 col0\" >0.8095</td>\n",
              "      <td id=\"T_83449_row5_col1\" class=\"data row5 col1\" >0.9636</td>\n",
              "      <td id=\"T_83449_row5_col2\" class=\"data row5 col2\" >0.8182</td>\n",
              "      <td id=\"T_83449_row5_col3\" class=\"data row5 col3\" >0.8182</td>\n",
              "      <td id=\"T_83449_row5_col4\" class=\"data row5 col4\" >0.8182</td>\n",
              "      <td id=\"T_83449_row5_col5\" class=\"data row5 col5\" >0.6182</td>\n",
              "      <td id=\"T_83449_row5_col6\" class=\"data row5 col6\" >0.6182</td>\n",
              "    </tr>\n",
              "    <tr>\n",
              "      <th id=\"T_83449_level0_row6\" class=\"row_heading level0 row6\" >6</th>\n",
              "      <td id=\"T_83449_row6_col0\" class=\"data row6 col0\" >0.7619</td>\n",
              "      <td id=\"T_83449_row6_col1\" class=\"data row6 col1\" >0.9182</td>\n",
              "      <td id=\"T_83449_row6_col2\" class=\"data row6 col2\" >0.8182</td>\n",
              "      <td id=\"T_83449_row6_col3\" class=\"data row6 col3\" >0.7500</td>\n",
              "      <td id=\"T_83449_row6_col4\" class=\"data row6 col4\" >0.7826</td>\n",
              "      <td id=\"T_83449_row6_col5\" class=\"data row6 col5\" >0.5205</td>\n",
              "      <td id=\"T_83449_row6_col6\" class=\"data row6 col6\" >0.5230</td>\n",
              "    </tr>\n",
              "    <tr>\n",
              "      <th id=\"T_83449_level0_row7\" class=\"row_heading level0 row7\" >7</th>\n",
              "      <td id=\"T_83449_row7_col0\" class=\"data row7 col0\" >0.8571</td>\n",
              "      <td id=\"T_83449_row7_col1\" class=\"data row7 col1\" >0.9352</td>\n",
              "      <td id=\"T_83449_row7_col2\" class=\"data row7 col2\" >0.8333</td>\n",
              "      <td id=\"T_83449_row7_col3\" class=\"data row7 col3\" >0.9091</td>\n",
              "      <td id=\"T_83449_row7_col4\" class=\"data row7 col4\" >0.8696</td>\n",
              "      <td id=\"T_83449_row7_col5\" class=\"data row7 col5\" >0.7123</td>\n",
              "      <td id=\"T_83449_row7_col6\" class=\"data row7 col6\" >0.7156</td>\n",
              "    </tr>\n",
              "    <tr>\n",
              "      <th id=\"T_83449_level0_row8\" class=\"row_heading level0 row8\" >8</th>\n",
              "      <td id=\"T_83449_row8_col0\" class=\"data row8 col0\" >0.7143</td>\n",
              "      <td id=\"T_83449_row8_col1\" class=\"data row8 col1\" >0.8704</td>\n",
              "      <td id=\"T_83449_row8_col2\" class=\"data row8 col2\" >0.7500</td>\n",
              "      <td id=\"T_83449_row8_col3\" class=\"data row8 col3\" >0.7500</td>\n",
              "      <td id=\"T_83449_row8_col4\" class=\"data row8 col4\" >0.7500</td>\n",
              "      <td id=\"T_83449_row8_col5\" class=\"data row8 col5\" >0.4167</td>\n",
              "      <td id=\"T_83449_row8_col6\" class=\"data row8 col6\" >0.4167</td>\n",
              "    </tr>\n",
              "    <tr>\n",
              "      <th id=\"T_83449_level0_row9\" class=\"row_heading level0 row9\" >9</th>\n",
              "      <td id=\"T_83449_row9_col0\" class=\"data row9 col0\" >0.9524</td>\n",
              "      <td id=\"T_83449_row9_col1\" class=\"data row9 col1\" >0.9907</td>\n",
              "      <td id=\"T_83449_row9_col2\" class=\"data row9 col2\" >1.0000</td>\n",
              "      <td id=\"T_83449_row9_col3\" class=\"data row9 col3\" >0.9231</td>\n",
              "      <td id=\"T_83449_row9_col4\" class=\"data row9 col4\" >0.9600</td>\n",
              "      <td id=\"T_83449_row9_col5\" class=\"data row9 col5\" >0.9014</td>\n",
              "      <td id=\"T_83449_row9_col6\" class=\"data row9 col6\" >0.9058</td>\n",
              "    </tr>\n",
              "    <tr>\n",
              "      <th id=\"T_83449_level0_row10\" class=\"row_heading level0 row10\" >Mean</th>\n",
              "      <td id=\"T_83449_row10_col0\" class=\"data row10 col0\" >0.8071</td>\n",
              "      <td id=\"T_83449_row10_col1\" class=\"data row10 col1\" >0.8971</td>\n",
              "      <td id=\"T_83449_row10_col2\" class=\"data row10 col2\" >0.8341</td>\n",
              "      <td id=\"T_83449_row10_col3\" class=\"data row10 col3\" >0.8176</td>\n",
              "      <td id=\"T_83449_row10_col4\" class=\"data row10 col4\" >0.8226</td>\n",
              "      <td id=\"T_83449_row10_col5\" class=\"data row10 col5\" >0.6101</td>\n",
              "      <td id=\"T_83449_row10_col6\" class=\"data row10 col6\" >0.6151</td>\n",
              "    </tr>\n",
              "    <tr>\n",
              "      <th id=\"T_83449_level0_row11\" class=\"row_heading level0 row11\" >Std</th>\n",
              "      <td id=\"T_83449_row11_col0\" class=\"data row11 col0\" >0.0819</td>\n",
              "      <td id=\"T_83449_row11_col1\" class=\"data row11 col1\" >0.0726</td>\n",
              "      <td id=\"T_83449_row11_col2\" class=\"data row11 col2\" >0.1010</td>\n",
              "      <td id=\"T_83449_row11_col3\" class=\"data row11 col3\" >0.0770</td>\n",
              "      <td id=\"T_83449_row11_col4\" class=\"data row11 col4\" >0.0763</td>\n",
              "      <td id=\"T_83449_row11_col5\" class=\"data row11 col5\" >0.1661</td>\n",
              "      <td id=\"T_83449_row11_col6\" class=\"data row11 col6\" >0.1656</td>\n",
              "    </tr>\n",
              "  </tbody>\n",
              "</table>\n"
            ]
          },
          "metadata": {}
        },
        {
          "output_type": "display_data",
          "data": {
            "text/plain": [
              "Processing:   0%|          | 0/4 [00:00<?, ?it/s]"
            ],
            "application/vnd.jupyter.widget-view+json": {
              "version_major": 2,
              "version_minor": 0,
              "model_id": "5af2ca371be04701bc2262bb9823c458"
            }
          },
          "metadata": {
            "application/vnd.jupyter.widget-view+json": {
              "colab": {
                "custom_widget_manager": {
                  "url": "https://ssl.gstatic.com/colaboratory-static/widgets/colab-cdn-widget-manager/b3e629b1971e1542/manager.min.js"
                }
              }
            }
          }
        },
        {
          "output_type": "display_data",
          "data": {
            "text/plain": [
              "<IPython.core.display.HTML object>"
            ],
            "text/html": []
          },
          "metadata": {}
        }
      ]
    },
    {
      "cell_type": "code",
      "source": [
        "plot_model(et_model,plot='auc')"
      ],
      "metadata": {
        "colab": {
          "base_uri": "https://localhost:8080/",
          "height": 524
        },
        "id": "vIlYA_wqvLvY",
        "outputId": "e58945fa-2a9d-4f9a-8976-3f96bc17055e"
      },
      "execution_count": 49,
      "outputs": [
        {
          "output_type": "display_data",
          "data": {
            "text/plain": [
              "<IPython.core.display.HTML object>"
            ],
            "text/html": []
          },
          "metadata": {}
        },
        {
          "output_type": "display_data",
          "data": {
            "text/plain": [
              "<Figure size 800x550 with 1 Axes>"
            ],
            "image/png": "[encoded data removed]"
          },
          "metadata": {}
        }
      ]
    },
    {
      "cell_type": "markdown",
      "source": [
        "**SHAP analysis on the models from step 3**"
      ],
      "metadata": {
        "id": "b6d7XT1RymMw"
      }
    },
    {
      "cell_type": "code",
      "source": [
        "interpret_model(et_model)"
      ],
      "metadata": {
        "colab": {
          "base_uri": "https://localhost:8080/",
          "height": 670
        },
        "id": "lYWSP9BcvLsr",
        "outputId": "04ad9182-5216-4ede-f4a7-5dd792941df5"
      },
      "execution_count": 50,
      "outputs": [
        {
          "output_type": "display_data",
          "data": {
            "text/plain": [
              "<Figure size 800x670 with 2 Axes>"
            ],
            "image/png": "[encoded data removed]"
          },
          "metadata": {}
        }
      ]
    },
    {
      "cell_type": "markdown",
      "source": [
        "**Intepreting the SHAP values:** <br/> \n",
        "the above plot says cp, slp, thalachh are the most important features, Since the above plot indicates cp,slp and thalachh having positive values to the value of output as 1\n",
        "\n",
        "The partial dependence plots from the previous assignment shows that caa, cp, thalachh are the important features of the dataset"
      ],
      "metadata": {
        "id": "_f62f3ibd9Y2"
      }
    },
    {
      "cell_type": "code",
      "source": [
        "plot_model(et_model,plot='feature')"
      ],
      "metadata": {
        "colab": {
          "base_uri": "https://localhost:8080/",
          "height": 485
        },
        "id": "1fivxaGixKlO",
        "outputId": "1857e946-4ca5-4817-d812-e636eae58f22"
      },
      "execution_count": 51,
      "outputs": [
        {
          "output_type": "display_data",
          "data": {
            "text/plain": [
              "<IPython.core.display.HTML object>"
            ],
            "text/html": []
          },
          "metadata": {}
        },
        {
          "output_type": "display_data",
          "data": {
            "text/plain": [
              "<Figure size 800x500 with 1 Axes>"
            ],
            "image/png": "[encoded data removed]"
          },
          "metadata": {}
        }
      ]
    },
    {
      "cell_type": "markdown",
      "source": [
        "**Most important features for this neural network:**<br/>\n",
        "\n",
        "caa: number of major vessels (0-3)<br/>\n",
        "cp: Chest Pain type \n",
        "\n",
        "With this intuition, it's much easier to understand the <a href=\"https://christophm.github.io/interpretable-ml-book/shapley.html#the-shapley-value-in-detail\"> math details of Shapely Values. </a>"
      ],
      "metadata": {
        "id": "zq9VB0sdzCI3"
      }
    },
    {
      "cell_type": "markdown",
      "source": [
        "LICENSE\n",
        "MIT License\n",
        "\n",
        "\n",
        "Copyright (c) 2022 Devika Boddu\n",
        "\n",
        "Permission is hereby granted, free of charge, to any person obtaining a copy of this software and associated documentation files (the \"Software\"), to deal in the Software without restriction, including without limitation the rights to use, copy, modify, merge, publish, distribute, sublicense, and/or sell copies of the Software, and to permit persons to whom the Software is furnished to do so, subject to the following conditions:\n",
        "\n",
        "The above copyright notice and this permission notice shall be included in all copies or substantial portions of the Software.\n",
        "\n",
        "THE SOFTWARE IS PROVIDED \"AS IS\", WITHOUT WARRANTY OF ANY KIND, EXPRESS OR IMPLIED, INCLUDING BUT NOT LIMITED TO THE WARRANTIES OF MERCHANTABILITY, FITNESS FOR A PARTICULAR PURPOSE AND NONINFRINGEMENT. IN NO EVENT SHALL THE AUTHORS OR COPYRIGHT HOLDERS BE LIABLE FOR ANY CLAIM, DAMAGES OR OTHER LIABILITY, WHETHER IN AN ACTION OF CONTRACT, TORT OR OTHERWISE, ARISING FROM, OUT OF OR IN CONNECTION WITH THE SOFTWARE OR THE USE OR OTHER DEALINGS IN THE SOFTWARE."
      ],
      "metadata": {
        "id": "nbgSGempmHfs"
      }
    },
    {
      "cell_type": "markdown",
      "source": [
        "**References**\n",
        "\n",
        "https://pycaret.org/<br/>\n",
        "Dataset- https://www.kaggle.com/datasets/rashikrahmanpritom/heart-attack-analysis-prediction-dataset<br/>\n",
        "Partial Dependence plot: https://github.com/devika-boddu/DataScience-Engineering-Methods/blob/main/Assignment_2.ipynb\n"
      ],
      "metadata": {
        "id": "2l8eTc4xiHUg"
      }
    }
  ]
}